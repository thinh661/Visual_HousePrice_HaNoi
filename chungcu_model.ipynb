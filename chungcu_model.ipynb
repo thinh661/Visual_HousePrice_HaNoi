{
 "cells": [
  {
   "cell_type": "markdown",
   "metadata": {},
   "source": [
    "Đọc dữ liệu, loại bỏ các trường dữ liệu không cần thiết"
   ]
  },
  {
   "cell_type": "code",
   "execution_count": 31,
   "metadata": {},
   "outputs": [],
   "source": [
    "import pandas as pd\n",
    "from sklearn.model_selection import train_test_split\n",
    "from sklearn.ensemble import RandomForestRegressor\n",
    "from sklearn.metrics import mean_squared_error, mean_absolute_error, r2_score\n",
    "from sklearn.preprocessing import OneHotEncoder\n",
    "from sklearn.impute import SimpleImputer\n",
    "from sklearn.pipeline import Pipeline\n",
    "from sklearn.compose import ColumnTransformer\n",
    "from sklearn.preprocessing import StandardScaler\n",
    "\n",
    "# Load the dataset\n",
    "file_path = 'data_proccessed/chungcu_preprocess.csv'\n",
    "df = pd.read_csv(file_path)\n",
    "\n",
    "# Drop columns not needed for prediction\n",
    "df = df.drop(columns=['Link', 'Giá tổng', 'Hướng cửa chính', 'Hướng ban công'])\n",
    "\n",
    "# Separate target and features\n",
    "X = df.drop(columns=['Giá/m²'])\n",
    "y = df['Giá/m²']"
   ]
  },
  {
   "cell_type": "markdown",
   "metadata": {},
   "source": [
    "Tính toán hệ số tương quan của trường Giá/m² với các trường dữ liệu còn lại"
   ]
  },
  {
   "cell_type": "code",
   "execution_count": 32,
   "metadata": {},
   "outputs": [
    {
     "name": "stdout",
     "output_type": "stream",
     "text": [
      "Số phòng ngủ           0.723724\n",
      "Số phòng vệ sinh       0.676813\n",
      "Giấy tờ pháp lý        0.090372\n",
      "Loại hình căn hộ       0.017365\n",
      "Diện tích             -0.002419\n",
      "Tình trạng nội thất    0.019961\n",
      "Xã/Phường             -0.057459\n",
      "Quận/Huyện            -0.018028\n",
      "Name: Giá/m², dtype: float64\n"
     ]
    }
   ],
   "source": [
    "from sklearn.preprocessing import LabelEncoder\n",
    "\n",
    "# Chọn các cột có kiểu dữ liệu string\n",
    "categorical_columns = df.select_dtypes(include=['object']).columns\n",
    "\n",
    "# Chuyển các cột chuỗi thành số bằng LabelEncoder\n",
    "label_encoder = LabelEncoder()\n",
    "\n",
    "for col in categorical_columns:\n",
    "    df[col] = label_encoder.fit_transform(df[col].astype(str))  # Chuyển đổi cột chuỗi thành số\n",
    "\n",
    "# Tính ma trận tương quan giữa các cột\n",
    "correlation_matrix = df.corr()\n",
    "\n",
    "# Lấy hệ số tương quan của \"Giá/m2\" với các cột khác\n",
    "price_per_sqm_correlation = correlation_matrix[\"Giá/m²\"].drop(labels=[\"Giá/m²\"], errors='ignore')\n",
    "\n",
    "# In ra hệ số tương quan\n",
    "print(price_per_sqm_correlation)"
   ]
  },
  {
   "cell_type": "markdown",
   "metadata": {},
   "source": [
    "Độ tương quan thấp -> cần sử dụng các mô hình phi tuyến để đạt hiệu quả cao hơn."
   ]
  },
  {
   "cell_type": "code",
   "execution_count": 17,
   "metadata": {},
   "outputs": [
    {
     "data": {
      "text/plain": [
       "0        50.46\n",
       "1        33.00\n",
       "2        42.06\n",
       "3        33.82\n",
       "4        41.67\n",
       "         ...  \n",
       "2258    104.49\n",
       "2259     72.30\n",
       "2260     56.00\n",
       "2261     85.53\n",
       "2262     88.66\n",
       "Name: Giá/m², Length: 2263, dtype: float64"
      ]
     },
     "execution_count": 17,
     "metadata": {},
     "output_type": "execute_result"
    }
   ],
   "source": [
    "y"
   ]
  },
  {
   "cell_type": "markdown",
   "metadata": {},
   "source": [
    "Mã hóa dữ liệu, áp dụng mô hình "
   ]
  },
  {
   "cell_type": "code",
   "execution_count": null,
   "metadata": {},
   "outputs": [
    {
     "name": "stdout",
     "output_type": "stream",
     "text": [
      "Mean Squared Error: 279.9711359708676\n",
      " Root Mean Squared Error: 16.732338030618063\n",
      "Mean Absolute Error: 9.101031383029353\n",
      "R2 Score: 0.819627660755881\n"
     ]
    },
    {
     "name": "stderr",
     "output_type": "stream",
     "text": [
      "c:\\Users\\This Pc\\AppData\\Local\\Programs\\Python\\Python311\\Lib\\site-packages\\sklearn\\metrics\\_regression.py:483: FutureWarning: 'squared' is deprecated in version 1.4 and will be removed in 1.6. To calculate the root mean squared error, use the function'root_mean_squared_error'.\n",
      "  warnings.warn(\n"
     ]
    }
   ],
   "source": [
    "# Identify categorical and numerical columns\n",
    "categorical_cols = X.select_dtypes(include=['object']).columns\n",
    "numerical_cols = X.select_dtypes(include=['float64', 'int64']).columns\n",
    "\n",
    "# Preprocessing for categorical data: impute missing values and apply one-hot encoding\n",
    "categorical_transformer = Pipeline(steps=[\n",
    "    ('imputer', SimpleImputer(strategy='most_frequent')),\n",
    "    ('onehot', OneHotEncoder(handle_unknown='ignore'))\n",
    "])\n",
    "\n",
    "# Preprocessing for numerical data: impute missing values with mean\n",
    "numerical_transformer = Pipeline(steps=[\n",
    "    ('imputer', SimpleImputer(strategy='mean'))\n",
    "])\n",
    "\n",
    "# Combine preprocessing steps\n",
    "preprocessor = ColumnTransformer(\n",
    "    transformers=[\n",
    "        ('num', numerical_transformer, numerical_cols),\n",
    "        ('cat', categorical_transformer, categorical_cols)\n",
    "    ]\n",
    ")\n",
    "\n",
    "# Define the model\n",
    "model = RandomForestRegressor(random_state=0)\n",
    "\n",
    "# Create the full pipeline with preprocessing and model\n",
    "pipeline = Pipeline(steps=[('preprocessor', preprocessor),\n",
    "                           ('model', model)\n",
    "                          ])\n",
    "\n",
    "# Split the data into training and testing sets\n",
    "X_train, X_test, y_train, y_test = train_test_split(X, y, test_size=0.2, random_state=0)\n",
    "\n",
    "\n",
    "# Train the model\n",
    "pipeline.fit(X_train, y_train)\n",
    "\n",
    "# Make predictions\n",
    "y_pred = pipeline.predict(X_test)\n",
    "\n",
    "# Calculate and print the mean squared error\n",
    "mse = mean_squared_error(y_test, y_pred)\n",
    "print(f\"Mean Squared Error: {mse}\")\n",
    "\n",
    "rmse = mean_squared_error(y_test, y_pred, squared=False)\n",
    "print(f\" Root Mean Squared Error: {rmse}\")\n",
    "rmse\n",
    "\n",
    "mae = mean_absolute_error(y_test, y_pred)\n",
    "print(f\"Mean Absolute Error: {mae}\")\n",
    "\n",
    "r2 = r2_score(y_test, y_pred)\n",
    "print(f\"R2 Score: {r2}\")\n"
   ]
  },
  {
   "cell_type": "code",
   "execution_count": null,
   "metadata": {},
   "outputs": [],
   "source": [
    "pip install xgboost"
   ]
  },
  {
   "cell_type": "code",
   "execution_count": 36,
   "metadata": {},
   "outputs": [
    {
     "name": "stdout",
     "output_type": "stream",
     "text": [
      "Mean Squared Error: 275.3181755212573\n",
      " Root Mean Squared Error: 16.592714531421834\n",
      "Mean Absolute Error: 9.861935642206525\n",
      "R2 Score: 0.8226253460629618\n"
     ]
    },
    {
     "name": "stderr",
     "output_type": "stream",
     "text": [
      "c:\\Users\\This Pc\\AppData\\Local\\Programs\\Python\\Python311\\Lib\\site-packages\\sklearn\\metrics\\_regression.py:483: FutureWarning: 'squared' is deprecated in version 1.4 and will be removed in 1.6. To calculate the root mean squared error, use the function'root_mean_squared_error'.\n",
      "  warnings.warn(\n"
     ]
    }
   ],
   "source": [
    "import xgboost as xgb\n",
    "from sklearn.preprocessing import OneHotEncoder\n",
    "\n",
    "# Đọc dữ liệu\n",
    "df = pd.read_csv('data_proccessed/chungcu_preprocess.csv')\n",
    "\n",
    "# Loại bỏ các cột không cần thiết\n",
    "df = df.drop(columns=['Link', 'Giá tổng', 'Hướng cửa chính', 'Hướng ban công'])\n",
    "\n",
    "# One-Hot Encoding cho các cột hạng mục\n",
    "df = pd.get_dummies(df, columns=df.select_dtypes(include=['object']).columns)\n",
    "\n",
    "# Tách dữ liệu thành đầu vào (X) và đầu ra (y)\n",
    "X = df.drop(columns=['Giá/m²'])\n",
    "y = df['Giá/m²']\n",
    "\n",
    "# Tách dữ liệu thành tập huấn luyện và tập kiểm tra\n",
    "X_train, X_test, y_train, y_test = train_test_split(X, y, test_size=0.2, random_state=42)\n",
    "\n",
    "\n",
    "# Chuẩn hóa dữ liệu\n",
    "scaler = StandardScaler()\n",
    "X_train = scaler.fit_transform(X_train)\n",
    "X_test = scaler.transform(X_test)\n",
    "\n",
    "# Khởi tạo mô hình XGBoost\n",
    "model = xgb.XGBRegressor(objective='reg:squarederror', n_estimators=100, learning_rate=0.1, max_depth=6, random_state=42)\n",
    "\n",
    "# Huấn luyện mô hình\n",
    "model.fit(X_train, y_train)\n",
    "\n",
    "# Dự đoán trên tập kiểm tra\n",
    "y_pred = model.predict(X_test)\n",
    "\n",
    "# Split the data into training and testing sets\n",
    "X_train, X_test, y_train, y_test = train_test_split(X, y, test_size=0.2, random_state=0)\n",
    "\n",
    "# Khởi tạo mô hình XGBoost\n",
    "model = xgb.XGBRegressor(objective='reg:squarederror', n_estimators=100, learning_rate=0.1, max_depth=6, random_state=42)\n",
    "\n",
    "# Huấn luyện mô hình\n",
    "model.fit(X_train, y_train)\n",
    "\n",
    "# Dự đoán trên tập kiểm tra\n",
    "y_pred = model.predict(X_test)\n",
    "\n",
    "# Calculate and print the mean squared error\n",
    "mse = mean_squared_error(y_test, y_pred)\n",
    "print(f\"Mean Squared Error: {mse}\")\n",
    "\n",
    "rmse = mean_squared_error(y_test, y_pred, squared=False)\n",
    "print(f\" Root Mean Squared Error: {rmse}\")\n",
    "rmse\n",
    "\n",
    "mae = mean_absolute_error(y_test, y_pred)\n",
    "print(f\"Mean Absolute Error: {mae}\")\n",
    "\n",
    "r2 = r2_score(y_test, y_pred)\n",
    "print(f\"R2 Score: {r2}\")"
   ]
  }
 ],
 "metadata": {
  "kernelspec": {
   "display_name": "Python 3",
   "language": "python",
   "name": "python3"
  },
  "language_info": {
   "codemirror_mode": {
    "name": "ipython",
    "version": 3
   },
   "file_extension": ".py",
   "mimetype": "text/x-python",
   "name": "python",
   "nbconvert_exporter": "python",
   "pygments_lexer": "ipython3",
   "version": "3.11.0"
  }
 },
 "nbformat": 4,
 "nbformat_minor": 2
}
