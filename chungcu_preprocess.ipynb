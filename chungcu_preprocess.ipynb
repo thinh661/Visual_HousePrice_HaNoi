{
 "cells": [
  {
   "cell_type": "code",
   "execution_count": null,
   "metadata": {},
   "outputs": [],
   "source": [
    "import pandas as pd\n"
   ]
  },
  {
   "cell_type": "code",
   "execution_count": 168,
   "metadata": {},
   "outputs": [
    {
     "data": {
      "text/plain": [
       "Link                   2263\n",
       "Địa chỉ                2263\n",
       "Giá tổng               2263\n",
       "Giá/m²                 2263\n",
       "Số phòng ngủ           2263\n",
       "Số phòng vệ sinh       1898\n",
       "Giấy tờ pháp lý        2263\n",
       "Loại hình căn hộ       2263\n",
       "Diện tích              2263\n",
       "Hướng cửa chính         526\n",
       "Hướng ban công          596\n",
       "Tình trạng nội thất    1629\n",
       "dtype: int64"
      ]
     },
     "execution_count": 168,
     "metadata": {},
     "output_type": "execute_result"
    }
   ],
   "source": [
    "\n",
    "df = pd.read_csv('chungcu_raw_0_116.csv')\n",
    "\n",
    "df.count()"
   ]
  },
  {
   "cell_type": "markdown",
   "metadata": {},
   "source": [
    "### 1. Xử lí cột Giá tổng\n"
   ]
  },
  {
   "cell_type": "code",
   "execution_count": 169,
   "metadata": {},
   "outputs": [
    {
     "name": "stdout",
     "output_type": "stream",
     "text": [
      "2106\n",
      "157\n"
     ]
    }
   ],
   "source": [
    "# Lọc các giá trị có chữ cuối là 'tỷ'\n",
    "df_ty = df[df['Giá tổng'].str.contains('tỷ', na=False)]\n",
    "# Lọc ra các hàng có chứa 'triệu' trong cột 'Giá tổng'\n",
    "df_trieu = df[df['Giá tổng'].astype(str).str.contains('triệu', na=False)]\n",
    "\n",
    "print(df_ty['Giá/m²'].count())\n",
    "print(df_trieu['Giá tổng'].count())"
   ]
  },
  {
   "cell_type": "code",
   "execution_count": 170,
   "metadata": {},
   "outputs": [
    {
     "name": "stderr",
     "output_type": "stream",
     "text": [
      "C:\\Users\\pc\\AppData\\Local\\Temp\\ipykernel_15604\\259669801.py:2: SettingWithCopyWarning: \n",
      "A value is trying to be set on a copy of a slice from a DataFrame.\n",
      "Try using .loc[row_indexer,col_indexer] = value instead\n",
      "\n",
      "See the caveats in the documentation: https://pandas.pydata.org/pandas-docs/stable/user_guide/indexing.html#returning-a-view-versus-a-copy\n",
      "  df_ty['Giá tổng'] = df_ty['Giá tổng'].str.replace('tỷ', '', regex=True)  # Loại bỏ chữ\n",
      "C:\\Users\\pc\\AppData\\Local\\Temp\\ipykernel_15604\\259669801.py:3: SettingWithCopyWarning: \n",
      "A value is trying to be set on a copy of a slice from a DataFrame.\n",
      "Try using .loc[row_indexer,col_indexer] = value instead\n",
      "\n",
      "See the caveats in the documentation: https://pandas.pydata.org/pandas-docs/stable/user_guide/indexing.html#returning-a-view-versus-a-copy\n",
      "  df_ty['Giá tổng'] = df_ty['Giá tổng'].str.replace(',', '.', regex=False)  # Thay dấu ',' bằng '.'\n",
      "C:\\Users\\pc\\AppData\\Local\\Temp\\ipykernel_15604\\259669801.py:4: SettingWithCopyWarning: \n",
      "A value is trying to be set on a copy of a slice from a DataFrame.\n",
      "Try using .loc[row_indexer,col_indexer] = value instead\n",
      "\n",
      "See the caveats in the documentation: https://pandas.pydata.org/pandas-docs/stable/user_guide/indexing.html#returning-a-view-versus-a-copy\n",
      "  df_ty['Giá tổng'] = df_ty['Giá tổng'].astype(float)\n"
     ]
    },
    {
     "data": {
      "text/plain": [
       "0        3.28\n",
       "1        1.65\n",
       "2        2.86\n",
       "3        1.86\n",
       "4        2.50\n",
       "        ...  \n",
       "2258    10.00\n",
       "2259     5.35\n",
       "2260    28.00\n",
       "2261     6.50\n",
       "2262     8.60\n",
       "Name: Giá tổng, Length: 2106, dtype: float64"
      ]
     },
     "execution_count": 170,
     "metadata": {},
     "output_type": "execute_result"
    }
   ],
   "source": [
    "# Xử lí \"tỷ\" \n",
    "df_ty['Giá tổng'] = df_ty['Giá tổng'].str.replace('tỷ', '', regex=True)  # Loại bỏ chữ\n",
    "df_ty['Giá tổng'] = df_ty['Giá tổng'].str.replace(',', '.', regex=False)  # Thay dấu ',' bằng '.'\n",
    "df_ty['Giá tổng'] = df_ty['Giá tổng'].astype(float)\n",
    "df_ty['Giá tổng']"
   ]
  },
  {
   "cell_type": "code",
   "execution_count": 171,
   "metadata": {},
   "outputs": [
    {
     "name": "stderr",
     "output_type": "stream",
     "text": [
      "C:\\Users\\pc\\AppData\\Local\\Temp\\ipykernel_15604\\2549074996.py:2: SettingWithCopyWarning: \n",
      "A value is trying to be set on a copy of a slice from a DataFrame.\n",
      "Try using .loc[row_indexer,col_indexer] = value instead\n",
      "\n",
      "See the caveats in the documentation: https://pandas.pydata.org/pandas-docs/stable/user_guide/indexing.html#returning-a-view-versus-a-copy\n",
      "  df_trieu['Giá tổng'] = df_trieu['Giá tổng'].str.replace('triệu', '', regex=True)  # Loại bỏ chữ\n",
      "C:\\Users\\pc\\AppData\\Local\\Temp\\ipykernel_15604\\2549074996.py:3: SettingWithCopyWarning: \n",
      "A value is trying to be set on a copy of a slice from a DataFrame.\n",
      "Try using .loc[row_indexer,col_indexer] = value instead\n",
      "\n",
      "See the caveats in the documentation: https://pandas.pydata.org/pandas-docs/stable/user_guide/indexing.html#returning-a-view-versus-a-copy\n",
      "  df_trieu['Giá tổng'] = df_trieu['Giá tổng'].str.replace(',', '.', regex=False)  # Thay dấu ',' bằng '.'\n",
      "C:\\Users\\pc\\AppData\\Local\\Temp\\ipykernel_15604\\2549074996.py:4: SettingWithCopyWarning: \n",
      "A value is trying to be set on a copy of a slice from a DataFrame.\n",
      "Try using .loc[row_indexer,col_indexer] = value instead\n",
      "\n",
      "See the caveats in the documentation: https://pandas.pydata.org/pandas-docs/stable/user_guide/indexing.html#returning-a-view-versus-a-copy\n",
      "  df_trieu['Giá tổng'] = df_trieu['Giá tổng'].astype(float)\n",
      "C:\\Users\\pc\\AppData\\Local\\Temp\\ipykernel_15604\\2549074996.py:5: SettingWithCopyWarning: \n",
      "A value is trying to be set on a copy of a slice from a DataFrame.\n",
      "Try using .loc[row_indexer,col_indexer] = value instead\n",
      "\n",
      "See the caveats in the documentation: https://pandas.pydata.org/pandas-docs/stable/user_guide/indexing.html#returning-a-view-versus-a-copy\n",
      "  df_trieu['Giá tổng'] /= 1000 # Đổi về tỷ đồng\n"
     ]
    },
    {
     "data": {
      "text/plain": [
       "34      0.00576\n",
       "121     0.04600\n",
       "128     0.07100\n",
       "131     0.78500\n",
       "132     0.75500\n",
       "         ...   \n",
       "2210    0.00200\n",
       "2224    0.09500\n",
       "2246    0.00420\n",
       "2251    0.00200\n",
       "2254    0.05800\n",
       "Name: Giá tổng, Length: 157, dtype: float64"
      ]
     },
     "execution_count": 171,
     "metadata": {},
     "output_type": "execute_result"
    }
   ],
   "source": [
    "# Xử lí triệu\n",
    "df_trieu['Giá tổng'] = df_trieu['Giá tổng'].str.replace('triệu', '', regex=True)  # Loại bỏ chữ\n",
    "df_trieu['Giá tổng'] = df_trieu['Giá tổng'].str.replace(',', '.', regex=False)  # Thay dấu ',' bằng '.'\n",
    "df_trieu['Giá tổng'] = df_trieu['Giá tổng'].astype(float)\n",
    "df_trieu['Giá tổng'] /= 1000 # Đổi về tỷ đồng\n",
    "df_trieu['Giá tổng']"
   ]
  },
  {
   "cell_type": "code",
   "execution_count": 172,
   "metadata": {},
   "outputs": [
    {
     "data": {
      "text/html": [
       "<div>\n",
       "<style scoped>\n",
       "    .dataframe tbody tr th:only-of-type {\n",
       "        vertical-align: middle;\n",
       "    }\n",
       "\n",
       "    .dataframe tbody tr th {\n",
       "        vertical-align: top;\n",
       "    }\n",
       "\n",
       "    .dataframe thead th {\n",
       "        text-align: right;\n",
       "    }\n",
       "</style>\n",
       "<table border=\"1\" class=\"dataframe\">\n",
       "  <thead>\n",
       "    <tr style=\"text-align: right;\">\n",
       "      <th></th>\n",
       "      <th>Link</th>\n",
       "      <th>Địa chỉ</th>\n",
       "      <th>Giá tổng</th>\n",
       "      <th>Giá/m²</th>\n",
       "      <th>Số phòng ngủ</th>\n",
       "      <th>Số phòng vệ sinh</th>\n",
       "      <th>Giấy tờ pháp lý</th>\n",
       "      <th>Loại hình căn hộ</th>\n",
       "      <th>Diện tích</th>\n",
       "      <th>Hướng cửa chính</th>\n",
       "      <th>Hướng ban công</th>\n",
       "      <th>Tình trạng nội thất</th>\n",
       "    </tr>\n",
       "  </thead>\n",
       "  <tbody>\n",
       "    <tr>\n",
       "      <th>34</th>\n",
       "      <td>https://www.nhatot.com/mua-ban-can-ho-chung-cu...</td>\n",
       "      <td>Đường Lê Đức Thọ, Phường Mỹ Đình 2, Quận Nam T...</td>\n",
       "      <td>0.00576</td>\n",
       "      <td>164.571 đ/m²</td>\n",
       "      <td>2 phòng</td>\n",
       "      <td>2 phòng</td>\n",
       "      <td>Sổ hồng riêng</td>\n",
       "      <td>Chung cư</td>\n",
       "      <td>35 m²</td>\n",
       "      <td>NaN</td>\n",
       "      <td>NaN</td>\n",
       "      <td>NaN</td>\n",
       "    </tr>\n",
       "    <tr>\n",
       "      <th>121</th>\n",
       "      <td>https://www.nhatot.com/mua-ban-can-ho-chung-cu...</td>\n",
       "      <td>Phạm Văn Đồng, Phường Cổ Nhuế 2, Quận Bắc Từ L...</td>\n",
       "      <td>0.04600</td>\n",
       "      <td>450.980 đ/m²</td>\n",
       "      <td>3 phòng</td>\n",
       "      <td>2 phòng</td>\n",
       "      <td>Sổ hồng riêng</td>\n",
       "      <td>Chung cư</td>\n",
       "      <td>102 m²</td>\n",
       "      <td>Tây Bắc</td>\n",
       "      <td>Đông Bắc</td>\n",
       "      <td>Nội thất đầy đủ</td>\n",
       "    </tr>\n",
       "    <tr>\n",
       "      <th>128</th>\n",
       "      <td>https://www.nhatot.com/mua-ban-can-ho-chung-cu...</td>\n",
       "      <td>Đại Mỗ, Phường Tây Mỗ, Quận Nam Từ Liêm, Hà Nội</td>\n",
       "      <td>0.07100</td>\n",
       "      <td>881.987 đ/m²</td>\n",
       "      <td>3 phòng</td>\n",
       "      <td>2 phòng</td>\n",
       "      <td>Hợp đồng mua bán</td>\n",
       "      <td>Chung cư</td>\n",
       "      <td>80.5 m²</td>\n",
       "      <td>Tây Bắc</td>\n",
       "      <td>Đông Nam</td>\n",
       "      <td>Nội thất cao cấp</td>\n",
       "    </tr>\n",
       "    <tr>\n",
       "      <th>131</th>\n",
       "      <td>https://www.nhatot.com/mua-ban-can-ho-chung-cu...</td>\n",
       "      <td>Đường Định Công, Phường Định Công, Quận Hoàng ...</td>\n",
       "      <td>0.78500</td>\n",
       "      <td>14,27 triệu/m²</td>\n",
       "      <td>2 phòng</td>\n",
       "      <td>2 phòng</td>\n",
       "      <td>1</td>\n",
       "      <td>Chung cư</td>\n",
       "      <td>55 m²</td>\n",
       "      <td>Đông Nam</td>\n",
       "      <td>Đông Nam</td>\n",
       "      <td>Nội thất đầy đủ</td>\n",
       "    </tr>\n",
       "    <tr>\n",
       "      <th>132</th>\n",
       "      <td>https://www.nhatot.com/mua-ban-can-ho-chung-cu...</td>\n",
       "      <td>Phố Thanh Nhàn, Phường Thanh Nhàn, Quận Hai Bà...</td>\n",
       "      <td>0.75500</td>\n",
       "      <td>13,48 triệu/m²</td>\n",
       "      <td>2 phòng</td>\n",
       "      <td>2 phòng</td>\n",
       "      <td>1</td>\n",
       "      <td>Chung cư</td>\n",
       "      <td>56 m²</td>\n",
       "      <td>Đông Nam</td>\n",
       "      <td>Đông Nam</td>\n",
       "      <td>Nội thất đầy đủ</td>\n",
       "    </tr>\n",
       "    <tr>\n",
       "      <th>...</th>\n",
       "      <td>...</td>\n",
       "      <td>...</td>\n",
       "      <td>...</td>\n",
       "      <td>...</td>\n",
       "      <td>...</td>\n",
       "      <td>...</td>\n",
       "      <td>...</td>\n",
       "      <td>...</td>\n",
       "      <td>...</td>\n",
       "      <td>...</td>\n",
       "      <td>...</td>\n",
       "      <td>...</td>\n",
       "    </tr>\n",
       "    <tr>\n",
       "      <th>2210</th>\n",
       "      <td>https://www.nhatot.com/mua-ban-can-ho-chung-cu...</td>\n",
       "      <td>Số 1, Phùng Chí Kiên, Phường Nghĩa Đô, Quận Cầ...</td>\n",
       "      <td>0.00200</td>\n",
       "      <td>14.035 đ/m²</td>\n",
       "      <td>3 phòng</td>\n",
       "      <td>2 phòng</td>\n",
       "      <td>Sổ hồng riêng</td>\n",
       "      <td>Chung cư</td>\n",
       "      <td>142.5 m²</td>\n",
       "      <td>NaN</td>\n",
       "      <td>NaN</td>\n",
       "      <td>NaN</td>\n",
       "    </tr>\n",
       "    <tr>\n",
       "      <th>2224</th>\n",
       "      <td>https://www.nhatot.com/mua-ban-can-ho-chung-cu...</td>\n",
       "      <td>Phố Tố Hữu, Phường Trung Văn, Quận Nam Từ Liêm...</td>\n",
       "      <td>0.09500</td>\n",
       "      <td>840.707 đ/m²</td>\n",
       "      <td>3 phòng</td>\n",
       "      <td>3 phòng</td>\n",
       "      <td>Hợp đồng mua bán</td>\n",
       "      <td>Chung cư</td>\n",
       "      <td>113 m²</td>\n",
       "      <td>Tây Bắc</td>\n",
       "      <td>Đông Nam</td>\n",
       "      <td>Nội thất cao cấp</td>\n",
       "    </tr>\n",
       "    <tr>\n",
       "      <th>2246</th>\n",
       "      <td>https://www.nhatot.com/mua-ban-can-ho-chung-cu...</td>\n",
       "      <td>Lô A10-A14, Yên Hòa, Phường Yên Hoà, Quận Cầu ...</td>\n",
       "      <td>0.00420</td>\n",
       "      <td>63.636 đ/m²</td>\n",
       "      <td>2 phòng</td>\n",
       "      <td>2 phòng</td>\n",
       "      <td>Sổ hồng riêng</td>\n",
       "      <td>Chung cư</td>\n",
       "      <td>66 m²</td>\n",
       "      <td>Nam</td>\n",
       "      <td>Bắc</td>\n",
       "      <td>Nội thất đầy đủ</td>\n",
       "    </tr>\n",
       "    <tr>\n",
       "      <th>2251</th>\n",
       "      <td>https://www.nhatot.com/mua-ban-can-ho-chung-cu...</td>\n",
       "      <td>Đông Hội, Xã Đông Hội, Huyện Đông Anh, Hà Nội</td>\n",
       "      <td>0.00200</td>\n",
       "      <td>29.850 đ/m²</td>\n",
       "      <td>2 phòng</td>\n",
       "      <td>2 phòng</td>\n",
       "      <td>Sổ hồng riêng</td>\n",
       "      <td>Chung cư</td>\n",
       "      <td>67 m²</td>\n",
       "      <td>Đông</td>\n",
       "      <td>Tây</td>\n",
       "      <td>Nội thất đầy đủ</td>\n",
       "    </tr>\n",
       "    <tr>\n",
       "      <th>2254</th>\n",
       "      <td>https://www.nhatot.com/mua-ban-can-ho-chung-cu...</td>\n",
       "      <td>CT1A, KĐT, Phường Đại Kim, Quận Hoàng Mai, Hà Nội</td>\n",
       "      <td>0.05800</td>\n",
       "      <td>725.000 đ/m²</td>\n",
       "      <td>3 phòng</td>\n",
       "      <td>2 phòng</td>\n",
       "      <td>Sổ hồng riêng</td>\n",
       "      <td>Chung cư</td>\n",
       "      <td>80 m²</td>\n",
       "      <td>Bắc</td>\n",
       "      <td>Đông Nam</td>\n",
       "      <td>Nội thất cao cấp</td>\n",
       "    </tr>\n",
       "  </tbody>\n",
       "</table>\n",
       "<p>157 rows × 12 columns</p>\n",
       "</div>"
      ],
      "text/plain": [
       "                                                   Link  \\\n",
       "34    https://www.nhatot.com/mua-ban-can-ho-chung-cu...   \n",
       "121   https://www.nhatot.com/mua-ban-can-ho-chung-cu...   \n",
       "128   https://www.nhatot.com/mua-ban-can-ho-chung-cu...   \n",
       "131   https://www.nhatot.com/mua-ban-can-ho-chung-cu...   \n",
       "132   https://www.nhatot.com/mua-ban-can-ho-chung-cu...   \n",
       "...                                                 ...   \n",
       "2210  https://www.nhatot.com/mua-ban-can-ho-chung-cu...   \n",
       "2224  https://www.nhatot.com/mua-ban-can-ho-chung-cu...   \n",
       "2246  https://www.nhatot.com/mua-ban-can-ho-chung-cu...   \n",
       "2251  https://www.nhatot.com/mua-ban-can-ho-chung-cu...   \n",
       "2254  https://www.nhatot.com/mua-ban-can-ho-chung-cu...   \n",
       "\n",
       "                                                Địa chỉ  Giá tổng  \\\n",
       "34    Đường Lê Đức Thọ, Phường Mỹ Đình 2, Quận Nam T...   0.00576   \n",
       "121   Phạm Văn Đồng, Phường Cổ Nhuế 2, Quận Bắc Từ L...   0.04600   \n",
       "128     Đại Mỗ, Phường Tây Mỗ, Quận Nam Từ Liêm, Hà Nội   0.07100   \n",
       "131   Đường Định Công, Phường Định Công, Quận Hoàng ...   0.78500   \n",
       "132   Phố Thanh Nhàn, Phường Thanh Nhàn, Quận Hai Bà...   0.75500   \n",
       "...                                                 ...       ...   \n",
       "2210  Số 1, Phùng Chí Kiên, Phường Nghĩa Đô, Quận Cầ...   0.00200   \n",
       "2224  Phố Tố Hữu, Phường Trung Văn, Quận Nam Từ Liêm...   0.09500   \n",
       "2246  Lô A10-A14, Yên Hòa, Phường Yên Hoà, Quận Cầu ...   0.00420   \n",
       "2251      Đông Hội, Xã Đông Hội, Huyện Đông Anh, Hà Nội   0.00200   \n",
       "2254  CT1A, KĐT, Phường Đại Kim, Quận Hoàng Mai, Hà Nội   0.05800   \n",
       "\n",
       "              Giá/m² Số phòng ngủ Số phòng vệ sinh   Giấy tờ pháp lý  \\\n",
       "34      164.571 đ/m²      2 phòng          2 phòng     Sổ hồng riêng   \n",
       "121     450.980 đ/m²      3 phòng          2 phòng     Sổ hồng riêng   \n",
       "128     881.987 đ/m²      3 phòng          2 phòng  Hợp đồng mua bán   \n",
       "131   14,27 triệu/m²      2 phòng          2 phòng                 1   \n",
       "132   13,48 triệu/m²      2 phòng          2 phòng                 1   \n",
       "...              ...          ...              ...               ...   \n",
       "2210     14.035 đ/m²      3 phòng          2 phòng     Sổ hồng riêng   \n",
       "2224    840.707 đ/m²      3 phòng          3 phòng  Hợp đồng mua bán   \n",
       "2246     63.636 đ/m²      2 phòng          2 phòng     Sổ hồng riêng   \n",
       "2251     29.850 đ/m²      2 phòng          2 phòng     Sổ hồng riêng   \n",
       "2254    725.000 đ/m²      3 phòng          2 phòng     Sổ hồng riêng   \n",
       "\n",
       "     Loại hình căn hộ Diện tích Hướng cửa chính Hướng ban công  \\\n",
       "34           Chung cư     35 m²             NaN            NaN   \n",
       "121          Chung cư    102 m²         Tây Bắc       Đông Bắc   \n",
       "128          Chung cư   80.5 m²         Tây Bắc       Đông Nam   \n",
       "131          Chung cư     55 m²        Đông Nam       Đông Nam   \n",
       "132          Chung cư     56 m²        Đông Nam       Đông Nam   \n",
       "...               ...       ...             ...            ...   \n",
       "2210         Chung cư  142.5 m²             NaN            NaN   \n",
       "2224         Chung cư    113 m²         Tây Bắc       Đông Nam   \n",
       "2246         Chung cư     66 m²             Nam            Bắc   \n",
       "2251         Chung cư     67 m²            Đông            Tây   \n",
       "2254         Chung cư     80 m²             Bắc       Đông Nam   \n",
       "\n",
       "     Tình trạng nội thất  \n",
       "34                   NaN  \n",
       "121      Nội thất đầy đủ  \n",
       "128     Nội thất cao cấp  \n",
       "131      Nội thất đầy đủ  \n",
       "132      Nội thất đầy đủ  \n",
       "...                  ...  \n",
       "2210                 NaN  \n",
       "2224    Nội thất cao cấp  \n",
       "2246     Nội thất đầy đủ  \n",
       "2251     Nội thất đầy đủ  \n",
       "2254    Nội thất cao cấp  \n",
       "\n",
       "[157 rows x 12 columns]"
      ]
     },
     "execution_count": 172,
     "metadata": {},
     "output_type": "execute_result"
    }
   ],
   "source": [
    "df_trieu"
   ]
  },
  {
   "cell_type": "code",
   "execution_count": 173,
   "metadata": {},
   "outputs": [],
   "source": [
    "df.update(df_ty)\n",
    "df.update(df_trieu)"
   ]
  },
  {
   "cell_type": "code",
   "execution_count": 174,
   "metadata": {},
   "outputs": [
    {
     "name": "stdout",
     "output_type": "stream",
     "text": [
      "0.002\n",
      "41.0\n",
      "3.4\n"
     ]
    }
   ],
   "source": [
    "print(df['Giá tổng'].min())\n",
    "print(df['Giá tổng'].max())\n",
    "print(df['Giá tổng'].median())"
   ]
  },
  {
   "cell_type": "markdown",
   "metadata": {},
   "source": [
    "### 2. Xử lí cột Giá/m2"
   ]
  },
  {
   "cell_type": "code",
   "execution_count": 175,
   "metadata": {},
   "outputs": [
    {
     "name": "stdout",
     "output_type": "stream",
     "text": [
      "34      164.571 đ/m²\n",
      "121     450.980 đ/m²\n",
      "128     881.987 đ/m²\n",
      "219      54.605 đ/m²\n",
      "382      33.571 đ/m²\n",
      "533      90.909 đ/m²\n",
      "537      35.200 đ/m²\n",
      "554     809.353 đ/m²\n",
      "634      63.974 đ/m²\n",
      "862      57.971 đ/m²\n",
      "867     373.831 đ/m²\n",
      "868     531.521 đ/m²\n",
      "996      65.686 đ/m²\n",
      "1158    798.611 đ/m²\n",
      "1162     52.571 đ/m²\n",
      "1438    464.285 đ/m²\n",
      "1488    735.440 đ/m²\n",
      "1507     41.966 đ/m²\n",
      "1543     96.629 đ/m²\n",
      "1641     28.571 đ/m²\n",
      "1662    685.314 đ/m²\n",
      "1694    181.818 đ/m²\n",
      "1808    590.909 đ/m²\n",
      "2030     48.885 đ/m²\n",
      "2049    600.000 đ/m²\n",
      "2050    498.561 đ/m²\n",
      "2056    562.162 đ/m²\n",
      "2062    628.571 đ/m²\n",
      "2063     50.000 đ/m²\n",
      "2072    338.345 đ/m²\n",
      "2073    338.345 đ/m²\n",
      "2098    632.911 đ/m²\n",
      "2116    897.435 đ/m²\n",
      "2121     32.679 đ/m²\n",
      "2142     54.166 đ/m²\n",
      "2147     57.846 đ/m²\n",
      "2154     56.338 đ/m²\n",
      "2210     14.035 đ/m²\n",
      "2224    840.707 đ/m²\n",
      "2246     63.636 đ/m²\n",
      "2251     29.850 đ/m²\n",
      "2254    725.000 đ/m²\n",
      "Name: Giá/m², dtype: object\n"
     ]
    }
   ],
   "source": [
    "# Lọc các giá trị có chữ cuối là 'đ/m²'\n",
    "df_de_m2 = df[df['Giá/m²'].str.contains('đ/m²', na=False)]\n",
    "print(df_de_m2['Giá/m²'])"
   ]
  },
  {
   "cell_type": "code",
   "execution_count": 176,
   "metadata": {},
   "outputs": [
    {
     "name": "stdout",
     "output_type": "stream",
     "text": [
      "2221\n"
     ]
    }
   ],
   "source": [
    "# Lọc các giá trị có chữ cuối là 'triêu/m²'\n",
    "df_tr_m2 = df[df['Giá/m²'].str.contains('triệu/m²', na=False)]\n",
    "print(df_tr_m2['Giá/m²'].count())"
   ]
  },
  {
   "cell_type": "code",
   "execution_count": 177,
   "metadata": {},
   "outputs": [
    {
     "name": "stderr",
     "output_type": "stream",
     "text": [
      "C:\\Users\\pc\\AppData\\Local\\Temp\\ipykernel_15604\\852625085.py:3: SettingWithCopyWarning: \n",
      "A value is trying to be set on a copy of a slice from a DataFrame.\n",
      "Try using .loc[row_indexer,col_indexer] = value instead\n",
      "\n",
      "See the caveats in the documentation: https://pandas.pydata.org/pandas-docs/stable/user_guide/indexing.html#returning-a-view-versus-a-copy\n",
      "  df_de_m2['Giá/m²'] = df_de_m2['Giá/m²'].str.replace(' đ/m²', '', regex=False)\n",
      "C:\\Users\\pc\\AppData\\Local\\Temp\\ipykernel_15604\\852625085.py:4: SettingWithCopyWarning: \n",
      "A value is trying to be set on a copy of a slice from a DataFrame.\n",
      "Try using .loc[row_indexer,col_indexer] = value instead\n",
      "\n",
      "See the caveats in the documentation: https://pandas.pydata.org/pandas-docs/stable/user_guide/indexing.html#returning-a-view-versus-a-copy\n",
      "  df_de_m2['Giá/m²'] = df_de_m2['Giá/m²'].astype(float)\n",
      "C:\\Users\\pc\\AppData\\Local\\Temp\\ipykernel_15604\\852625085.py:5: SettingWithCopyWarning: \n",
      "A value is trying to be set on a copy of a slice from a DataFrame.\n",
      "Try using .loc[row_indexer,col_indexer] = value instead\n",
      "\n",
      "See the caveats in the documentation: https://pandas.pydata.org/pandas-docs/stable/user_guide/indexing.html#returning-a-view-versus-a-copy\n",
      "  df_de_m2['Giá/m²'] = df_de_m2['Giá/m²'] / 1000\n"
     ]
    },
    {
     "data": {
      "text/plain": [
       "34      0.164571\n",
       "121     0.450980\n",
       "128     0.881987\n",
       "219     0.054605\n",
       "382     0.033571\n",
       "533     0.090909\n",
       "537     0.035200\n",
       "554     0.809353\n",
       "634     0.063974\n",
       "862     0.057971\n",
       "867     0.373831\n",
       "868     0.531521\n",
       "996     0.065686\n",
       "1158    0.798611\n",
       "1162    0.052571\n",
       "1438    0.464285\n",
       "1488    0.735440\n",
       "1507    0.041966\n",
       "1543    0.096629\n",
       "1641    0.028571\n",
       "1662    0.685314\n",
       "1694    0.181818\n",
       "1808    0.590909\n",
       "2030    0.048885\n",
       "2049    0.600000\n",
       "2050    0.498561\n",
       "2056    0.562162\n",
       "2062    0.628571\n",
       "2063    0.050000\n",
       "2072    0.338345\n",
       "2073    0.338345\n",
       "2098    0.632911\n",
       "2116    0.897435\n",
       "2121    0.032679\n",
       "2142    0.054166\n",
       "2147    0.057846\n",
       "2154    0.056338\n",
       "2210    0.014035\n",
       "2224    0.840707\n",
       "2246    0.063636\n",
       "2251    0.029850\n",
       "2254    0.725000\n",
       "Name: Giá/m², dtype: float64"
      ]
     },
     "execution_count": 177,
     "metadata": {},
     "output_type": "execute_result"
    }
   ],
   "source": [
    "# Cột Giá/m2 : Bỏ đ/m2. VD : 730000 đ/m2 = 0.73\n",
    "df_de_m2 = df[df['Giá/m²'].str.contains('đ/m²', na=False)]\n",
    "df_de_m2['Giá/m²'] = df_de_m2['Giá/m²'].str.replace(' đ/m²', '', regex=False)\n",
    "df_de_m2['Giá/m²'] = df_de_m2['Giá/m²'].astype(float)\n",
    "df_de_m2['Giá/m²'] = df_de_m2['Giá/m²'] / 1000\n",
    "df_de_m2['Giá/m²']"
   ]
  },
  {
   "cell_type": "code",
   "execution_count": 178,
   "metadata": {},
   "outputs": [
    {
     "name": "stderr",
     "output_type": "stream",
     "text": [
      "C:\\Users\\pc\\AppData\\Local\\Temp\\ipykernel_15604\\383414962.py:2: SettingWithCopyWarning: \n",
      "A value is trying to be set on a copy of a slice from a DataFrame.\n",
      "Try using .loc[row_indexer,col_indexer] = value instead\n",
      "\n",
      "See the caveats in the documentation: https://pandas.pydata.org/pandas-docs/stable/user_guide/indexing.html#returning-a-view-versus-a-copy\n",
      "  df_tr_m2['Giá/m²'] = df_tr_m2['Giá/m²'].str.replace(',', '.', regex=False)  # Thay dấu ',' bằng '.'\n",
      "C:\\Users\\pc\\AppData\\Local\\Temp\\ipykernel_15604\\383414962.py:3: SettingWithCopyWarning: \n",
      "A value is trying to be set on a copy of a slice from a DataFrame.\n",
      "Try using .loc[row_indexer,col_indexer] = value instead\n",
      "\n",
      "See the caveats in the documentation: https://pandas.pydata.org/pandas-docs/stable/user_guide/indexing.html#returning-a-view-versus-a-copy\n",
      "  df_tr_m2['Giá/m²'] = df_tr_m2['Giá/m²'].str.replace('triệu/m²', '', regex=False)\n",
      "C:\\Users\\pc\\AppData\\Local\\Temp\\ipykernel_15604\\383414962.py:4: SettingWithCopyWarning: \n",
      "A value is trying to be set on a copy of a slice from a DataFrame.\n",
      "Try using .loc[row_indexer,col_indexer] = value instead\n",
      "\n",
      "See the caveats in the documentation: https://pandas.pydata.org/pandas-docs/stable/user_guide/indexing.html#returning-a-view-versus-a-copy\n",
      "  df_tr_m2['Giá/m²'] = df_tr_m2['Giá/m²'].astype(float)\n"
     ]
    },
    {
     "data": {
      "text/plain": [
       "0        50.46\n",
       "1        33.00\n",
       "2        42.06\n",
       "3        33.82\n",
       "4        41.67\n",
       "         ...  \n",
       "2258    104.49\n",
       "2259     72.30\n",
       "2260     56.00\n",
       "2261     85.53\n",
       "2262     88.66\n",
       "Name: Giá/m², Length: 2221, dtype: float64"
      ]
     },
     "execution_count": 178,
     "metadata": {},
     "output_type": "execute_result"
    }
   ],
   "source": [
    "# Cột Giá/m2 : Bỏ triệu/m2. VD : 660 triệu/m2 -> 660\n",
    "df_tr_m2['Giá/m²'] = df_tr_m2['Giá/m²'].str.replace(',', '.', regex=False)  # Thay dấu ',' bằng '.'\n",
    "df_tr_m2['Giá/m²'] = df_tr_m2['Giá/m²'].str.replace('triệu/m²', '', regex=False)\n",
    "df_tr_m2['Giá/m²'] = df_tr_m2['Giá/m²'].astype(float)\n",
    "df_tr_m2['Giá/m²']"
   ]
  },
  {
   "cell_type": "code",
   "execution_count": 179,
   "metadata": {},
   "outputs": [],
   "source": [
    "df.update(df_tr_m2)\n",
    "df.update(df_de_m2)"
   ]
  },
  {
   "cell_type": "code",
   "execution_count": 180,
   "metadata": {},
   "outputs": [
    {
     "name": "stdout",
     "output_type": "stream",
     "text": [
      "50.46\n",
      "0.014035\n",
      "464.91\n"
     ]
    }
   ],
   "source": [
    "print(df['Giá/m²'].median())\n",
    "print(df['Giá/m²'].min())\n",
    "print(df['Giá/m²'].max())"
   ]
  },
  {
   "cell_type": "markdown",
   "metadata": {},
   "source": [
    "### 3. Xử lí cột Số phòng ngủ "
   ]
  },
  {
   "cell_type": "code",
   "execution_count": 181,
   "metadata": {},
   "outputs": [
    {
     "data": {
      "text/plain": [
       "2 phòng               1169\n",
       "3 phòng                621\n",
       "1 phòng                341\n",
       "nhiều hơn 10 phòng      60\n",
       "4 phòng                 38\n",
       "5 phòng                 13\n",
       "10 phòng                 7\n",
       "8 phòng                  6\n",
       "9 phòng                  6\n",
       "7 phòng                  1\n",
       "6 phòng                  1\n",
       "Name: Số phòng ngủ, dtype: int64"
      ]
     },
     "execution_count": 181,
     "metadata": {},
     "output_type": "execute_result"
    }
   ],
   "source": [
    "count = df['Số phòng ngủ'].value_counts()\n",
    "count"
   ]
  },
  {
   "cell_type": "code",
   "execution_count": 182,
   "metadata": {},
   "outputs": [
    {
     "data": {
      "text/plain": [
       "2     1169\n",
       "3      621\n",
       "1      341\n",
       "10      67\n",
       "4       38\n",
       "5       13\n",
       "8        6\n",
       "9        6\n",
       "7        1\n",
       "6        1\n",
       "Name: Số phòng ngủ, dtype: int64"
      ]
     },
     "execution_count": 182,
     "metadata": {},
     "output_type": "execute_result"
    }
   ],
   "source": [
    "df['Số phòng ngủ'] = df['Số phòng ngủ'].str.extract('(\\d+)')\n",
    "count = df['Số phòng ngủ'].value_counts()\n",
    "count"
   ]
  },
  {
   "cell_type": "markdown",
   "metadata": {},
   "source": [
    "### 4. Xử lí cột Số phòng vệ sinh"
   ]
  },
  {
   "cell_type": "code",
   "execution_count": 183,
   "metadata": {},
   "outputs": [
    {
     "data": {
      "text/plain": [
       "2    1074\n",
       "1     717\n",
       "6      62\n",
       "3      34\n",
       "4      10\n",
       "5       1\n",
       "Name: Số phòng vệ sinh, dtype: int64"
      ]
     },
     "execution_count": 183,
     "metadata": {},
     "output_type": "execute_result"
    }
   ],
   "source": [
    "df['Số phòng vệ sinh'] = df['Số phòng vệ sinh'].str.extract('(\\d+)')\n",
    "count = df['Số phòng vệ sinh'].value_counts()\n",
    "count"
   ]
  },
  {
   "cell_type": "code",
   "execution_count": 184,
   "metadata": {},
   "outputs": [
    {
     "data": {
      "text/html": [
       "<div>\n",
       "<style scoped>\n",
       "    .dataframe tbody tr th:only-of-type {\n",
       "        vertical-align: middle;\n",
       "    }\n",
       "\n",
       "    .dataframe tbody tr th {\n",
       "        vertical-align: top;\n",
       "    }\n",
       "\n",
       "    .dataframe thead th {\n",
       "        text-align: right;\n",
       "    }\n",
       "</style>\n",
       "<table border=\"1\" class=\"dataframe\">\n",
       "  <thead>\n",
       "    <tr style=\"text-align: right;\">\n",
       "      <th></th>\n",
       "      <th>Link</th>\n",
       "      <th>Địa chỉ</th>\n",
       "      <th>Giá tổng</th>\n",
       "      <th>Giá/m²</th>\n",
       "      <th>Số phòng ngủ</th>\n",
       "      <th>Số phòng vệ sinh</th>\n",
       "      <th>Giấy tờ pháp lý</th>\n",
       "      <th>Loại hình căn hộ</th>\n",
       "      <th>Diện tích</th>\n",
       "      <th>Hướng cửa chính</th>\n",
       "      <th>Hướng ban công</th>\n",
       "      <th>Tình trạng nội thất</th>\n",
       "    </tr>\n",
       "  </thead>\n",
       "  <tbody>\n",
       "    <tr>\n",
       "      <th>0</th>\n",
       "      <td>https://www.nhatot.com/mua-ban-can-ho-chung-cu...</td>\n",
       "      <td>Phố Kim Mã, Phường Ngọc Khánh, Quận Ba Đình, H...</td>\n",
       "      <td>3.28</td>\n",
       "      <td>50.46</td>\n",
       "      <td>2</td>\n",
       "      <td>NaN</td>\n",
       "      <td>Sổ hồng riêng</td>\n",
       "      <td>Tập thể, cư xá</td>\n",
       "      <td>65 m²</td>\n",
       "      <td>NaN</td>\n",
       "      <td>NaN</td>\n",
       "      <td>Nội thất đầy đủ</td>\n",
       "    </tr>\n",
       "    <tr>\n",
       "      <th>25</th>\n",
       "      <td>https://www.nhatot.com/mua-ban-can-ho-chung-cu...</td>\n",
       "      <td>Phố Kim Mã, Phường Ngọc Khánh, Quận Ba Đình, H...</td>\n",
       "      <td>3.28</td>\n",
       "      <td>50.46</td>\n",
       "      <td>2</td>\n",
       "      <td>NaN</td>\n",
       "      <td>Sổ hồng riêng</td>\n",
       "      <td>Tập thể, cư xá</td>\n",
       "      <td>65 m²</td>\n",
       "      <td>NaN</td>\n",
       "      <td>NaN</td>\n",
       "      <td>Nội thất đầy đủ</td>\n",
       "    </tr>\n",
       "    <tr>\n",
       "      <th>36</th>\n",
       "      <td>https://www.nhatot.com/mua-ban-can-ho-chung-cu...</td>\n",
       "      <td>trần thái tông, Phường Dịch Vọng Hậu, Quận Cầu...</td>\n",
       "      <td>1.06</td>\n",
       "      <td>25.24</td>\n",
       "      <td>1</td>\n",
       "      <td>NaN</td>\n",
       "      <td>Hợp đồng mua bán</td>\n",
       "      <td>Căn hộ dịch vụ, mini</td>\n",
       "      <td>42 m²</td>\n",
       "      <td>NaN</td>\n",
       "      <td>Đông Nam</td>\n",
       "      <td>Hoàn thiện cơ bản</td>\n",
       "    </tr>\n",
       "    <tr>\n",
       "      <th>37</th>\n",
       "      <td>https://www.nhatot.com/mua-ban-can-ho-chung-cu...</td>\n",
       "      <td>Đường Đại Mỗ, Phường Đại Mỗ, Quận Nam Từ Liêm,...</td>\n",
       "      <td>3.6</td>\n",
       "      <td>55.38</td>\n",
       "      <td>2</td>\n",
       "      <td>NaN</td>\n",
       "      <td>Sổ hồng riêng</td>\n",
       "      <td>Chung cư</td>\n",
       "      <td>65 m²</td>\n",
       "      <td>Tây</td>\n",
       "      <td>Đông</td>\n",
       "      <td>Nội thất cao cấp</td>\n",
       "    </tr>\n",
       "    <tr>\n",
       "      <th>41</th>\n",
       "      <td>https://www.nhatot.com/mua-ban-can-ho-chung-cu...</td>\n",
       "      <td>Phố Minh Khai, Phường Minh Khai, Quận Hai Bà T...</td>\n",
       "      <td>6.95</td>\n",
       "      <td>95.21</td>\n",
       "      <td>2</td>\n",
       "      <td>NaN</td>\n",
       "      <td>Sổ hồng riêng</td>\n",
       "      <td>Chung cư</td>\n",
       "      <td>73 m²</td>\n",
       "      <td>NaN</td>\n",
       "      <td>NaN</td>\n",
       "      <td>NaN</td>\n",
       "    </tr>\n",
       "    <tr>\n",
       "      <th>...</th>\n",
       "      <td>...</td>\n",
       "      <td>...</td>\n",
       "      <td>...</td>\n",
       "      <td>...</td>\n",
       "      <td>...</td>\n",
       "      <td>...</td>\n",
       "      <td>...</td>\n",
       "      <td>...</td>\n",
       "      <td>...</td>\n",
       "      <td>...</td>\n",
       "      <td>...</td>\n",
       "      <td>...</td>\n",
       "    </tr>\n",
       "    <tr>\n",
       "      <th>2207</th>\n",
       "      <td>https://www.nhatot.com/mua-ban-can-ho-chung-cu...</td>\n",
       "      <td>Yên Viên, Thị trấn Trâu Quỳ, Huyện Gia Lâm, Hà...</td>\n",
       "      <td>22.0</td>\n",
       "      <td>250.0</td>\n",
       "      <td>4</td>\n",
       "      <td>NaN</td>\n",
       "      <td>Sổ hồng riêng</td>\n",
       "      <td>Duplex</td>\n",
       "      <td>88 m²</td>\n",
       "      <td>NaN</td>\n",
       "      <td>NaN</td>\n",
       "      <td>Hoàn thiện cơ bản</td>\n",
       "    </tr>\n",
       "    <tr>\n",
       "      <th>2209</th>\n",
       "      <td>https://www.nhatot.com/mua-ban-can-ho-chung-cu...</td>\n",
       "      <td>Đại Mỗ, Phường Tây Mỗ, Quận Nam Từ Liêm, Hà Nội</td>\n",
       "      <td>2.9</td>\n",
       "      <td>67.44</td>\n",
       "      <td>2</td>\n",
       "      <td>NaN</td>\n",
       "      <td>Sổ hồng riêng</td>\n",
       "      <td>Chung cư</td>\n",
       "      <td>43 m²</td>\n",
       "      <td>Đông Nam</td>\n",
       "      <td>Tây Bắc</td>\n",
       "      <td>Nội thất cao cấp</td>\n",
       "    </tr>\n",
       "    <tr>\n",
       "      <th>2242</th>\n",
       "      <td>https://www.nhatot.com/mua-ban-can-ho-chung-cu...</td>\n",
       "      <td>6, Nguyễn Văn Trỗi, Phường Mộ Lao, Quận Hà Đôn...</td>\n",
       "      <td>17.6</td>\n",
       "      <td>187.23</td>\n",
       "      <td>8</td>\n",
       "      <td>NaN</td>\n",
       "      <td>Sổ hồng riêng</td>\n",
       "      <td>Căn hộ dịch vụ, mini</td>\n",
       "      <td>94 m²</td>\n",
       "      <td>NaN</td>\n",
       "      <td>NaN</td>\n",
       "      <td>Nội thất đầy đủ</td>\n",
       "    </tr>\n",
       "    <tr>\n",
       "      <th>2247</th>\n",
       "      <td>https://www.nhatot.com/mua-ban-can-ho-chung-cu...</td>\n",
       "      <td>Số 1 Phạm Tu, Đại Kim, Phường Đại Kim, Quận Ho...</td>\n",
       "      <td>5.8</td>\n",
       "      <td>68.24</td>\n",
       "      <td>3</td>\n",
       "      <td>NaN</td>\n",
       "      <td>Sổ hồng riêng</td>\n",
       "      <td>Chung cư</td>\n",
       "      <td>85 m²</td>\n",
       "      <td>NaN</td>\n",
       "      <td>NaN</td>\n",
       "      <td>Nội thất đầy đủ</td>\n",
       "    </tr>\n",
       "    <tr>\n",
       "      <th>2252</th>\n",
       "      <td>https://www.nhatot.com/mua-ban-can-ho-chung-cu...</td>\n",
       "      <td>2, Phạm Văn Bạch, Phường Yên Hoà, Quận Cầu Giấ...</td>\n",
       "      <td>8.5</td>\n",
       "      <td>88.54</td>\n",
       "      <td>3</td>\n",
       "      <td>NaN</td>\n",
       "      <td>Sổ hồng riêng</td>\n",
       "      <td>Chung cư</td>\n",
       "      <td>96 m²</td>\n",
       "      <td>NaN</td>\n",
       "      <td>NaN</td>\n",
       "      <td>NaN</td>\n",
       "    </tr>\n",
       "  </tbody>\n",
       "</table>\n",
       "<p>365 rows × 12 columns</p>\n",
       "</div>"
      ],
      "text/plain": [
       "                                                   Link  \\\n",
       "0     https://www.nhatot.com/mua-ban-can-ho-chung-cu...   \n",
       "25    https://www.nhatot.com/mua-ban-can-ho-chung-cu...   \n",
       "36    https://www.nhatot.com/mua-ban-can-ho-chung-cu...   \n",
       "37    https://www.nhatot.com/mua-ban-can-ho-chung-cu...   \n",
       "41    https://www.nhatot.com/mua-ban-can-ho-chung-cu...   \n",
       "...                                                 ...   \n",
       "2207  https://www.nhatot.com/mua-ban-can-ho-chung-cu...   \n",
       "2209  https://www.nhatot.com/mua-ban-can-ho-chung-cu...   \n",
       "2242  https://www.nhatot.com/mua-ban-can-ho-chung-cu...   \n",
       "2247  https://www.nhatot.com/mua-ban-can-ho-chung-cu...   \n",
       "2252  https://www.nhatot.com/mua-ban-can-ho-chung-cu...   \n",
       "\n",
       "                                                Địa chỉ Giá tổng  Giá/m²  \\\n",
       "0     Phố Kim Mã, Phường Ngọc Khánh, Quận Ba Đình, H...     3.28   50.46   \n",
       "25    Phố Kim Mã, Phường Ngọc Khánh, Quận Ba Đình, H...     3.28   50.46   \n",
       "36    trần thái tông, Phường Dịch Vọng Hậu, Quận Cầu...     1.06   25.24   \n",
       "37    Đường Đại Mỗ, Phường Đại Mỗ, Quận Nam Từ Liêm,...      3.6   55.38   \n",
       "41    Phố Minh Khai, Phường Minh Khai, Quận Hai Bà T...     6.95   95.21   \n",
       "...                                                 ...      ...     ...   \n",
       "2207  Yên Viên, Thị trấn Trâu Quỳ, Huyện Gia Lâm, Hà...     22.0   250.0   \n",
       "2209    Đại Mỗ, Phường Tây Mỗ, Quận Nam Từ Liêm, Hà Nội      2.9   67.44   \n",
       "2242  6, Nguyễn Văn Trỗi, Phường Mộ Lao, Quận Hà Đôn...     17.6  187.23   \n",
       "2247  Số 1 Phạm Tu, Đại Kim, Phường Đại Kim, Quận Ho...      5.8   68.24   \n",
       "2252  2, Phạm Văn Bạch, Phường Yên Hoà, Quận Cầu Giấ...      8.5   88.54   \n",
       "\n",
       "     Số phòng ngủ Số phòng vệ sinh   Giấy tờ pháp lý      Loại hình căn hộ  \\\n",
       "0               2              NaN     Sổ hồng riêng        Tập thể, cư xá   \n",
       "25              2              NaN     Sổ hồng riêng        Tập thể, cư xá   \n",
       "36              1              NaN  Hợp đồng mua bán  Căn hộ dịch vụ, mini   \n",
       "37              2              NaN     Sổ hồng riêng              Chung cư   \n",
       "41              2              NaN     Sổ hồng riêng              Chung cư   \n",
       "...           ...              ...               ...                   ...   \n",
       "2207            4              NaN     Sổ hồng riêng                Duplex   \n",
       "2209            2              NaN     Sổ hồng riêng              Chung cư   \n",
       "2242            8              NaN     Sổ hồng riêng  Căn hộ dịch vụ, mini   \n",
       "2247            3              NaN     Sổ hồng riêng              Chung cư   \n",
       "2252            3              NaN     Sổ hồng riêng              Chung cư   \n",
       "\n",
       "     Diện tích Hướng cửa chính Hướng ban công Tình trạng nội thất  \n",
       "0        65 m²             NaN            NaN     Nội thất đầy đủ  \n",
       "25       65 m²             NaN            NaN     Nội thất đầy đủ  \n",
       "36       42 m²             NaN       Đông Nam   Hoàn thiện cơ bản  \n",
       "37       65 m²             Tây           Đông    Nội thất cao cấp  \n",
       "41       73 m²             NaN            NaN                 NaN  \n",
       "...        ...             ...            ...                 ...  \n",
       "2207     88 m²             NaN            NaN   Hoàn thiện cơ bản  \n",
       "2209     43 m²        Đông Nam        Tây Bắc    Nội thất cao cấp  \n",
       "2242     94 m²             NaN            NaN     Nội thất đầy đủ  \n",
       "2247     85 m²             NaN            NaN     Nội thất đầy đủ  \n",
       "2252     96 m²             NaN            NaN                 NaN  \n",
       "\n",
       "[365 rows x 12 columns]"
      ]
     },
     "execution_count": 184,
     "metadata": {},
     "output_type": "execute_result"
    }
   ],
   "source": [
    "df_null_bathroom = df[df['Số phòng vệ sinh'].isnull()]\n",
    "df_null_bathroom"
   ]
  },
  {
   "cell_type": "code",
   "execution_count": 185,
   "metadata": {},
   "outputs": [],
   "source": [
    "df['Số phòng vệ sinh'] = df['Số phòng vệ sinh'].fillna(df['Số phòng ngủ'])\n"
   ]
  },
  {
   "cell_type": "code",
   "execution_count": 186,
   "metadata": {},
   "outputs": [
    {
     "data": {
      "text/plain": [
       "2     1267\n",
       "1      754\n",
       "3      136\n",
       "6       63\n",
       "4       21\n",
       "10      12\n",
       "5        5\n",
       "9        3\n",
       "8        2\n",
       "Name: Số phòng vệ sinh, dtype: int64"
      ]
     },
     "execution_count": 186,
     "metadata": {},
     "output_type": "execute_result"
    }
   ],
   "source": [
    "count = df['Số phòng vệ sinh'].value_counts()\n",
    "count"
   ]
  },
  {
   "cell_type": "markdown",
   "metadata": {},
   "source": [
    "### 5. Xử lí cột Giấy tờ pháp lý"
   ]
  },
  {
   "cell_type": "code",
   "execution_count": 187,
   "metadata": {},
   "outputs": [
    {
     "data": {
      "text/plain": [
       "Sổ hồng riêng       1924\n",
       "Hợp đồng mua bán     227\n",
       "1                     51\n",
       "Đang chờ sổ           47\n",
       "Hợp đồng đặt cọc      14\n",
       "Name: Giấy tờ pháp lý, dtype: int64"
      ]
     },
     "execution_count": 187,
     "metadata": {},
     "output_type": "execute_result"
    }
   ],
   "source": [
    "count = df['Giấy tờ pháp lý'].value_counts()\n",
    "count"
   ]
  },
  {
   "cell_type": "code",
   "execution_count": 188,
   "metadata": {},
   "outputs": [],
   "source": [
    "df['Giấy tờ pháp lý'] = df['Giấy tờ pháp lý'].replace('1', 'Sổ hồng riêng')"
   ]
  },
  {
   "cell_type": "code",
   "execution_count": 189,
   "metadata": {},
   "outputs": [
    {
     "data": {
      "text/plain": [
       "Sổ hồng riêng       1975\n",
       "Hợp đồng mua bán     227\n",
       "Đang chờ sổ           47\n",
       "Hợp đồng đặt cọc      14\n",
       "Name: Giấy tờ pháp lý, dtype: int64"
      ]
     },
     "execution_count": 189,
     "metadata": {},
     "output_type": "execute_result"
    }
   ],
   "source": [
    "count = df['Giấy tờ pháp lý'].value_counts()\n",
    "count"
   ]
  },
  {
   "cell_type": "markdown",
   "metadata": {},
   "source": [
    "### 6. Xử lí cột Diện tích"
   ]
  },
  {
   "cell_type": "code",
   "execution_count": 190,
   "metadata": {},
   "outputs": [
    {
     "data": {
      "text/plain": [
       "0        65.0\n",
       "1        50.0\n",
       "2        68.0\n",
       "3        55.0\n",
       "4        60.0\n",
       "        ...  \n",
       "2258     95.7\n",
       "2259     74.0\n",
       "2260    500.0\n",
       "2261     76.0\n",
       "2262     97.0\n",
       "Name: Diện tích, Length: 2263, dtype: float64"
      ]
     },
     "execution_count": 190,
     "metadata": {},
     "output_type": "execute_result"
    }
   ],
   "source": [
    "df['Diện tích'] = df['Diện tích'].str.replace('m²', '', regex=False)\n",
    "df['Diện tích'] = df['Diện tích'].astype(float)\n",
    "df['Diện tích']"
   ]
  },
  {
   "cell_type": "markdown",
   "metadata": {},
   "source": [
    "### 7. Xử lí cột Loại hình căn hộ"
   ]
  },
  {
   "cell_type": "code",
   "execution_count": 191,
   "metadata": {},
   "outputs": [
    {
     "data": {
      "text/plain": [
       "Chung cư                1757\n",
       "Tập thể, cư xá           313\n",
       "Căn hộ dịch vụ, mini     171\n",
       "Duplex                     8\n",
       "Officetel                  8\n",
       "Penthouse                  6\n",
       "Name: Loại hình căn hộ, dtype: int64"
      ]
     },
     "execution_count": 191,
     "metadata": {},
     "output_type": "execute_result"
    }
   ],
   "source": [
    "count = df['Loại hình căn hộ'].value_counts()\n",
    "count"
   ]
  },
  {
   "cell_type": "code",
   "execution_count": 192,
   "metadata": {},
   "outputs": [],
   "source": [
    "df['Loại hình căn hộ'] = df['Loại hình căn hộ'].str.replace('Tập thể, cư xá', 'Tập thể', regex=False)\n",
    "df['Loại hình căn hộ'] = df['Loại hình căn hộ'].str.replace('Căn hộ dịch vụ, mini', 'Chung cư mini', regex=False)"
   ]
  },
  {
   "cell_type": "code",
   "execution_count": 193,
   "metadata": {},
   "outputs": [
    {
     "data": {
      "text/plain": [
       "Chung cư         1757\n",
       "Tập thể           313\n",
       "Chung cư mini     171\n",
       "Duplex              8\n",
       "Officetel           8\n",
       "Penthouse           6\n",
       "Name: Loại hình căn hộ, dtype: int64"
      ]
     },
     "execution_count": 193,
     "metadata": {},
     "output_type": "execute_result"
    }
   ],
   "source": [
    "count = df['Loại hình căn hộ'].value_counts()\n",
    "count"
   ]
  },
  {
   "cell_type": "markdown",
   "metadata": {},
   "source": [
    "### 8. Xử lí Cột Tình trạng nội thất"
   ]
  },
  {
   "cell_type": "code",
   "execution_count": 194,
   "metadata": {},
   "outputs": [
    {
     "data": {
      "text/plain": [
       "Nội thất đầy đủ      839\n",
       "Nội thất cao cấp     528\n",
       "Hoàn thiện cơ bản    248\n",
       "Bàn giao thô          14\n",
       "Name: Tình trạng nội thất, dtype: int64"
      ]
     },
     "execution_count": 194,
     "metadata": {},
     "output_type": "execute_result"
    }
   ],
   "source": [
    "count = df['Tình trạng nội thất'].value_counts()\n",
    "count"
   ]
  },
  {
   "cell_type": "code",
   "execution_count": 195,
   "metadata": {},
   "outputs": [],
   "source": [
    "df_noi_that_day_du = df[df['Tình trạng nội thất'] == 'Nội thất đầy đủ']\n",
    "df_noi_that_cao_cap = df[df['Tình trạng nội thất'] == 'Nội thất cao cấp']\n",
    "df_hoan_thien_co_ban = df[df['Tình trạng nội thất'] == 'Hoàn thiện cơ bản']\n",
    "df_ban_giao_tho = df[df['Tình trạng nội thất'] == 'Bàn giao thô']"
   ]
  },
  {
   "cell_type": "code",
   "execution_count": 196,
   "metadata": {},
   "outputs": [
    {
     "name": "stdout",
     "output_type": "stream",
     "text": [
      "Khoảng chạy Giá/m2 cho 'Nội thất đầy đủ': 0.02985 - 311.11\n",
      "Khoảng chạy Giá/m2 cho 'Nội thất cao cấp': 0.028571000000000003 - 464.91\n",
      "Khoảng chạy Giá/m2 cho 'Hoàn thiện cơ bản': 0.041966 - 250.0\n",
      "Khoảng chạy Giá/m2 cho 'Bàn giao thô': 2.08 - 194.12\n"
     ]
    }
   ],
   "source": [
    "# Khoảng chạy cho DataFrame 'Nội thất đầy đủ'\n",
    "min_day_du = df_noi_that_day_du['Giá/m²'].min()\n",
    "max_day_du = df_noi_that_day_du['Giá/m²'].max()\n",
    "print(f\"Khoảng chạy Giá/m2 cho 'Nội thất đầy đủ': {min_day_du} - {max_day_du}\")\n",
    "\n",
    "# Khoảng chạy cho DataFrame 'Nội thất cao cấp'\n",
    "min_cao_cap = df_noi_that_cao_cap['Giá/m²'].min()\n",
    "max_cao_cap = df_noi_that_cao_cap['Giá/m²'].max()\n",
    "print(f\"Khoảng chạy Giá/m2 cho 'Nội thất cao cấp': {min_cao_cap} - {max_cao_cap}\")\n",
    "\n",
    "# Khoảng chạy cho DataFrame 'Hoàn thiện cơ bản'\n",
    "min_hoan_thien = df_hoan_thien_co_ban['Giá/m²'].min()\n",
    "max_hoan_thien = df_hoan_thien_co_ban['Giá/m²'].max()\n",
    "print(f\"Khoảng chạy Giá/m2 cho 'Hoàn thiện cơ bản': {min_hoan_thien} - {max_hoan_thien}\")\n",
    "\n",
    "# Khoảng chạy cho DataFrame 'Bàn giao thô'\n",
    "min_ban_giao_tho = df_ban_giao_tho['Giá/m²'].min()\n",
    "max_ban_giao_tho = df_ban_giao_tho['Giá/m²'].max()\n",
    "print(f\"Khoảng chạy Giá/m2 cho 'Bàn giao thô': {min_ban_giao_tho} - {max_ban_giao_tho}\")\n"
   ]
  },
  {
   "cell_type": "code",
   "execution_count": 197,
   "metadata": {},
   "outputs": [
    {
     "data": {
      "text/plain": [
       "count     839.00\n",
       "unique    581.00\n",
       "top        41.67\n",
       "freq       15.00\n",
       "Name: Giá/m², dtype: float64"
      ]
     },
     "execution_count": 197,
     "metadata": {},
     "output_type": "execute_result"
    }
   ],
   "source": [
    "df_noi_that_day_du['Giá/m²'].describe()"
   ]
  },
  {
   "cell_type": "code",
   "execution_count": 198,
   "metadata": {},
   "outputs": [],
   "source": [
    "# Hàm gán giá trị Tình trạng nội thất dựa trên khoảng Giá/m2\n",
    "def fill_noi_that(row):\n",
    "    if pd.isnull(row['Tình trạng nội thất']):\n",
    "        if 43.3 <= row['Giá/m²'] <= 62:\n",
    "            return 'Nội thất đầy đủ'\n",
    "        elif 62 < row['Giá/m²'] <= 464.91:\n",
    "            return 'Nội thất cao cấp'\n",
    "        elif 20 <= row['Giá/m²'] <= 43.3:\n",
    "            return 'Hoàn thiện cơ bản'\n",
    "        elif 0 <= row['Giá/m²'] <= 20:\n",
    "            return 'Bàn giao thô'\n",
    "    else:\n",
    "        return row['Tình trạng nội thất']\n",
    "\n",
    "# Áp dụng hàm để điền giá trị\n",
    "df['Tình trạng nội thất'] = df.apply(fill_noi_that, axis=1)\n"
   ]
  },
  {
   "cell_type": "code",
   "execution_count": 199,
   "metadata": {},
   "outputs": [
    {
     "data": {
      "text/plain": [
       "Nội thất đầy đủ      1160\n",
       "Nội thất cao cấp      699\n",
       "Hoàn thiện cơ bản     377\n",
       "Bàn giao thô           27\n",
       "Name: Tình trạng nội thất, dtype: int64"
      ]
     },
     "execution_count": 199,
     "metadata": {},
     "output_type": "execute_result"
    }
   ],
   "source": [
    "count = df['Tình trạng nội thất'].value_counts()\n",
    "count"
   ]
  },
  {
   "cell_type": "markdown",
   "metadata": {},
   "source": [
    "### 9. Xử lí cột địa chỉ"
   ]
  },
  {
   "cell_type": "code",
   "execution_count": 200,
   "metadata": {},
   "outputs": [
    {
     "name": "stdout",
     "output_type": "stream",
     "text": [
      "           Xã/Phường    Quận/Huyện\n",
      "0         Ngọc Khánh       Ba Đình\n",
      "1        Quang Trung       Đống Đa\n",
      "2     Thanh Xuân Bắc    Thanh Xuân\n",
      "3         Nhân Chính    Thanh Xuân\n",
      "4           Trâu Quỳ       Gia Lâm\n",
      "...              ...           ...\n",
      "2258        Xuân Tảo   Bắc Từ Liêm\n",
      "2259        Vĩnh Tuy  Hai Bà Trưng\n",
      "2260       Mỹ Đình 2   Nam Từ Liêm\n",
      "2261         Xuân La        Tây Hồ\n",
      "2262     Lê Đại Hành  Hai Bà Trưng\n",
      "\n",
      "[2263 rows x 2 columns]\n"
     ]
    }
   ],
   "source": [
    "def extract_commune_district(text):\n",
    "    commune, district = None, None\n",
    "    if \"Xã\" in text:\n",
    "        start = text.find(\"Xã\") + len(\"Xã \")\n",
    "        end = text.find(\",\", start)\n",
    "        commune = text[start:end].strip()\n",
    "    elif \"Phường\" in text:\n",
    "        start = text.find(\"Phường\") + len(\"Phường \")\n",
    "        end = text.find(\",\", start)\n",
    "        commune = text[start:end].strip()\n",
    "    elif \"Thị trấn\" in text:\n",
    "        start = text.find(\"Thị trấn\") + len(\"Thị trấn \")\n",
    "        end = text.find(\",\", start)\n",
    "        commune = text[start:end].strip()\n",
    "    \n",
    "    if \"Huyện\" in text:\n",
    "        start = text.find(\"Huyện\") + len(\"Huyện \")\n",
    "        end = text.find(\",\", start)\n",
    "        district = text[start:end].strip()\n",
    "    elif \"Quận\" in text:\n",
    "        start = text.find(\"Quận\") + len(\"Quận \")\n",
    "        end = text.find(\",\", start)\n",
    "        district = text[start:end].strip()\n",
    "    elif \"Thị xã\" in text:\n",
    "        start = text.find(\"Thị xã\") + len(\"Thị xã \")\n",
    "        end = text.find(\",\", start)\n",
    "        district = text[start:end].strip()\n",
    "    \n",
    "    return commune, district\n",
    "\n",
    "# Áp dụng hàm để tạo hai cột 'commune' và 'district'\n",
    "df[['Xã/Phường', 'Quận/Huyện']] = df['Địa chỉ'].apply(lambda x: pd.Series(extract_commune_district(x)))\n",
    "\n",
    "# Hiển thị kết quả\n",
    "print(df[['Xã/Phường', 'Quận/Huyện']])"
   ]
  },
  {
   "cell_type": "code",
   "execution_count": 201,
   "metadata": {},
   "outputs": [
    {
     "data": {
      "text/plain": [
       "Link                   13\n",
       "Địa chỉ                13\n",
       "Giá tổng               13\n",
       "Giá/m²                 13\n",
       "Số phòng ngủ           13\n",
       "Số phòng vệ sinh       13\n",
       "Giấy tờ pháp lý        13\n",
       "Loại hình căn hộ       13\n",
       "Diện tích              13\n",
       "Hướng cửa chính         5\n",
       "Hướng ban công          2\n",
       "Tình trạng nội thất    13\n",
       "Xã/Phường               0\n",
       "Quận/Huyện              0\n",
       "dtype: int64"
      ]
     },
     "execution_count": 201,
     "metadata": {},
     "output_type": "execute_result"
    }
   ],
   "source": [
    "missing_df = df[df['Xã/Phường'].isnull()]\n",
    "missing_df.count()\n"
   ]
  },
  {
   "cell_type": "code",
   "execution_count": 202,
   "metadata": {},
   "outputs": [
    {
     "data": {
      "text/plain": [
       "Link                   13\n",
       "Địa chỉ                13\n",
       "Giá tổng               13\n",
       "Giá/m²                 13\n",
       "Số phòng ngủ           13\n",
       "Số phòng vệ sinh       13\n",
       "Giấy tờ pháp lý        13\n",
       "Loại hình căn hộ       13\n",
       "Diện tích              13\n",
       "Hướng cửa chính         5\n",
       "Hướng ban công          2\n",
       "Tình trạng nội thất    13\n",
       "Xã/Phường               0\n",
       "Quận/Huyện              0\n",
       "dtype: int64"
      ]
     },
     "execution_count": 202,
     "metadata": {},
     "output_type": "execute_result"
    }
   ],
   "source": [
    "missing_df = df[df['Quận/Huyện'].isnull()]\n",
    "missing_df.count()"
   ]
  },
  {
   "cell_type": "code",
   "execution_count": 203,
   "metadata": {},
   "outputs": [
    {
     "data": {
      "text/plain": [
       "2263"
      ]
     },
     "execution_count": 203,
     "metadata": {},
     "output_type": "execute_result"
    }
   ],
   "source": [
    "df['Xã/Phường'].fillna(\"Trống\", inplace=True)\n",
    "df['Quận/Huyện'].fillna(\"Trống\", inplace=True)\n",
    "df.drop(columns=['Địa chỉ'], inplace=True)\n",
    "df['Quận/Huyện'].count()\n",
    "df['Xã/Phường'].count()"
   ]
  },
  {
   "cell_type": "code",
   "execution_count": 204,
   "metadata": {},
   "outputs": [
    {
     "name": "stdout",
     "output_type": "stream",
     "text": [
      "Link                   0\n",
      "Giá tổng               0\n",
      "Giá/m²                 0\n",
      "Số phòng ngủ           0\n",
      "Số phòng vệ sinh       0\n",
      "Giấy tờ pháp lý        0\n",
      "Loại hình căn hộ       0\n",
      "Diện tích              0\n",
      "Hướng cửa chính        0\n",
      "Hướng ban công         0\n",
      "Tình trạng nội thất    0\n",
      "Xã/Phường              0\n",
      "Quận/Huyện             0\n",
      "dtype: int64\n"
     ]
    }
   ],
   "source": [
    "missing_commune_df = df[df['Quận/Huyện'].isnull()]\n",
    "print(missing_commune_df.count())"
   ]
  },
  {
   "cell_type": "markdown",
   "metadata": {},
   "source": [
    "### 10. Kết quả"
   ]
  },
  {
   "cell_type": "code",
   "execution_count": 205,
   "metadata": {},
   "outputs": [
    {
     "data": {
      "text/html": [
       "<div>\n",
       "<style scoped>\n",
       "    .dataframe tbody tr th:only-of-type {\n",
       "        vertical-align: middle;\n",
       "    }\n",
       "\n",
       "    .dataframe tbody tr th {\n",
       "        vertical-align: top;\n",
       "    }\n",
       "\n",
       "    .dataframe thead th {\n",
       "        text-align: right;\n",
       "    }\n",
       "</style>\n",
       "<table border=\"1\" class=\"dataframe\">\n",
       "  <thead>\n",
       "    <tr style=\"text-align: right;\">\n",
       "      <th></th>\n",
       "      <th>Link</th>\n",
       "      <th>Giá tổng</th>\n",
       "      <th>Giá/m²</th>\n",
       "      <th>Số phòng ngủ</th>\n",
       "      <th>Số phòng vệ sinh</th>\n",
       "      <th>Giấy tờ pháp lý</th>\n",
       "      <th>Loại hình căn hộ</th>\n",
       "      <th>Diện tích</th>\n",
       "      <th>Hướng cửa chính</th>\n",
       "      <th>Hướng ban công</th>\n",
       "      <th>Tình trạng nội thất</th>\n",
       "      <th>Xã/Phường</th>\n",
       "      <th>Quận/Huyện</th>\n",
       "    </tr>\n",
       "  </thead>\n",
       "  <tbody>\n",
       "    <tr>\n",
       "      <th>0</th>\n",
       "      <td>https://www.nhatot.com/mua-ban-can-ho-chung-cu...</td>\n",
       "      <td>3.28</td>\n",
       "      <td>50.46</td>\n",
       "      <td>2</td>\n",
       "      <td>2</td>\n",
       "      <td>Sổ hồng riêng</td>\n",
       "      <td>Tập thể</td>\n",
       "      <td>65.0</td>\n",
       "      <td>NaN</td>\n",
       "      <td>NaN</td>\n",
       "      <td>Nội thất đầy đủ</td>\n",
       "      <td>Ngọc Khánh</td>\n",
       "      <td>Ba Đình</td>\n",
       "    </tr>\n",
       "    <tr>\n",
       "      <th>1</th>\n",
       "      <td>https://www.nhatot.com/mua-ban-can-ho-chung-cu...</td>\n",
       "      <td>1.65</td>\n",
       "      <td>33.0</td>\n",
       "      <td>2</td>\n",
       "      <td>1</td>\n",
       "      <td>Sổ hồng riêng</td>\n",
       "      <td>Chung cư</td>\n",
       "      <td>50.0</td>\n",
       "      <td>NaN</td>\n",
       "      <td>NaN</td>\n",
       "      <td>Nội thất cao cấp</td>\n",
       "      <td>Quang Trung</td>\n",
       "      <td>Đống Đa</td>\n",
       "    </tr>\n",
       "    <tr>\n",
       "      <th>2</th>\n",
       "      <td>https://www.nhatot.com/mua-ban-can-ho-chung-cu...</td>\n",
       "      <td>2.86</td>\n",
       "      <td>42.06</td>\n",
       "      <td>2</td>\n",
       "      <td>1</td>\n",
       "      <td>Sổ hồng riêng</td>\n",
       "      <td>Tập thể</td>\n",
       "      <td>68.0</td>\n",
       "      <td>NaN</td>\n",
       "      <td>NaN</td>\n",
       "      <td>Nội thất đầy đủ</td>\n",
       "      <td>Thanh Xuân Bắc</td>\n",
       "      <td>Thanh Xuân</td>\n",
       "    </tr>\n",
       "    <tr>\n",
       "      <th>3</th>\n",
       "      <td>https://www.nhatot.com/mua-ban-can-ho-chung-cu...</td>\n",
       "      <td>1.86</td>\n",
       "      <td>33.82</td>\n",
       "      <td>2</td>\n",
       "      <td>1</td>\n",
       "      <td>Sổ hồng riêng</td>\n",
       "      <td>Chung cư mini</td>\n",
       "      <td>55.0</td>\n",
       "      <td>NaN</td>\n",
       "      <td>NaN</td>\n",
       "      <td>Hoàn thiện cơ bản</td>\n",
       "      <td>Nhân Chính</td>\n",
       "      <td>Thanh Xuân</td>\n",
       "    </tr>\n",
       "    <tr>\n",
       "      <th>4</th>\n",
       "      <td>https://www.nhatot.com/mua-ban-can-ho-chung-cu...</td>\n",
       "      <td>2.5</td>\n",
       "      <td>41.67</td>\n",
       "      <td>2</td>\n",
       "      <td>1</td>\n",
       "      <td>Sổ hồng riêng</td>\n",
       "      <td>Chung cư</td>\n",
       "      <td>60.0</td>\n",
       "      <td>NaN</td>\n",
       "      <td>NaN</td>\n",
       "      <td>Nội thất đầy đủ</td>\n",
       "      <td>Trâu Quỳ</td>\n",
       "      <td>Gia Lâm</td>\n",
       "    </tr>\n",
       "    <tr>\n",
       "      <th>...</th>\n",
       "      <td>...</td>\n",
       "      <td>...</td>\n",
       "      <td>...</td>\n",
       "      <td>...</td>\n",
       "      <td>...</td>\n",
       "      <td>...</td>\n",
       "      <td>...</td>\n",
       "      <td>...</td>\n",
       "      <td>...</td>\n",
       "      <td>...</td>\n",
       "      <td>...</td>\n",
       "      <td>...</td>\n",
       "      <td>...</td>\n",
       "    </tr>\n",
       "    <tr>\n",
       "      <th>2258</th>\n",
       "      <td>https://www.nhatot.com/mua-ban-can-ho-chung-cu...</td>\n",
       "      <td>10.0</td>\n",
       "      <td>104.49</td>\n",
       "      <td>2</td>\n",
       "      <td>2</td>\n",
       "      <td>Sổ hồng riêng</td>\n",
       "      <td>Chung cư</td>\n",
       "      <td>95.7</td>\n",
       "      <td>Tây</td>\n",
       "      <td>Đông</td>\n",
       "      <td>Nội thất cao cấp</td>\n",
       "      <td>Xuân Tảo</td>\n",
       "      <td>Bắc Từ Liêm</td>\n",
       "    </tr>\n",
       "    <tr>\n",
       "      <th>2259</th>\n",
       "      <td>https://www.nhatot.com/mua-ban-can-ho-chung-cu...</td>\n",
       "      <td>5.35</td>\n",
       "      <td>72.3</td>\n",
       "      <td>2</td>\n",
       "      <td>2</td>\n",
       "      <td>Sổ hồng riêng</td>\n",
       "      <td>Chung cư</td>\n",
       "      <td>74.0</td>\n",
       "      <td>Đông</td>\n",
       "      <td>Tây</td>\n",
       "      <td>Nội thất đầy đủ</td>\n",
       "      <td>Vĩnh Tuy</td>\n",
       "      <td>Hai Bà Trưng</td>\n",
       "    </tr>\n",
       "    <tr>\n",
       "      <th>2260</th>\n",
       "      <td>https://www.nhatot.com/mua-ban-can-ho-chung-cu...</td>\n",
       "      <td>28.0</td>\n",
       "      <td>56.0</td>\n",
       "      <td>5</td>\n",
       "      <td>4</td>\n",
       "      <td>Hợp đồng mua bán</td>\n",
       "      <td>Penthouse</td>\n",
       "      <td>500.0</td>\n",
       "      <td>NaN</td>\n",
       "      <td>NaN</td>\n",
       "      <td>Nội thất đầy đủ</td>\n",
       "      <td>Mỹ Đình 2</td>\n",
       "      <td>Nam Từ Liêm</td>\n",
       "    </tr>\n",
       "    <tr>\n",
       "      <th>2261</th>\n",
       "      <td>https://www.nhatot.com/mua-ban-can-ho-chung-cu...</td>\n",
       "      <td>6.5</td>\n",
       "      <td>85.53</td>\n",
       "      <td>2</td>\n",
       "      <td>2</td>\n",
       "      <td>Đang chờ sổ</td>\n",
       "      <td>Chung cư</td>\n",
       "      <td>76.0</td>\n",
       "      <td>Đông Nam</td>\n",
       "      <td>Tây Bắc</td>\n",
       "      <td>Nội thất cao cấp</td>\n",
       "      <td>Xuân La</td>\n",
       "      <td>Tây Hồ</td>\n",
       "    </tr>\n",
       "    <tr>\n",
       "      <th>2262</th>\n",
       "      <td>https://www.nhatot.com/mua-ban-can-ho-chung-cu...</td>\n",
       "      <td>8.6</td>\n",
       "      <td>88.66</td>\n",
       "      <td>3</td>\n",
       "      <td>2</td>\n",
       "      <td>Sổ hồng riêng</td>\n",
       "      <td>Chung cư</td>\n",
       "      <td>97.0</td>\n",
       "      <td>NaN</td>\n",
       "      <td>NaN</td>\n",
       "      <td>Nội thất cao cấp</td>\n",
       "      <td>Lê Đại Hành</td>\n",
       "      <td>Hai Bà Trưng</td>\n",
       "    </tr>\n",
       "  </tbody>\n",
       "</table>\n",
       "<p>2263 rows × 13 columns</p>\n",
       "</div>"
      ],
      "text/plain": [
       "                                                   Link Giá tổng  Giá/m²  \\\n",
       "0     https://www.nhatot.com/mua-ban-can-ho-chung-cu...     3.28   50.46   \n",
       "1     https://www.nhatot.com/mua-ban-can-ho-chung-cu...     1.65    33.0   \n",
       "2     https://www.nhatot.com/mua-ban-can-ho-chung-cu...     2.86   42.06   \n",
       "3     https://www.nhatot.com/mua-ban-can-ho-chung-cu...     1.86   33.82   \n",
       "4     https://www.nhatot.com/mua-ban-can-ho-chung-cu...      2.5   41.67   \n",
       "...                                                 ...      ...     ...   \n",
       "2258  https://www.nhatot.com/mua-ban-can-ho-chung-cu...     10.0  104.49   \n",
       "2259  https://www.nhatot.com/mua-ban-can-ho-chung-cu...     5.35    72.3   \n",
       "2260  https://www.nhatot.com/mua-ban-can-ho-chung-cu...     28.0    56.0   \n",
       "2261  https://www.nhatot.com/mua-ban-can-ho-chung-cu...      6.5   85.53   \n",
       "2262  https://www.nhatot.com/mua-ban-can-ho-chung-cu...      8.6   88.66   \n",
       "\n",
       "     Số phòng ngủ Số phòng vệ sinh   Giấy tờ pháp lý Loại hình căn hộ  \\\n",
       "0               2                2     Sổ hồng riêng          Tập thể   \n",
       "1               2                1     Sổ hồng riêng         Chung cư   \n",
       "2               2                1     Sổ hồng riêng          Tập thể   \n",
       "3               2                1     Sổ hồng riêng    Chung cư mini   \n",
       "4               2                1     Sổ hồng riêng         Chung cư   \n",
       "...           ...              ...               ...              ...   \n",
       "2258            2                2     Sổ hồng riêng         Chung cư   \n",
       "2259            2                2     Sổ hồng riêng         Chung cư   \n",
       "2260            5                4  Hợp đồng mua bán        Penthouse   \n",
       "2261            2                2       Đang chờ sổ         Chung cư   \n",
       "2262            3                2     Sổ hồng riêng         Chung cư   \n",
       "\n",
       "      Diện tích Hướng cửa chính Hướng ban công Tình trạng nội thất  \\\n",
       "0          65.0             NaN            NaN     Nội thất đầy đủ   \n",
       "1          50.0             NaN            NaN    Nội thất cao cấp   \n",
       "2          68.0             NaN            NaN     Nội thất đầy đủ   \n",
       "3          55.0             NaN            NaN   Hoàn thiện cơ bản   \n",
       "4          60.0             NaN            NaN     Nội thất đầy đủ   \n",
       "...         ...             ...            ...                 ...   \n",
       "2258       95.7             Tây           Đông    Nội thất cao cấp   \n",
       "2259       74.0            Đông            Tây     Nội thất đầy đủ   \n",
       "2260      500.0             NaN            NaN     Nội thất đầy đủ   \n",
       "2261       76.0        Đông Nam        Tây Bắc    Nội thất cao cấp   \n",
       "2262       97.0             NaN            NaN    Nội thất cao cấp   \n",
       "\n",
       "           Xã/Phường    Quận/Huyện  \n",
       "0         Ngọc Khánh       Ba Đình  \n",
       "1        Quang Trung       Đống Đa  \n",
       "2     Thanh Xuân Bắc    Thanh Xuân  \n",
       "3         Nhân Chính    Thanh Xuân  \n",
       "4           Trâu Quỳ       Gia Lâm  \n",
       "...              ...           ...  \n",
       "2258        Xuân Tảo   Bắc Từ Liêm  \n",
       "2259        Vĩnh Tuy  Hai Bà Trưng  \n",
       "2260       Mỹ Đình 2   Nam Từ Liêm  \n",
       "2261         Xuân La        Tây Hồ  \n",
       "2262     Lê Đại Hành  Hai Bà Trưng  \n",
       "\n",
       "[2263 rows x 13 columns]"
      ]
     },
     "execution_count": 205,
     "metadata": {},
     "output_type": "execute_result"
    }
   ],
   "source": [
    "df"
   ]
  },
  {
   "cell_type": "code",
   "execution_count": 206,
   "metadata": {},
   "outputs": [
    {
     "name": "stdout",
     "output_type": "stream",
     "text": [
      "<class 'pandas.core.frame.DataFrame'>\n",
      "RangeIndex: 2263 entries, 0 to 2262\n",
      "Data columns (total 13 columns):\n",
      " #   Column               Non-Null Count  Dtype  \n",
      "---  ------               --------------  -----  \n",
      " 0   Link                 2263 non-null   object \n",
      " 1   Giá tổng             2263 non-null   object \n",
      " 2   Giá/m²               2263 non-null   object \n",
      " 3   Số phòng ngủ         2263 non-null   object \n",
      " 4   Số phòng vệ sinh     2263 non-null   object \n",
      " 5   Giấy tờ pháp lý      2263 non-null   object \n",
      " 6   Loại hình căn hộ     2263 non-null   object \n",
      " 7   Diện tích            2263 non-null   float64\n",
      " 8   Hướng cửa chính      526 non-null    object \n",
      " 9   Hướng ban công       596 non-null    object \n",
      " 10  Tình trạng nội thất  2263 non-null   object \n",
      " 11  Xã/Phường            2263 non-null   object \n",
      " 12  Quận/Huyện           2263 non-null   object \n",
      "dtypes: float64(1), object(12)\n",
      "memory usage: 230.0+ KB\n"
     ]
    }
   ],
   "source": [
    "df.info()"
   ]
  },
  {
   "cell_type": "code",
   "execution_count": 207,
   "metadata": {},
   "outputs": [],
   "source": [
    "df['Giá tổng'] = df['Giá tổng'].astype(float)\n",
    "df['Giá/m²'] = df['Giá/m²'].astype(float)\n",
    "df['Diện tích'] = df['Diện tích'].astype(float)\n",
    "df['Số phòng ngủ'] = df['Số phòng ngủ'].astype(int)\n",
    "df['Số phòng vệ sinh'] = df['Số phòng vệ sinh'].astype(int)"
   ]
  },
  {
   "cell_type": "code",
   "execution_count": 208,
   "metadata": {},
   "outputs": [
    {
     "name": "stdout",
     "output_type": "stream",
     "text": [
      "<class 'pandas.core.frame.DataFrame'>\n",
      "RangeIndex: 2263 entries, 0 to 2262\n",
      "Data columns (total 13 columns):\n",
      " #   Column               Non-Null Count  Dtype  \n",
      "---  ------               --------------  -----  \n",
      " 0   Link                 2263 non-null   object \n",
      " 1   Giá tổng             2263 non-null   float64\n",
      " 2   Giá/m²               2263 non-null   float64\n",
      " 3   Số phòng ngủ         2263 non-null   int32  \n",
      " 4   Số phòng vệ sinh     2263 non-null   int32  \n",
      " 5   Giấy tờ pháp lý      2263 non-null   object \n",
      " 6   Loại hình căn hộ     2263 non-null   object \n",
      " 7   Diện tích            2263 non-null   float64\n",
      " 8   Hướng cửa chính      526 non-null    object \n",
      " 9   Hướng ban công       596 non-null    object \n",
      " 10  Tình trạng nội thất  2263 non-null   object \n",
      " 11  Xã/Phường            2263 non-null   object \n",
      " 12  Quận/Huyện           2263 non-null   object \n",
      "dtypes: float64(3), int32(2), object(8)\n",
      "memory usage: 212.3+ KB\n"
     ]
    }
   ],
   "source": [
    "df.info()"
   ]
  },
  {
   "cell_type": "code",
   "execution_count": 209,
   "metadata": {},
   "outputs": [
    {
     "data": {
      "text/html": [
       "<div>\n",
       "<style scoped>\n",
       "    .dataframe tbody tr th:only-of-type {\n",
       "        vertical-align: middle;\n",
       "    }\n",
       "\n",
       "    .dataframe tbody tr th {\n",
       "        vertical-align: top;\n",
       "    }\n",
       "\n",
       "    .dataframe thead th {\n",
       "        text-align: right;\n",
       "    }\n",
       "</style>\n",
       "<table border=\"1\" class=\"dataframe\">\n",
       "  <thead>\n",
       "    <tr style=\"text-align: right;\">\n",
       "      <th></th>\n",
       "      <th>Link</th>\n",
       "      <th>Giá tổng</th>\n",
       "      <th>Giá/m²</th>\n",
       "      <th>Số phòng ngủ</th>\n",
       "      <th>Số phòng vệ sinh</th>\n",
       "      <th>Giấy tờ pháp lý</th>\n",
       "      <th>Loại hình căn hộ</th>\n",
       "      <th>Diện tích</th>\n",
       "      <th>Hướng cửa chính</th>\n",
       "      <th>Hướng ban công</th>\n",
       "      <th>Tình trạng nội thất</th>\n",
       "      <th>Xã/Phường</th>\n",
       "      <th>Quận/Huyện</th>\n",
       "    </tr>\n",
       "  </thead>\n",
       "  <tbody>\n",
       "    <tr>\n",
       "      <th>count</th>\n",
       "      <td>2263</td>\n",
       "      <td>2263.000000</td>\n",
       "      <td>2263.000000</td>\n",
       "      <td>2263.000000</td>\n",
       "      <td>2263.000000</td>\n",
       "      <td>2263</td>\n",
       "      <td>2263</td>\n",
       "      <td>2263.000000</td>\n",
       "      <td>526</td>\n",
       "      <td>596</td>\n",
       "      <td>2263</td>\n",
       "      <td>2263</td>\n",
       "      <td>2263</td>\n",
       "    </tr>\n",
       "    <tr>\n",
       "      <th>unique</th>\n",
       "      <td>2263</td>\n",
       "      <td>NaN</td>\n",
       "      <td>NaN</td>\n",
       "      <td>NaN</td>\n",
       "      <td>NaN</td>\n",
       "      <td>4</td>\n",
       "      <td>6</td>\n",
       "      <td>NaN</td>\n",
       "      <td>8</td>\n",
       "      <td>8</td>\n",
       "      <td>4</td>\n",
       "      <td>170</td>\n",
       "      <td>21</td>\n",
       "    </tr>\n",
       "    <tr>\n",
       "      <th>top</th>\n",
       "      <td>https://www.nhatot.com/mua-ban-can-ho-chung-cu...</td>\n",
       "      <td>NaN</td>\n",
       "      <td>NaN</td>\n",
       "      <td>NaN</td>\n",
       "      <td>NaN</td>\n",
       "      <td>Sổ hồng riêng</td>\n",
       "      <td>Chung cư</td>\n",
       "      <td>NaN</td>\n",
       "      <td>Tây Bắc</td>\n",
       "      <td>Đông Nam</td>\n",
       "      <td>Nội thất đầy đủ</td>\n",
       "      <td>Trâu Quỳ</td>\n",
       "      <td>Nam Từ Liêm</td>\n",
       "    </tr>\n",
       "    <tr>\n",
       "      <th>freq</th>\n",
       "      <td>1</td>\n",
       "      <td>NaN</td>\n",
       "      <td>NaN</td>\n",
       "      <td>NaN</td>\n",
       "      <td>NaN</td>\n",
       "      <td>1975</td>\n",
       "      <td>1757</td>\n",
       "      <td>NaN</td>\n",
       "      <td>117</td>\n",
       "      <td>272</td>\n",
       "      <td>1160</td>\n",
       "      <td>376</td>\n",
       "      <td>457</td>\n",
       "    </tr>\n",
       "    <tr>\n",
       "      <th>mean</th>\n",
       "      <td>NaN</td>\n",
       "      <td>4.032369</td>\n",
       "      <td>57.276836</td>\n",
       "      <td>2.449845</td>\n",
       "      <td>1.920460</td>\n",
       "      <td>NaN</td>\n",
       "      <td>NaN</td>\n",
       "      <td>72.621745</td>\n",
       "      <td>NaN</td>\n",
       "      <td>NaN</td>\n",
       "      <td>NaN</td>\n",
       "      <td>NaN</td>\n",
       "      <td>NaN</td>\n",
       "    </tr>\n",
       "    <tr>\n",
       "      <th>std</th>\n",
       "      <td>NaN</td>\n",
       "      <td>3.345724</td>\n",
       "      <td>38.421083</td>\n",
       "      <td>1.575124</td>\n",
       "      <td>1.151573</td>\n",
       "      <td>NaN</td>\n",
       "      <td>NaN</td>\n",
       "      <td>108.284372</td>\n",
       "      <td>NaN</td>\n",
       "      <td>NaN</td>\n",
       "      <td>NaN</td>\n",
       "      <td>NaN</td>\n",
       "      <td>NaN</td>\n",
       "    </tr>\n",
       "    <tr>\n",
       "      <th>min</th>\n",
       "      <td>NaN</td>\n",
       "      <td>0.002000</td>\n",
       "      <td>0.014035</td>\n",
       "      <td>1.000000</td>\n",
       "      <td>1.000000</td>\n",
       "      <td>NaN</td>\n",
       "      <td>NaN</td>\n",
       "      <td>17.000000</td>\n",
       "      <td>NaN</td>\n",
       "      <td>NaN</td>\n",
       "      <td>NaN</td>\n",
       "      <td>NaN</td>\n",
       "      <td>NaN</td>\n",
       "    </tr>\n",
       "    <tr>\n",
       "      <th>25%</th>\n",
       "      <td>NaN</td>\n",
       "      <td>2.450000</td>\n",
       "      <td>42.500000</td>\n",
       "      <td>2.000000</td>\n",
       "      <td>1.000000</td>\n",
       "      <td>NaN</td>\n",
       "      <td>NaN</td>\n",
       "      <td>52.500000</td>\n",
       "      <td>NaN</td>\n",
       "      <td>NaN</td>\n",
       "      <td>NaN</td>\n",
       "      <td>NaN</td>\n",
       "      <td>NaN</td>\n",
       "    </tr>\n",
       "    <tr>\n",
       "      <th>50%</th>\n",
       "      <td>NaN</td>\n",
       "      <td>3.400000</td>\n",
       "      <td>50.460000</td>\n",
       "      <td>2.000000</td>\n",
       "      <td>2.000000</td>\n",
       "      <td>NaN</td>\n",
       "      <td>NaN</td>\n",
       "      <td>68.000000</td>\n",
       "      <td>NaN</td>\n",
       "      <td>NaN</td>\n",
       "      <td>NaN</td>\n",
       "      <td>NaN</td>\n",
       "      <td>NaN</td>\n",
       "    </tr>\n",
       "    <tr>\n",
       "      <th>75%</th>\n",
       "      <td>NaN</td>\n",
       "      <td>4.600000</td>\n",
       "      <td>63.530000</td>\n",
       "      <td>3.000000</td>\n",
       "      <td>2.000000</td>\n",
       "      <td>NaN</td>\n",
       "      <td>NaN</td>\n",
       "      <td>80.000000</td>\n",
       "      <td>NaN</td>\n",
       "      <td>NaN</td>\n",
       "      <td>NaN</td>\n",
       "      <td>NaN</td>\n",
       "      <td>NaN</td>\n",
       "    </tr>\n",
       "    <tr>\n",
       "      <th>max</th>\n",
       "      <td>NaN</td>\n",
       "      <td>41.000000</td>\n",
       "      <td>464.910000</td>\n",
       "      <td>10.000000</td>\n",
       "      <td>10.000000</td>\n",
       "      <td>NaN</td>\n",
       "      <td>NaN</td>\n",
       "      <td>5031.000000</td>\n",
       "      <td>NaN</td>\n",
       "      <td>NaN</td>\n",
       "      <td>NaN</td>\n",
       "      <td>NaN</td>\n",
       "      <td>NaN</td>\n",
       "    </tr>\n",
       "  </tbody>\n",
       "</table>\n",
       "</div>"
      ],
      "text/plain": [
       "                                                     Link     Giá tổng  \\\n",
       "count                                                2263  2263.000000   \n",
       "unique                                               2263          NaN   \n",
       "top     https://www.nhatot.com/mua-ban-can-ho-chung-cu...          NaN   \n",
       "freq                                                    1          NaN   \n",
       "mean                                                  NaN     4.032369   \n",
       "std                                                   NaN     3.345724   \n",
       "min                                                   NaN     0.002000   \n",
       "25%                                                   NaN     2.450000   \n",
       "50%                                                   NaN     3.400000   \n",
       "75%                                                   NaN     4.600000   \n",
       "max                                                   NaN    41.000000   \n",
       "\n",
       "             Giá/m²  Số phòng ngủ  Số phòng vệ sinh Giấy tờ pháp lý  \\\n",
       "count   2263.000000   2263.000000       2263.000000            2263   \n",
       "unique          NaN           NaN               NaN               4   \n",
       "top             NaN           NaN               NaN   Sổ hồng riêng   \n",
       "freq            NaN           NaN               NaN            1975   \n",
       "mean      57.276836      2.449845          1.920460             NaN   \n",
       "std       38.421083      1.575124          1.151573             NaN   \n",
       "min        0.014035      1.000000          1.000000             NaN   \n",
       "25%       42.500000      2.000000          1.000000             NaN   \n",
       "50%       50.460000      2.000000          2.000000             NaN   \n",
       "75%       63.530000      3.000000          2.000000             NaN   \n",
       "max      464.910000     10.000000         10.000000             NaN   \n",
       "\n",
       "       Loại hình căn hộ    Diện tích Hướng cửa chính Hướng ban công  \\\n",
       "count              2263  2263.000000             526            596   \n",
       "unique                6          NaN               8              8   \n",
       "top            Chung cư          NaN         Tây Bắc       Đông Nam   \n",
       "freq               1757          NaN             117            272   \n",
       "mean                NaN    72.621745             NaN            NaN   \n",
       "std                 NaN   108.284372             NaN            NaN   \n",
       "min                 NaN    17.000000             NaN            NaN   \n",
       "25%                 NaN    52.500000             NaN            NaN   \n",
       "50%                 NaN    68.000000             NaN            NaN   \n",
       "75%                 NaN    80.000000             NaN            NaN   \n",
       "max                 NaN  5031.000000             NaN            NaN   \n",
       "\n",
       "       Tình trạng nội thất Xã/Phường   Quận/Huyện  \n",
       "count                 2263      2263         2263  \n",
       "unique                   4       170           21  \n",
       "top        Nội thất đầy đủ  Trâu Quỳ  Nam Từ Liêm  \n",
       "freq                  1160       376          457  \n",
       "mean                   NaN       NaN          NaN  \n",
       "std                    NaN       NaN          NaN  \n",
       "min                    NaN       NaN          NaN  \n",
       "25%                    NaN       NaN          NaN  \n",
       "50%                    NaN       NaN          NaN  \n",
       "75%                    NaN       NaN          NaN  \n",
       "max                    NaN       NaN          NaN  "
      ]
     },
     "execution_count": 209,
     "metadata": {},
     "output_type": "execute_result"
    }
   ],
   "source": [
    "df.describe(include='all')"
   ]
  },
  {
   "cell_type": "code",
   "execution_count": 210,
   "metadata": {},
   "outputs": [],
   "source": [
    "df.to_csv('chungcu_preprocess.csv', index=False)"
   ]
  }
 ],
 "metadata": {
  "kernelspec": {
   "display_name": "base",
   "language": "python",
   "name": "python3"
  },
  "language_info": {
   "codemirror_mode": {
    "name": "ipython",
    "version": 3
   },
   "file_extension": ".py",
   "mimetype": "text/x-python",
   "name": "python",
   "nbconvert_exporter": "python",
   "pygments_lexer": "ipython3",
   "version": "3.11.4"
  }
 },
 "nbformat": 4,
 "nbformat_minor": 2
}
