{
 "cells": [
  {
   "cell_type": "markdown",
   "metadata": {},
   "source": [
    "## 1. Căn hộ/ Chung cư"
   ]
  },
  {
   "cell_type": "code",
   "execution_count": 1,
   "metadata": {},
   "outputs": [],
   "source": [
    "import pandas as pd"
   ]
  },
  {
   "cell_type": "code",
   "execution_count": 133,
   "metadata": {},
   "outputs": [
    {
     "data": {
      "text/plain": [
       "Link                   2263\n",
       "Địa chỉ                2263\n",
       "Giá tổng               2263\n",
       "Giá/m²                 2263\n",
       "Số phòng ngủ           2263\n",
       "Số phòng vệ sinh       1898\n",
       "Giấy tờ pháp lý        2262\n",
       "Loại hình căn hộ       2263\n",
       "Diện tích              2263\n",
       "Hướng cửa chính         526\n",
       "Hướng ban công          596\n",
       "Tình trạng nội thất    1629\n",
       "dtype: int64"
      ]
     },
     "execution_count": 133,
     "metadata": {},
     "output_type": "execute_result"
    }
   ],
   "source": [
    "\n",
    "df = pd.read_csv('chungcu_raw_0_116.csv')\n",
    "\n",
    "df.count()"
   ]
  },
  {
   "cell_type": "code",
   "execution_count": 62,
   "metadata": {},
   "outputs": [
    {
     "data": {
      "text/html": [
       "<div>\n",
       "<style scoped>\n",
       "    .dataframe tbody tr th:only-of-type {\n",
       "        vertical-align: middle;\n",
       "    }\n",
       "\n",
       "    .dataframe tbody tr th {\n",
       "        vertical-align: top;\n",
       "    }\n",
       "\n",
       "    .dataframe thead th {\n",
       "        text-align: right;\n",
       "    }\n",
       "</style>\n",
       "<table border=\"1\" class=\"dataframe\">\n",
       "  <thead>\n",
       "    <tr style=\"text-align: right;\">\n",
       "      <th></th>\n",
       "      <th>Link</th>\n",
       "      <th>Địa chỉ</th>\n",
       "      <th>Giá tổng</th>\n",
       "      <th>Giá/m²</th>\n",
       "      <th>Số phòng ngủ</th>\n",
       "      <th>Số phòng vệ sinh</th>\n",
       "      <th>Giấy tờ pháp lý</th>\n",
       "      <th>Loại hình căn hộ</th>\n",
       "      <th>Diện tích</th>\n",
       "      <th>Hướng cửa chính</th>\n",
       "      <th>Hướng ban công</th>\n",
       "      <th>Tình trạng nội thất</th>\n",
       "    </tr>\n",
       "  </thead>\n",
       "  <tbody>\n",
       "    <tr>\n",
       "      <th>0</th>\n",
       "      <td>https://www.nhatot.com/mua-ban-can-ho-chung-cu...</td>\n",
       "      <td>Phố Kim Mã, Phường Ngọc Khánh, Quận Ba Đình, H...</td>\n",
       "      <td>3,28 tỷ</td>\n",
       "      <td>50,46 triệu/m²</td>\n",
       "      <td>2</td>\n",
       "      <td>NaN</td>\n",
       "      <td>Sổ hồng riêng</td>\n",
       "      <td>Tập thể, cư xá</td>\n",
       "      <td>65 m²</td>\n",
       "      <td>NaN</td>\n",
       "      <td>NaN</td>\n",
       "      <td>Nội thất đầy đủ</td>\n",
       "    </tr>\n",
       "    <tr>\n",
       "      <th>1</th>\n",
       "      <td>https://www.nhatot.com/mua-ban-can-ho-chung-cu...</td>\n",
       "      <td>Phố Tây Sơn, Phường Quang Trung, Quận Đống Đa,...</td>\n",
       "      <td>1,65 tỷ</td>\n",
       "      <td>33 triệu/m²</td>\n",
       "      <td>2</td>\n",
       "      <td>1 phòng</td>\n",
       "      <td>Sổ hồng riêng</td>\n",
       "      <td>Chung cư</td>\n",
       "      <td>50 m²</td>\n",
       "      <td>NaN</td>\n",
       "      <td>NaN</td>\n",
       "      <td>Nội thất cao cấp</td>\n",
       "    </tr>\n",
       "    <tr>\n",
       "      <th>2</th>\n",
       "      <td>https://www.nhatot.com/mua-ban-can-ho-chung-cu...</td>\n",
       "      <td>Đường Nguyễn Quý Đức, Phường Thanh Xuân Bắc, Q...</td>\n",
       "      <td>2,86 tỷ</td>\n",
       "      <td>42,06 triệu/m²</td>\n",
       "      <td>2</td>\n",
       "      <td>1 phòng</td>\n",
       "      <td>Sổ hồng riêng</td>\n",
       "      <td>Tập thể, cư xá</td>\n",
       "      <td>68 m²</td>\n",
       "      <td>NaN</td>\n",
       "      <td>NaN</td>\n",
       "      <td>Nội thất đầy đủ</td>\n",
       "    </tr>\n",
       "    <tr>\n",
       "      <th>3</th>\n",
       "      <td>https://www.nhatot.com/mua-ban-can-ho-chung-cu...</td>\n",
       "      <td>Phố Quan Nhân, Phường Nhân Chính, Quận Thanh X...</td>\n",
       "      <td>1,86 tỷ</td>\n",
       "      <td>33,82 triệu/m²</td>\n",
       "      <td>2</td>\n",
       "      <td>1 phòng</td>\n",
       "      <td>Sổ hồng riêng</td>\n",
       "      <td>Căn hộ dịch vụ, mini</td>\n",
       "      <td>55 m²</td>\n",
       "      <td>NaN</td>\n",
       "      <td>NaN</td>\n",
       "      <td>NaN</td>\n",
       "    </tr>\n",
       "    <tr>\n",
       "      <th>4</th>\n",
       "      <td>https://www.nhatot.com/mua-ban-can-ho-chung-cu...</td>\n",
       "      <td>Yên Viên, Thị trấn Trâu Quỳ, Huyện Gia Lâm, Hà...</td>\n",
       "      <td>2,5 tỷ</td>\n",
       "      <td>41,67 triệu/m²</td>\n",
       "      <td>2</td>\n",
       "      <td>1 phòng</td>\n",
       "      <td>Sổ hồng riêng</td>\n",
       "      <td>Chung cư</td>\n",
       "      <td>60 m²</td>\n",
       "      <td>NaN</td>\n",
       "      <td>NaN</td>\n",
       "      <td>Nội thất đầy đủ</td>\n",
       "    </tr>\n",
       "    <tr>\n",
       "      <th>...</th>\n",
       "      <td>...</td>\n",
       "      <td>...</td>\n",
       "      <td>...</td>\n",
       "      <td>...</td>\n",
       "      <td>...</td>\n",
       "      <td>...</td>\n",
       "      <td>...</td>\n",
       "      <td>...</td>\n",
       "      <td>...</td>\n",
       "      <td>...</td>\n",
       "      <td>...</td>\n",
       "      <td>...</td>\n",
       "    </tr>\n",
       "    <tr>\n",
       "      <th>2303</th>\n",
       "      <td>https://www.nhatot.com/mua-ban-can-ho-chung-cu...</td>\n",
       "      <td>Xuân La, Phường Xuân Tảo, Quận Bắc Từ Liêm, Hà...</td>\n",
       "      <td>10 tỷ</td>\n",
       "      <td>104,49 triệu/m²</td>\n",
       "      <td>2</td>\n",
       "      <td>2 phòng</td>\n",
       "      <td>Sổ hồng riêng</td>\n",
       "      <td>Chung cư</td>\n",
       "      <td>95.7 m²</td>\n",
       "      <td>Tây</td>\n",
       "      <td>Đông</td>\n",
       "      <td>Nội thất cao cấp</td>\n",
       "    </tr>\n",
       "    <tr>\n",
       "      <th>2304</th>\n",
       "      <td>https://www.nhatot.com/mua-ban-can-ho-chung-cu...</td>\n",
       "      <td>số 622, Minh Khai, Phường Vĩnh Tuy, Quận Hai B...</td>\n",
       "      <td>5,35 tỷ</td>\n",
       "      <td>72,30 triệu/m²</td>\n",
       "      <td>2</td>\n",
       "      <td>2 phòng</td>\n",
       "      <td>Sổ hồng riêng</td>\n",
       "      <td>Chung cư</td>\n",
       "      <td>74 m²</td>\n",
       "      <td>Đông</td>\n",
       "      <td>Tây</td>\n",
       "      <td>Nội thất đầy đủ</td>\n",
       "    </tr>\n",
       "    <tr>\n",
       "      <th>2305</th>\n",
       "      <td>https://www.nhatot.com/mua-ban-can-ho-chung-cu...</td>\n",
       "      <td>Đường Lê Đức Thọ, Phường Mỹ Đình 2, Quận Nam T...</td>\n",
       "      <td>28 tỷ</td>\n",
       "      <td>56 triệu/m²</td>\n",
       "      <td>5</td>\n",
       "      <td>4 phòng</td>\n",
       "      <td>Hợp đồng mua bán</td>\n",
       "      <td>Penthouse</td>\n",
       "      <td>500 m²</td>\n",
       "      <td>NaN</td>\n",
       "      <td>NaN</td>\n",
       "      <td>NaN</td>\n",
       "    </tr>\n",
       "    <tr>\n",
       "      <th>2306</th>\n",
       "      <td>https://www.nhatot.com/mua-ban-can-ho-chung-cu...</td>\n",
       "      <td>Nguyễn Hoàng Tôn, Phường Xuân La, Quận Tây Hồ,...</td>\n",
       "      <td>6,5 tỷ</td>\n",
       "      <td>85,53 triệu/m²</td>\n",
       "      <td>2</td>\n",
       "      <td>2 phòng</td>\n",
       "      <td>Đang chờ sổ</td>\n",
       "      <td>Chung cư</td>\n",
       "      <td>76 m²</td>\n",
       "      <td>Đông Nam</td>\n",
       "      <td>Tây Bắc</td>\n",
       "      <td>Nội thất cao cấp</td>\n",
       "    </tr>\n",
       "    <tr>\n",
       "      <th>2307</th>\n",
       "      <td>https://www.nhatot.com/mua-ban-can-ho-chung-cu...</td>\n",
       "      <td>10, Phố Hoa Lư, Phường Lê Đại Hành, Quận Hai B...</td>\n",
       "      <td>8,6 tỷ</td>\n",
       "      <td>88,66 triệu/m²</td>\n",
       "      <td>3</td>\n",
       "      <td>2 phòng</td>\n",
       "      <td>Sổ hồng riêng</td>\n",
       "      <td>Chung cư</td>\n",
       "      <td>97 m²</td>\n",
       "      <td>NaN</td>\n",
       "      <td>NaN</td>\n",
       "      <td>NaN</td>\n",
       "    </tr>\n",
       "  </tbody>\n",
       "</table>\n",
       "<p>2308 rows × 12 columns</p>\n",
       "</div>"
      ],
      "text/plain": [
       "                                                   Link  \\\n",
       "0     https://www.nhatot.com/mua-ban-can-ho-chung-cu...   \n",
       "1     https://www.nhatot.com/mua-ban-can-ho-chung-cu...   \n",
       "2     https://www.nhatot.com/mua-ban-can-ho-chung-cu...   \n",
       "3     https://www.nhatot.com/mua-ban-can-ho-chung-cu...   \n",
       "4     https://www.nhatot.com/mua-ban-can-ho-chung-cu...   \n",
       "...                                                 ...   \n",
       "2303  https://www.nhatot.com/mua-ban-can-ho-chung-cu...   \n",
       "2304  https://www.nhatot.com/mua-ban-can-ho-chung-cu...   \n",
       "2305  https://www.nhatot.com/mua-ban-can-ho-chung-cu...   \n",
       "2306  https://www.nhatot.com/mua-ban-can-ho-chung-cu...   \n",
       "2307  https://www.nhatot.com/mua-ban-can-ho-chung-cu...   \n",
       "\n",
       "                                                Địa chỉ Giá tổng  \\\n",
       "0     Phố Kim Mã, Phường Ngọc Khánh, Quận Ba Đình, H...  3,28 tỷ   \n",
       "1     Phố Tây Sơn, Phường Quang Trung, Quận Đống Đa,...  1,65 tỷ   \n",
       "2     Đường Nguyễn Quý Đức, Phường Thanh Xuân Bắc, Q...  2,86 tỷ   \n",
       "3     Phố Quan Nhân, Phường Nhân Chính, Quận Thanh X...  1,86 tỷ   \n",
       "4     Yên Viên, Thị trấn Trâu Quỳ, Huyện Gia Lâm, Hà...   2,5 tỷ   \n",
       "...                                                 ...      ...   \n",
       "2303  Xuân La, Phường Xuân Tảo, Quận Bắc Từ Liêm, Hà...    10 tỷ   \n",
       "2304  số 622, Minh Khai, Phường Vĩnh Tuy, Quận Hai B...  5,35 tỷ   \n",
       "2305  Đường Lê Đức Thọ, Phường Mỹ Đình 2, Quận Nam T...    28 tỷ   \n",
       "2306  Nguyễn Hoàng Tôn, Phường Xuân La, Quận Tây Hồ,...   6,5 tỷ   \n",
       "2307  10, Phố Hoa Lư, Phường Lê Đại Hành, Quận Hai B...   8,6 tỷ   \n",
       "\n",
       "               Giá/m² Số phòng ngủ Số phòng vệ sinh   Giấy tờ pháp lý  \\\n",
       "0      50,46 triệu/m²            2              NaN     Sổ hồng riêng   \n",
       "1         33 triệu/m²            2          1 phòng     Sổ hồng riêng   \n",
       "2      42,06 triệu/m²            2          1 phòng     Sổ hồng riêng   \n",
       "3      33,82 triệu/m²            2          1 phòng     Sổ hồng riêng   \n",
       "4      41,67 triệu/m²            2          1 phòng     Sổ hồng riêng   \n",
       "...               ...          ...              ...               ...   \n",
       "2303  104,49 triệu/m²            2          2 phòng     Sổ hồng riêng   \n",
       "2304   72,30 triệu/m²            2          2 phòng     Sổ hồng riêng   \n",
       "2305      56 triệu/m²            5          4 phòng  Hợp đồng mua bán   \n",
       "2306   85,53 triệu/m²            2          2 phòng       Đang chờ sổ   \n",
       "2307   88,66 triệu/m²            3          2 phòng     Sổ hồng riêng   \n",
       "\n",
       "          Loại hình căn hộ Diện tích Hướng cửa chính Hướng ban công  \\\n",
       "0           Tập thể, cư xá     65 m²             NaN            NaN   \n",
       "1                 Chung cư     50 m²             NaN            NaN   \n",
       "2           Tập thể, cư xá     68 m²             NaN            NaN   \n",
       "3     Căn hộ dịch vụ, mini     55 m²             NaN            NaN   \n",
       "4                 Chung cư     60 m²             NaN            NaN   \n",
       "...                    ...       ...             ...            ...   \n",
       "2303              Chung cư   95.7 m²             Tây           Đông   \n",
       "2304              Chung cư     74 m²            Đông            Tây   \n",
       "2305             Penthouse    500 m²             NaN            NaN   \n",
       "2306              Chung cư     76 m²        Đông Nam        Tây Bắc   \n",
       "2307              Chung cư     97 m²             NaN            NaN   \n",
       "\n",
       "     Tình trạng nội thất  \n",
       "0        Nội thất đầy đủ  \n",
       "1       Nội thất cao cấp  \n",
       "2        Nội thất đầy đủ  \n",
       "3                    NaN  \n",
       "4        Nội thất đầy đủ  \n",
       "...                  ...  \n",
       "2303    Nội thất cao cấp  \n",
       "2304     Nội thất đầy đủ  \n",
       "2305                 NaN  \n",
       "2306    Nội thất cao cấp  \n",
       "2307                 NaN  \n",
       "\n",
       "[2308 rows x 12 columns]"
      ]
     },
     "execution_count": 62,
     "metadata": {},
     "output_type": "execute_result"
    }
   ],
   "source": [
    "df"
   ]
  },
  {
   "cell_type": "markdown",
   "metadata": {},
   "source": [
    "### 1.1 Xóa các dòng dữ liệu bị thiếu"
   ]
  },
  {
   "cell_type": "code",
   "execution_count": 43,
   "metadata": {},
   "outputs": [
    {
     "data": {
      "text/plain": [
       "Link                   2276\n",
       "Địa chỉ                2276\n",
       "Giá tổng               2276\n",
       "Giá/m²                 2276\n",
       "Số phòng ngủ           2276\n",
       "Số phòng vệ sinh       1911\n",
       "Giấy tờ pháp lý        2275\n",
       "Loại hình căn hộ       2276\n",
       "Diện tích              2276\n",
       "Hướng cửa chính         529\n",
       "Hướng ban công          600\n",
       "Tình trạng nội thất    1638\n",
       "dtype: int64"
      ]
     },
     "execution_count": 43,
     "metadata": {},
     "output_type": "execute_result"
    }
   ],
   "source": [
    "df_cleaned = df.dropna(subset=['Địa chỉ'])\n",
    "\n",
    "df_cleaned.count()"
   ]
  },
  {
   "cell_type": "code",
   "execution_count": 48,
   "metadata": {},
   "outputs": [
    {
     "data": {
      "text/plain": [
       "Chung cư                1767\n",
       "Tập thể, cư xá           314\n",
       "Căn hộ dịch vụ, mini     173\n",
       "Duplex                     8\n",
       "Officetel                  8\n",
       "Penthouse                  6\n",
       "Name: Loại hình căn hộ, dtype: int64"
      ]
     },
     "execution_count": 48,
     "metadata": {},
     "output_type": "execute_result"
    }
   ],
   "source": [
    "count = df['Loại hình căn hộ'].value_counts()\n",
    "count"
   ]
  },
  {
   "cell_type": "code",
   "execution_count": 59,
   "metadata": {},
   "outputs": [],
   "source": [
    "df['Số phòng ngủ'] = df['Số phòng ngủ'].str.extract('(\\d+)')"
   ]
  },
  {
   "cell_type": "code",
   "execution_count": 60,
   "metadata": {},
   "outputs": [
    {
     "data": {
      "text/plain": [
       "2     1175\n",
       "3      625\n",
       "1      344\n",
       "10      67\n",
       "4       38\n",
       "5       13\n",
       "8        6\n",
       "9        6\n",
       "7        1\n",
       "6        1\n",
       "Name: Số phòng ngủ, dtype: int64"
      ]
     },
     "execution_count": 60,
     "metadata": {},
     "output_type": "execute_result"
    }
   ],
   "source": [
    "count = df['Số phòng ngủ'].value_counts()\n",
    "count"
   ]
  },
  {
   "cell_type": "markdown",
   "metadata": {},
   "source": [
    "### 2. Nhà ở"
   ]
  },
  {
   "cell_type": "code",
   "execution_count": 140,
   "metadata": {},
   "outputs": [
    {
     "data": {
      "text/plain": [
       "Link                   3973\n",
       "Địa chỉ                3973\n",
       "Giá tổng               3973\n",
       "Giá/m²                 3973\n",
       "Số phòng ngủ           3973\n",
       "Số phòng vệ sinh       2364\n",
       "Tổng số tầng           2725\n",
       "Giấy tờ pháp lý        3972\n",
       "Loại hình nhà ở        3973\n",
       "Chiều ngang            1548\n",
       "Chiều dài               796\n",
       "Diện tích sử dụng      1873\n",
       "Diện tích đất          3973\n",
       "Hướng cửa chính         397\n",
       "Tình trạng nội thất    2145\n",
       "dtype: int64"
      ]
     },
     "execution_count": 140,
     "metadata": {},
     "output_type": "execute_result"
    }
   ],
   "source": [
    "import pandas as pd\n",
    "\n",
    "df = pd.read_csv('nhao_raw_0_200.csv')\n",
    "\n",
    "df.count()"
   ]
  },
  {
   "cell_type": "markdown",
   "metadata": {},
   "source": [
    "### 2.1 Xóa các dòng dữ liệu bị thiếu"
   ]
  },
  {
   "cell_type": "code",
   "execution_count": 2,
   "metadata": {},
   "outputs": [
    {
     "data": {
      "text/plain": [
       "Link                   4000\n",
       "Địa chỉ                4000\n",
       "Giá tổng               4000\n",
       "Giá/m²                 4000\n",
       "Số phòng ngủ           4000\n",
       "Số phòng vệ sinh       2378\n",
       "Tổng số tầng           2739\n",
       "Giấy tờ pháp lý        3999\n",
       "Loại hình nhà ở        4000\n",
       "Chiều ngang            1556\n",
       "Chiều dài               800\n",
       "Diện tích sử dụng      1883\n",
       "Diện tích đất          4000\n",
       "Hướng cửa chính         398\n",
       "Tình trạng nội thất    2158\n",
       "dtype: int64"
      ]
     },
     "execution_count": 2,
     "metadata": {},
     "output_type": "execute_result"
    }
   ],
   "source": [
    "df_cleaned = df.dropna(subset=['Địa chỉ'])\n",
    "\n",
    "df_cleaned.count()"
   ]
  },
  {
   "cell_type": "code",
   "execution_count": 41,
   "metadata": {},
   "outputs": [
    {
     "data": {
      "text/plain": [
       "Nhà ngõ, hẻm             3152\n",
       "Nhà mặt phố, mặt tiền     668\n",
       "Nhà phố liền kề           135\n",
       "Nhà biệt thự               45\n",
       "Name: Loại hình nhà ở, dtype: int64"
      ]
     },
     "execution_count": 41,
     "metadata": {},
     "output_type": "execute_result"
    }
   ],
   "source": [
    "count = df_cleaned['Loại hình nhà ở'].value_counts()\n",
    "count"
   ]
  },
  {
   "cell_type": "code",
   "execution_count": 40,
   "metadata": {},
   "outputs": [
    {
     "data": {
      "text/plain": [
       "'https://www.nhatot.com/mua-ban-nha-dat-quan-cau-giay-ha-noi/113305402.htm'"
      ]
     },
     "execution_count": 40,
     "metadata": {},
     "output_type": "execute_result"
    }
   ],
   "source": [
    "df_cleaned.iloc[960]['Link']"
   ]
  },
  {
   "cell_type": "code",
   "execution_count": 32,
   "metadata": {},
   "outputs": [
    {
     "name": "stdout",
     "output_type": "stream",
     "text": [
      "960\n"
     ]
    }
   ],
   "source": [
    "df1 = df_cleaned['Giấy tờ pháp lý'].isnull()\n",
    "\n",
    "for i in range(0,len(df1)) :\n",
    "    if df1.iloc[i] == True :\n",
    "        print(i)\n"
   ]
  },
  {
   "cell_type": "markdown",
   "metadata": {},
   "source": [
    "### 3. Đất thổ cư"
   ]
  },
  {
   "cell_type": "code",
   "execution_count": 2,
   "metadata": {},
   "outputs": [
    {
     "data": {
      "text/plain": [
       "Link               1692\n",
       "Địa chỉ            1692\n",
       "Giá tổng           1692\n",
       "Giá/m²             1692\n",
       "Giấy tờ pháp lý    1692\n",
       "Loại hình đất      1692\n",
       "Chiều ngang        1092\n",
       "Chiều dài           827\n",
       "Diện tích đất      1692\n",
       "Hướng cửa chính     462\n",
       "dtype: int64"
      ]
     },
     "execution_count": 2,
     "metadata": {},
     "output_type": "execute_result"
    }
   ],
   "source": [
    "# Overview\n",
    "df = pd.read_csv('datthocu_raw_0_85.csv')\n",
    "df.count()"
   ]
  },
  {
   "cell_type": "markdown",
   "metadata": {},
   "source": [
    "**3.1 Xử lí cột Giá tổng**"
   ]
  },
  {
   "cell_type": "code",
   "execution_count": 267,
   "metadata": {},
   "outputs": [
    {
     "name": "stdout",
     "output_type": "stream",
     "text": [
      "1617\n",
      "73\n",
      "2\n"
     ]
    }
   ],
   "source": [
    "# Lọc các giá trị có chữ cuối là 'tỷ'\n",
    "df_ty = df[df['Giá tổng'].str.contains('tỷ', na=False)]\n",
    "# Lọc ra các hàng có chứa 'triệu' trong cột 'Giá tổng'\n",
    "df_trieu = df[df['Giá tổng'].astype(str).str.contains('triệu', na=False)]\n",
    "# Lọc ra các hàng có chứa 'đ' trong cột 'Giá tổng'\n",
    "df_d = df[df['Giá tổng'].astype(str).str.contains('đ', na=False)]\n",
    "\n",
    "print(df_ty['Giá/m²'].count())\n",
    "print(df_trieu['Giá tổng'].count())\n",
    "print(df_d['Giá tổng'].count())"
   ]
  },
  {
   "cell_type": "code",
   "execution_count": 268,
   "metadata": {},
   "outputs": [
    {
     "name": "stderr",
     "output_type": "stream",
     "text": [
      "C:\\Users\\pc\\AppData\\Local\\Temp\\ipykernel_652\\259669801.py:2: SettingWithCopyWarning: \n",
      "A value is trying to be set on a copy of a slice from a DataFrame.\n",
      "Try using .loc[row_indexer,col_indexer] = value instead\n",
      "\n",
      "See the caveats in the documentation: https://pandas.pydata.org/pandas-docs/stable/user_guide/indexing.html#returning-a-view-versus-a-copy\n",
      "  df_ty['Giá tổng'] = df_ty['Giá tổng'].str.replace('tỷ', '', regex=True)  # Loại bỏ chữ\n",
      "C:\\Users\\pc\\AppData\\Local\\Temp\\ipykernel_652\\259669801.py:3: SettingWithCopyWarning: \n",
      "A value is trying to be set on a copy of a slice from a DataFrame.\n",
      "Try using .loc[row_indexer,col_indexer] = value instead\n",
      "\n",
      "See the caveats in the documentation: https://pandas.pydata.org/pandas-docs/stable/user_guide/indexing.html#returning-a-view-versus-a-copy\n",
      "  df_ty['Giá tổng'] = df_ty['Giá tổng'].str.replace(',', '.', regex=False)  # Thay dấu ',' bằng '.'\n",
      "C:\\Users\\pc\\AppData\\Local\\Temp\\ipykernel_652\\259669801.py:4: SettingWithCopyWarning: \n",
      "A value is trying to be set on a copy of a slice from a DataFrame.\n",
      "Try using .loc[row_indexer,col_indexer] = value instead\n",
      "\n",
      "See the caveats in the documentation: https://pandas.pydata.org/pandas-docs/stable/user_guide/indexing.html#returning-a-view-versus-a-copy\n",
      "  df_ty['Giá tổng'] = df_ty['Giá tổng'].astype(float)\n"
     ]
    },
    {
     "data": {
      "text/plain": [
       "0        8.15\n",
       "1        1.28\n",
       "2        3.50\n",
       "3        2.50\n",
       "4        6.83\n",
       "        ...  \n",
       "1687    87.00\n",
       "1688     7.20\n",
       "1689    12.60\n",
       "1690    11.90\n",
       "1691     3.23\n",
       "Name: Giá tổng, Length: 1617, dtype: float64"
      ]
     },
     "execution_count": 268,
     "metadata": {},
     "output_type": "execute_result"
    }
   ],
   "source": [
    "# Xử lí \"tỷ\" \n",
    "df_ty['Giá tổng'] = df_ty['Giá tổng'].str.replace('tỷ', '', regex=True)  # Loại bỏ chữ\n",
    "df_ty['Giá tổng'] = df_ty['Giá tổng'].str.replace(',', '.', regex=False)  # Thay dấu ',' bằng '.'\n",
    "df_ty['Giá tổng'] = df_ty['Giá tổng'].astype(float)\n",
    "df_ty['Giá tổng']"
   ]
  },
  {
   "cell_type": "code",
   "execution_count": 269,
   "metadata": {},
   "outputs": [
    {
     "name": "stderr",
     "output_type": "stream",
     "text": [
      "C:\\Users\\pc\\AppData\\Local\\Temp\\ipykernel_652\\2549074996.py:2: SettingWithCopyWarning: \n",
      "A value is trying to be set on a copy of a slice from a DataFrame.\n",
      "Try using .loc[row_indexer,col_indexer] = value instead\n",
      "\n",
      "See the caveats in the documentation: https://pandas.pydata.org/pandas-docs/stable/user_guide/indexing.html#returning-a-view-versus-a-copy\n",
      "  df_trieu['Giá tổng'] = df_trieu['Giá tổng'].str.replace('triệu', '', regex=True)  # Loại bỏ chữ\n",
      "C:\\Users\\pc\\AppData\\Local\\Temp\\ipykernel_652\\2549074996.py:3: SettingWithCopyWarning: \n",
      "A value is trying to be set on a copy of a slice from a DataFrame.\n",
      "Try using .loc[row_indexer,col_indexer] = value instead\n",
      "\n",
      "See the caveats in the documentation: https://pandas.pydata.org/pandas-docs/stable/user_guide/indexing.html#returning-a-view-versus-a-copy\n",
      "  df_trieu['Giá tổng'] = df_trieu['Giá tổng'].str.replace(',', '.', regex=False)  # Thay dấu ',' bằng '.'\n",
      "C:\\Users\\pc\\AppData\\Local\\Temp\\ipykernel_652\\2549074996.py:4: SettingWithCopyWarning: \n",
      "A value is trying to be set on a copy of a slice from a DataFrame.\n",
      "Try using .loc[row_indexer,col_indexer] = value instead\n",
      "\n",
      "See the caveats in the documentation: https://pandas.pydata.org/pandas-docs/stable/user_guide/indexing.html#returning-a-view-versus-a-copy\n",
      "  df_trieu['Giá tổng'] = df_trieu['Giá tổng'].astype(float)\n",
      "C:\\Users\\pc\\AppData\\Local\\Temp\\ipykernel_652\\2549074996.py:5: SettingWithCopyWarning: \n",
      "A value is trying to be set on a copy of a slice from a DataFrame.\n",
      "Try using .loc[row_indexer,col_indexer] = value instead\n",
      "\n",
      "See the caveats in the documentation: https://pandas.pydata.org/pandas-docs/stable/user_guide/indexing.html#returning-a-view-versus-a-copy\n",
      "  df_trieu['Giá tổng'] /= 1000 # Đổi về tỷ đồng\n"
     ]
    },
    {
     "data": {
      "text/plain": [
       "14      0.770\n",
       "25      0.810\n",
       "33      0.750\n",
       "35      0.990\n",
       "50      0.810\n",
       "        ...  \n",
       "1592    0.720\n",
       "1612    0.600\n",
       "1622    0.037\n",
       "1663    0.773\n",
       "1675    0.090\n",
       "Name: Giá tổng, Length: 73, dtype: float64"
      ]
     },
     "execution_count": 269,
     "metadata": {},
     "output_type": "execute_result"
    }
   ],
   "source": [
    "# Xử lí triệu\n",
    "df_trieu['Giá tổng'] = df_trieu['Giá tổng'].str.replace('triệu', '', regex=True)  # Loại bỏ chữ\n",
    "df_trieu['Giá tổng'] = df_trieu['Giá tổng'].str.replace(',', '.', regex=False)  # Thay dấu ',' bằng '.'\n",
    "df_trieu['Giá tổng'] = df_trieu['Giá tổng'].astype(float)\n",
    "df_trieu['Giá tổng'] /= 1000 # Đổi về tỷ đồng\n",
    "df_trieu['Giá tổng']"
   ]
  },
  {
   "cell_type": "code",
   "execution_count": 270,
   "metadata": {},
   "outputs": [
    {
     "name": "stderr",
     "output_type": "stream",
     "text": [
      "C:\\Users\\pc\\AppData\\Local\\Temp\\ipykernel_652\\2792149505.py:2: SettingWithCopyWarning: \n",
      "A value is trying to be set on a copy of a slice from a DataFrame.\n",
      "Try using .loc[row_indexer,col_indexer] = value instead\n",
      "\n",
      "See the caveats in the documentation: https://pandas.pydata.org/pandas-docs/stable/user_guide/indexing.html#returning-a-view-versus-a-copy\n",
      "  df_d['Giá tổng'] = df_d['Giá tổng'].str.replace('đ', '', regex=True)  # Loại bỏ chữ\n",
      "C:\\Users\\pc\\AppData\\Local\\Temp\\ipykernel_652\\2792149505.py:3: SettingWithCopyWarning: \n",
      "A value is trying to be set on a copy of a slice from a DataFrame.\n",
      "Try using .loc[row_indexer,col_indexer] = value instead\n",
      "\n",
      "See the caveats in the documentation: https://pandas.pydata.org/pandas-docs/stable/user_guide/indexing.html#returning-a-view-versus-a-copy\n",
      "  df_d['Giá tổng'] = df_d['Giá tổng'].astype(float)\n",
      "C:\\Users\\pc\\AppData\\Local\\Temp\\ipykernel_652\\2792149505.py:4: SettingWithCopyWarning: \n",
      "A value is trying to be set on a copy of a slice from a DataFrame.\n",
      "Try using .loc[row_indexer,col_indexer] = value instead\n",
      "\n",
      "See the caveats in the documentation: https://pandas.pydata.org/pandas-docs/stable/user_guide/indexing.html#returning-a-view-versus-a-copy\n",
      "  df_d['Giá tổng'] /= 1000000000 # Đổi về tỷ đồng\n"
     ]
    },
    {
     "data": {
      "text/plain": [
       "905     0.00063\n",
       "1682    0.00035\n",
       "Name: Giá tổng, dtype: float64"
      ]
     },
     "execution_count": 270,
     "metadata": {},
     "output_type": "execute_result"
    }
   ],
   "source": [
    "# Xử lí đồng\n",
    "df_d['Giá tổng'] = df_d['Giá tổng'].str.replace('đ', '', regex=True)  # Loại bỏ chữ\n",
    "df_d['Giá tổng'] = df_d['Giá tổng'].astype(float)\n",
    "df_d['Giá tổng'] /= 1000000000 # Đổi về tỷ đồng\n",
    "df_d['Giá tổng']"
   ]
  },
  {
   "cell_type": "code",
   "execution_count": 271,
   "metadata": {},
   "outputs": [],
   "source": [
    "df.update(df_d)\n",
    "df.update(df_ty)\n",
    "df.update(df_trieu)"
   ]
  },
  {
   "cell_type": "code",
   "execution_count": 272,
   "metadata": {},
   "outputs": [
    {
     "name": "stdout",
     "output_type": "stream",
     "text": [
      "0.00035\n",
      "268.0\n",
      "4.5695\n"
     ]
    }
   ],
   "source": [
    "print(df['Giá tổng'].min())\n",
    "print(df['Giá tổng'].max())\n",
    "print(df['Giá tổng'].median())"
   ]
  },
  {
   "cell_type": "markdown",
   "metadata": {},
   "source": [
    "**3.2 Xử lí cột Giá/m2**"
   ]
  },
  {
   "cell_type": "code",
   "execution_count": 273,
   "metadata": {},
   "outputs": [
    {
     "name": "stdout",
     "output_type": "stream",
     "text": [
      "529     773.809 đ/m²\n",
      "560       2.037 đ/m²\n",
      "575       5.401 đ/m²\n",
      "905       1.465 đ/m²\n",
      "1190    126.903 đ/m²\n",
      "1499    709.878 đ/m²\n",
      "1575    621.761 đ/m²\n",
      "1622    804.347 đ/m²\n",
      "1682      2.333 đ/m²\n",
      "Name: Giá/m², dtype: object\n"
     ]
    }
   ],
   "source": [
    "# Lọc các giá trị có chữ cuối là 'đ/m²'\n",
    "df_de_m2 = df[df['Giá/m²'].str.contains('đ/m²', na=False)]\n",
    "print(df_de_m2['Giá/m²'])"
   ]
  },
  {
   "cell_type": "code",
   "execution_count": 274,
   "metadata": {},
   "outputs": [
    {
     "name": "stdout",
     "output_type": "stream",
     "text": [
      "1683\n"
     ]
    }
   ],
   "source": [
    "# Lọc các giá trị có chữ cuối là 'triêu/m²'\n",
    "df_tr_m2 = df[df['Giá/m²'].str.contains('triệu/m²', na=False)]\n",
    "print(df_tr_m2['Giá/m²'].count())"
   ]
  },
  {
   "cell_type": "code",
   "execution_count": 275,
   "metadata": {},
   "outputs": [
    {
     "name": "stderr",
     "output_type": "stream",
     "text": [
      "C:\\Users\\pc\\AppData\\Local\\Temp\\ipykernel_652\\852625085.py:3: SettingWithCopyWarning: \n",
      "A value is trying to be set on a copy of a slice from a DataFrame.\n",
      "Try using .loc[row_indexer,col_indexer] = value instead\n",
      "\n",
      "See the caveats in the documentation: https://pandas.pydata.org/pandas-docs/stable/user_guide/indexing.html#returning-a-view-versus-a-copy\n",
      "  df_de_m2['Giá/m²'] = df_de_m2['Giá/m²'].str.replace(' đ/m²', '', regex=False)\n",
      "C:\\Users\\pc\\AppData\\Local\\Temp\\ipykernel_652\\852625085.py:4: SettingWithCopyWarning: \n",
      "A value is trying to be set on a copy of a slice from a DataFrame.\n",
      "Try using .loc[row_indexer,col_indexer] = value instead\n",
      "\n",
      "See the caveats in the documentation: https://pandas.pydata.org/pandas-docs/stable/user_guide/indexing.html#returning-a-view-versus-a-copy\n",
      "  df_de_m2['Giá/m²'] = df_de_m2['Giá/m²'].astype(float)\n",
      "C:\\Users\\pc\\AppData\\Local\\Temp\\ipykernel_652\\852625085.py:5: SettingWithCopyWarning: \n",
      "A value is trying to be set on a copy of a slice from a DataFrame.\n",
      "Try using .loc[row_indexer,col_indexer] = value instead\n",
      "\n",
      "See the caveats in the documentation: https://pandas.pydata.org/pandas-docs/stable/user_guide/indexing.html#returning-a-view-versus-a-copy\n",
      "  df_de_m2['Giá/m²'] = df_de_m2['Giá/m²'] / 1000\n"
     ]
    },
    {
     "data": {
      "text/plain": [
       "529     0.773809\n",
       "560     0.002037\n",
       "575     0.005401\n",
       "905     0.001465\n",
       "1190    0.126903\n",
       "1499    0.709878\n",
       "1575    0.621761\n",
       "1622    0.804347\n",
       "1682    0.002333\n",
       "Name: Giá/m², dtype: float64"
      ]
     },
     "execution_count": 275,
     "metadata": {},
     "output_type": "execute_result"
    }
   ],
   "source": [
    "# Cột Giá/m2 : Bỏ đ/m2. VD : 730000 đ/m2 = 0.73\n",
    "df_de_m2 = df[df['Giá/m²'].str.contains('đ/m²', na=False)]\n",
    "df_de_m2['Giá/m²'] = df_de_m2['Giá/m²'].str.replace(' đ/m²', '', regex=False)\n",
    "df_de_m2['Giá/m²'] = df_de_m2['Giá/m²'].astype(float)\n",
    "df_de_m2['Giá/m²'] = df_de_m2['Giá/m²'] / 1000\n",
    "df_de_m2['Giá/m²']"
   ]
  },
  {
   "cell_type": "code",
   "execution_count": 276,
   "metadata": {},
   "outputs": [
    {
     "name": "stderr",
     "output_type": "stream",
     "text": [
      "C:\\Users\\pc\\AppData\\Local\\Temp\\ipykernel_652\\383414962.py:2: SettingWithCopyWarning: \n",
      "A value is trying to be set on a copy of a slice from a DataFrame.\n",
      "Try using .loc[row_indexer,col_indexer] = value instead\n",
      "\n",
      "See the caveats in the documentation: https://pandas.pydata.org/pandas-docs/stable/user_guide/indexing.html#returning-a-view-versus-a-copy\n",
      "  df_tr_m2['Giá/m²'] = df_tr_m2['Giá/m²'].str.replace(',', '.', regex=False)  # Thay dấu ',' bằng '.'\n",
      "C:\\Users\\pc\\AppData\\Local\\Temp\\ipykernel_652\\383414962.py:3: SettingWithCopyWarning: \n",
      "A value is trying to be set on a copy of a slice from a DataFrame.\n",
      "Try using .loc[row_indexer,col_indexer] = value instead\n",
      "\n",
      "See the caveats in the documentation: https://pandas.pydata.org/pandas-docs/stable/user_guide/indexing.html#returning-a-view-versus-a-copy\n",
      "  df_tr_m2['Giá/m²'] = df_tr_m2['Giá/m²'].str.replace('triệu/m²', '', regex=False)\n",
      "C:\\Users\\pc\\AppData\\Local\\Temp\\ipykernel_652\\383414962.py:4: SettingWithCopyWarning: \n",
      "A value is trying to be set on a copy of a slice from a DataFrame.\n",
      "Try using .loc[row_indexer,col_indexer] = value instead\n",
      "\n",
      "See the caveats in the documentation: https://pandas.pydata.org/pandas-docs/stable/user_guide/indexing.html#returning-a-view-versus-a-copy\n",
      "  df_tr_m2['Giá/m²'] = df_tr_m2['Giá/m²'].astype(float)\n"
     ]
    },
    {
     "data": {
      "text/plain": [
       "0        83.16\n",
       "1        20.98\n",
       "2        32.56\n",
       "3        35.11\n",
       "4       140.82\n",
       "         ...  \n",
       "1687    231.38\n",
       "1688    161.80\n",
       "1689    200.00\n",
       "1690    104.66\n",
       "1691     52.95\n",
       "Name: Giá/m², Length: 1683, dtype: float64"
      ]
     },
     "execution_count": 276,
     "metadata": {},
     "output_type": "execute_result"
    }
   ],
   "source": [
    "# Cột Giá/m2 : Bỏ triệu/m2. VD : 660 triệu/m2 -> 660\n",
    "df_tr_m2['Giá/m²'] = df_tr_m2['Giá/m²'].str.replace(',', '.', regex=False)  # Thay dấu ',' bằng '.'\n",
    "df_tr_m2['Giá/m²'] = df_tr_m2['Giá/m²'].str.replace('triệu/m²', '', regex=False)\n",
    "df_tr_m2['Giá/m²'] = df_tr_m2['Giá/m²'].astype(float)\n",
    "df_tr_m2['Giá/m²']"
   ]
  },
  {
   "cell_type": "code",
   "execution_count": 277,
   "metadata": {},
   "outputs": [
    {
     "data": {
      "text/plain": [
       "count    1683.000000\n",
       "mean       89.185300\n",
       "std        73.604272\n",
       "min         1.200000\n",
       "25%        34.250000\n",
       "50%        71.150000\n",
       "75%       127.280000\n",
       "max       674.600000\n",
       "Name: Giá/m², dtype: float64"
      ]
     },
     "execution_count": 277,
     "metadata": {},
     "output_type": "execute_result"
    }
   ],
   "source": [
    "df_tr_m2['Giá/m²'].describe()"
   ]
  },
  {
   "cell_type": "code",
   "execution_count": 278,
   "metadata": {},
   "outputs": [],
   "source": [
    "df.update(df_tr_m2)\n",
    "df.update(df_de_m2)"
   ]
  },
  {
   "cell_type": "code",
   "execution_count": 279,
   "metadata": {},
   "outputs": [
    {
     "name": "stdout",
     "output_type": "stream",
     "text": [
      "70.45500000000001\n",
      "0.0014650000000000002\n",
      "674.6\n"
     ]
    }
   ],
   "source": [
    "print(df['Giá/m²'].median())\n",
    "print(df['Giá/m²'].min())\n",
    "print(df['Giá/m²'].max())"
   ]
  },
  {
   "cell_type": "markdown",
   "metadata": {},
   "source": [
    "**3.3 Xử lí cột Giấy tờ pháp lý**"
   ]
  },
  {
   "cell_type": "code",
   "execution_count": 280,
   "metadata": {},
   "outputs": [
    {
     "data": {
      "text/plain": [
       "Đã có sổ                         1638\n",
       "Đang chờ sổ                        20\n",
       "Sổ chung / công chứng vi bằng      17\n",
       "Giấy tờ viết tay                   12\n",
       "Không có sổ                         3\n",
       "3                                   2\n",
       "Name: Giấy tờ pháp lý, dtype: int64"
      ]
     },
     "execution_count": 280,
     "metadata": {},
     "output_type": "execute_result"
    }
   ],
   "source": [
    "count = df['Giấy tờ pháp lý'].value_counts()\n",
    "count\n",
    "# count = df['Loại hình đất'].value_counts()\n",
    "# count\n",
    "# count = df['Hướng cửa chính'].value_counts()\n",
    "# count"
   ]
  },
  {
   "cell_type": "code",
   "execution_count": 281,
   "metadata": {},
   "outputs": [
    {
     "data": {
      "text/plain": [
       "Đã có sổ                         1640\n",
       "Đang chờ sổ                        20\n",
       "Sổ chung / công chứng vi bằng      17\n",
       "Giấy tờ viết tay                   12\n",
       "Không có sổ                         3\n",
       "Name: Giấy tờ pháp lý, dtype: int64"
      ]
     },
     "execution_count": 281,
     "metadata": {},
     "output_type": "execute_result"
    }
   ],
   "source": [
    "df['Giấy tờ pháp lý'] = df['Giấy tờ pháp lý'].replace('3', 'Đã có sổ')\n",
    "count = df['Giấy tờ pháp lý'].value_counts()\n",
    "count"
   ]
  },
  {
   "cell_type": "markdown",
   "metadata": {},
   "source": [
    "**3.4 Xử lí cột Chiều ngang, chiều dọc**"
   ]
  },
  {
   "cell_type": "code",
   "execution_count": 282,
   "metadata": {},
   "outputs": [
    {
     "data": {
      "text/plain": [
       "Link               1692\n",
       "Địa chỉ            1692\n",
       "Giá tổng           1692\n",
       "Giá/m²             1692\n",
       "Giấy tờ pháp lý    1692\n",
       "Loại hình đất      1692\n",
       "Chiều ngang        1092\n",
       "Chiều dài           827\n",
       "Diện tích đất      1692\n",
       "Hướng cửa chính     462\n",
       "dtype: int64"
      ]
     },
     "execution_count": 282,
     "metadata": {},
     "output_type": "execute_result"
    }
   ],
   "source": [
    "df['Chiều ngang'] = df['Chiều ngang'].str.replace('m', '', regex=False)\n",
    "df['Chiều dài'] = df['Chiều dài'].str.replace('m', '', regex=False)\n",
    "\n",
    "df.count()"
   ]
  },
  {
   "cell_type": "markdown",
   "metadata": {},
   "source": [
    "**3.5 Xử lí cột Diện tích đất**"
   ]
  },
  {
   "cell_type": "code",
   "execution_count": 283,
   "metadata": {},
   "outputs": [
    {
     "data": {
      "text/plain": [
       "Link               1692\n",
       "Địa chỉ            1692\n",
       "Giá tổng           1692\n",
       "Giá/m²             1692\n",
       "Giấy tờ pháp lý    1692\n",
       "Loại hình đất      1692\n",
       "Chiều ngang        1092\n",
       "Chiều dài           827\n",
       "Diện tích đất      1692\n",
       "Hướng cửa chính     462\n",
       "dtype: int64"
      ]
     },
     "execution_count": 283,
     "metadata": {},
     "output_type": "execute_result"
    }
   ],
   "source": [
    "df['Diện tích đất'] = df['Diện tích đất'].str.replace('m²', '', regex=False)\n",
    "df.count()"
   ]
  },
  {
   "cell_type": "markdown",
   "metadata": {},
   "source": [
    "**3.6 Xử lí địa chỉ**"
   ]
  },
  {
   "cell_type": "code",
   "execution_count": null,
   "metadata": {},
   "outputs": [
    {
     "name": "stdout",
     "output_type": "stream",
     "text": [
      "         Xã/Phường   Quận/Huyện\n",
      "0          Ninh Sở   Thường Tín\n",
      "1         Phù Linh      Sóc Sơn\n",
      "2         Bình Yên   Thạch Thất\n",
      "3         Bình Yên   Thạch Thất\n",
      "4     Thượng Thanh    Long Biên\n",
      "...            ...          ...\n",
      "1687     Tương Mai    Hoàng Mai\n",
      "1688     Xuân Đỉnh  Bắc Từ Liêm\n",
      "1689       Tứ Liên       Tây Hồ\n",
      "1690         Cổ Bi      Gia Lâm\n",
      "1691      Nam Hồng     Đông Anh\n",
      "\n",
      "[1692 rows x 2 columns]\n"
     ]
    }
   ],
   "source": [
    "def extract_commune_district(text):\n",
    "    commune, district = None, None\n",
    "    if \"Xã\" in text:\n",
    "        start = text.find(\"Xã\") + len(\"Xã \")\n",
    "        end = text.find(\",\", start)\n",
    "        commune = text[start:end].strip()\n",
    "    elif \"Phường\" in text:\n",
    "        start = text.find(\"Phường\") + len(\"Phường \")\n",
    "        end = text.find(\",\", start)\n",
    "        commune = text[start:end].strip()\n",
    "    elif \"Thị trấn\" in text:\n",
    "        start = text.find(\"Thị trấn\") + len(\"Thị trấn \")\n",
    "        end = text.find(\",\", start)\n",
    "        commune = text[start:end].strip()\n",
    "    \n",
    "    if \"Huyện\" in text:\n",
    "        start = text.find(\"Huyện\") + len(\"Huyện \")\n",
    "        end = text.find(\",\", start)\n",
    "        district = text[start:end].strip()\n",
    "    elif \"Quận\" in text:\n",
    "        start = text.find(\"Quận\") + len(\"Quận \")\n",
    "        end = text.find(\",\", start)\n",
    "        district = text[start:end].strip()\n",
    "    elif \"Thị xã\" in text:\n",
    "        start = text.find(\"Thị xã\") + len(\"Thị xã \")\n",
    "        end = text.find(\",\", start)\n",
    "        district = text[start:end].strip()\n",
    "    \n",
    "    return commune, district\n",
    "\n",
    "# Áp dụng hàm để tạo hai cột 'commune' và 'district'\n",
    "df[['Xã/Phường', 'Quận/Huyện']] = df['Địa chỉ'].apply(lambda x: pd.Series(extract_commune_district(x)))\n",
    "\n",
    "# Hiển thị kết quả\n",
    "print(df[['Xã/Phường', 'Quận/Huyện']])"
   ]
  },
  {
   "cell_type": "code",
   "execution_count": 4,
   "metadata": {},
   "outputs": [
    {
     "name": "stdout",
     "output_type": "stream",
     "text": [
      "                                                   Link  \\\n",
      "19    https://www.nhatot.com/mua-ban-dat-quan-ba-din...   \n",
      "301   https://www.nhatot.com/mua-ban-dat-quan-nam-tu...   \n",
      "777   https://www.nhatot.com/mua-ban-dat-huyen-my-du...   \n",
      "1246  https://www.nhatot.com/mua-ban-dat-quan-ha-don...   \n",
      "1388  https://www.nhatot.com/mua-ban-dat-huyen-dong-...   \n",
      "1442  https://www.nhatot.com/mua-ban-dat-huyen-gia-l...   \n",
      "1551  https://www.nhatot.com/mua-ban-dat-quan-nam-tu...   \n",
      "1613  https://www.nhatot.com/mua-ban-dat-huyen-chuon...   \n",
      "1641  https://www.nhatot.com/mua-ban-dat-huyen-hoai-...   \n",
      "\n",
      "                    Địa chỉ Giá tổng           Giá/m² Giấy tờ pháp lý  \\\n",
      "19             Đường N7, N9   6,2 tỷ   17,71 triệu/m²        Đã có sổ   \n",
      "301       Đường Hồ Tùng Mậu   6,4 tỷ  172,97 triệu/m²        Đã có sổ   \n",
      "777   Đường Mòn Hồ Chí Minh  1,88 tỷ   11,33 triệu/m²        Đã có sổ   \n",
      "1246          Phố Quang Lãm   5,5 tỷ   70,06 triệu/m²        Đã có sổ   \n",
      "1388                    23B  2,75 tỷ   59,78 triệu/m²        Đã có sổ   \n",
      "1442   Đường Quốc lộ Sen Hồ  1,55 tỷ   34,44 triệu/m²        Đã có sổ   \n",
      "1551       Đường Quang Tiến   5,1 tỷ   72,86 triệu/m²        Đã có sổ   \n",
      "1613                 Mã Sơn  3,85 tỷ    5,79 triệu/m²        Đã có sổ   \n",
      "1641         Gần quốc lộ 32   7,6 tỷ      76 triệu/m²        Đã có sổ   \n",
      "\n",
      "      Loại hình đất Chiều ngang Chiều dài Diện tích đất Hướng cửa chính  \\\n",
      "19       Đất thổ cư         NaN       NaN        350 m²             NaN   \n",
      "301      Đất thổ cư         NaN       NaN         37 m²             NaN   \n",
      "777      Đất thổ cư         6 m      27 m        166 m²             NaN   \n",
      "1246     Đất thổ cư       4.5 m   17.45 m       78.5 m²             Nam   \n",
      "1388     Đất thổ cư       4.2 m       NaN         46 m²        Đông Nam   \n",
      "1442     Đất thổ cư       5.5 m     8.1 m         45 m²        Đông Bắc   \n",
      "1551     Đất thổ cư         NaN       NaN         70 m²             NaN   \n",
      "1613     Đất thổ cư         NaN       NaN        665 m²             NaN   \n",
      "1641  Đất nền dự án         NaN       NaN        100 m²             NaN   \n",
      "\n",
      "     Xã/Phường Quận/Huyện  \n",
      "19        None       None  \n",
      "301       None       None  \n",
      "777       None       None  \n",
      "1246      None       None  \n",
      "1388      None       None  \n",
      "1442      None       None  \n",
      "1551      None       None  \n",
      "1613      None       None  \n",
      "1641      None       None  \n"
     ]
    }
   ],
   "source": [
    "missing_df = df[df['Xã/Phường'].isnull()]\n",
    "print(missing_df)\n",
    "\n"
   ]
  },
  {
   "cell_type": "code",
   "execution_count": 10,
   "metadata": {},
   "outputs": [
    {
     "name": "stdout",
     "output_type": "stream",
     "text": [
      "Empty DataFrame\n",
      "Columns: [Link, Địa chỉ, Giá tổng, Giá/m², Giấy tờ pháp lý, Loại hình đất, Chiều ngang, Chiều dài, Diện tích đất, Hướng cửa chính, Xã/Phường, Quận/Huyện]\n",
      "Index: []\n"
     ]
    }
   ],
   "source": [
    "missing_df = df[df['Quận/Huyện'].isnull()]\n",
    "print(missing_df)"
   ]
  },
  {
   "cell_type": "code",
   "execution_count": 9,
   "metadata": {},
   "outputs": [
    {
     "name": "stdout",
     "output_type": "stream",
     "text": [
      "Link               0\n",
      "Địa chỉ            0\n",
      "Giá tổng           0\n",
      "Giá/m²             0\n",
      "Giấy tờ pháp lý    0\n",
      "Loại hình đất      0\n",
      "Chiều ngang        0\n",
      "Chiều dài          0\n",
      "Diện tích đất      0\n",
      "Hướng cửa chính    0\n",
      "Xã/Phường          0\n",
      "Quận/Huyện         0\n",
      "dtype: int64\n"
     ]
    }
   ],
   "source": [
    "missing_commune_df = df[df['Quận/Huyện'].isnull()]\n",
    "\n",
    "# Hiển thị các hàng có 'commune' là null\n",
    "print(missing_commune_df.count())"
   ]
  },
  {
   "cell_type": "code",
   "execution_count": null,
   "metadata": {},
   "outputs": [],
   "source": [
    "df['Xã/Phường'].fillna(\"Trống\", inplace=True)\n",
    "df['Quận/Huyện'].fillna(\"Trống\", inplace=True)\n",
    "df.drop(columns=['Địa chỉ'], inplace=True)\n",
    "df['Quận/Huyện'].count()\n",
    "df['Xã/Phường'].count()"
   ]
  },
  {
   "cell_type": "code",
   "execution_count": 14,
   "metadata": {},
   "outputs": [
    {
     "data": {
      "text/html": [
       "<div>\n",
       "<style scoped>\n",
       "    .dataframe tbody tr th:only-of-type {\n",
       "        vertical-align: middle;\n",
       "    }\n",
       "\n",
       "    .dataframe tbody tr th {\n",
       "        vertical-align: top;\n",
       "    }\n",
       "\n",
       "    .dataframe thead th {\n",
       "        text-align: right;\n",
       "    }\n",
       "</style>\n",
       "<table border=\"1\" class=\"dataframe\">\n",
       "  <thead>\n",
       "    <tr style=\"text-align: right;\">\n",
       "      <th></th>\n",
       "      <th>Link</th>\n",
       "      <th>Địa chỉ</th>\n",
       "      <th>Giá tổng</th>\n",
       "      <th>Giá/m²</th>\n",
       "      <th>Giấy tờ pháp lý</th>\n",
       "      <th>Loại hình đất</th>\n",
       "      <th>Chiều ngang</th>\n",
       "      <th>Chiều dài</th>\n",
       "      <th>Diện tích đất</th>\n",
       "      <th>Hướng cửa chính</th>\n",
       "      <th>Xã/Phường</th>\n",
       "      <th>Quận/Huyện</th>\n",
       "    </tr>\n",
       "  </thead>\n",
       "  <tbody>\n",
       "    <tr>\n",
       "      <th>19</th>\n",
       "      <td>https://www.nhatot.com/mua-ban-dat-quan-ba-din...</td>\n",
       "      <td>Đường N7, N9</td>\n",
       "      <td>6,2 tỷ</td>\n",
       "      <td>17,71 triệu/m²</td>\n",
       "      <td>Đã có sổ</td>\n",
       "      <td>Đất thổ cư</td>\n",
       "      <td>NaN</td>\n",
       "      <td>NaN</td>\n",
       "      <td>350 m²</td>\n",
       "      <td>NaN</td>\n",
       "      <td>Trống</td>\n",
       "      <td>Trống</td>\n",
       "    </tr>\n",
       "    <tr>\n",
       "      <th>301</th>\n",
       "      <td>https://www.nhatot.com/mua-ban-dat-quan-nam-tu...</td>\n",
       "      <td>Đường Hồ Tùng Mậu</td>\n",
       "      <td>6,4 tỷ</td>\n",
       "      <td>172,97 triệu/m²</td>\n",
       "      <td>Đã có sổ</td>\n",
       "      <td>Đất thổ cư</td>\n",
       "      <td>NaN</td>\n",
       "      <td>NaN</td>\n",
       "      <td>37 m²</td>\n",
       "      <td>NaN</td>\n",
       "      <td>Trống</td>\n",
       "      <td>Trống</td>\n",
       "    </tr>\n",
       "    <tr>\n",
       "      <th>777</th>\n",
       "      <td>https://www.nhatot.com/mua-ban-dat-huyen-my-du...</td>\n",
       "      <td>Đường Mòn Hồ Chí Minh</td>\n",
       "      <td>1,88 tỷ</td>\n",
       "      <td>11,33 triệu/m²</td>\n",
       "      <td>Đã có sổ</td>\n",
       "      <td>Đất thổ cư</td>\n",
       "      <td>6 m</td>\n",
       "      <td>27 m</td>\n",
       "      <td>166 m²</td>\n",
       "      <td>NaN</td>\n",
       "      <td>Trống</td>\n",
       "      <td>Trống</td>\n",
       "    </tr>\n",
       "    <tr>\n",
       "      <th>1246</th>\n",
       "      <td>https://www.nhatot.com/mua-ban-dat-quan-ha-don...</td>\n",
       "      <td>Phố Quang Lãm</td>\n",
       "      <td>5,5 tỷ</td>\n",
       "      <td>70,06 triệu/m²</td>\n",
       "      <td>Đã có sổ</td>\n",
       "      <td>Đất thổ cư</td>\n",
       "      <td>4.5 m</td>\n",
       "      <td>17.45 m</td>\n",
       "      <td>78.5 m²</td>\n",
       "      <td>Nam</td>\n",
       "      <td>Trống</td>\n",
       "      <td>Trống</td>\n",
       "    </tr>\n",
       "    <tr>\n",
       "      <th>1388</th>\n",
       "      <td>https://www.nhatot.com/mua-ban-dat-huyen-dong-...</td>\n",
       "      <td>23B</td>\n",
       "      <td>2,75 tỷ</td>\n",
       "      <td>59,78 triệu/m²</td>\n",
       "      <td>Đã có sổ</td>\n",
       "      <td>Đất thổ cư</td>\n",
       "      <td>4.2 m</td>\n",
       "      <td>NaN</td>\n",
       "      <td>46 m²</td>\n",
       "      <td>Đông Nam</td>\n",
       "      <td>Trống</td>\n",
       "      <td>Trống</td>\n",
       "    </tr>\n",
       "    <tr>\n",
       "      <th>1442</th>\n",
       "      <td>https://www.nhatot.com/mua-ban-dat-huyen-gia-l...</td>\n",
       "      <td>Đường Quốc lộ Sen Hồ</td>\n",
       "      <td>1,55 tỷ</td>\n",
       "      <td>34,44 triệu/m²</td>\n",
       "      <td>Đã có sổ</td>\n",
       "      <td>Đất thổ cư</td>\n",
       "      <td>5.5 m</td>\n",
       "      <td>8.1 m</td>\n",
       "      <td>45 m²</td>\n",
       "      <td>Đông Bắc</td>\n",
       "      <td>Trống</td>\n",
       "      <td>Trống</td>\n",
       "    </tr>\n",
       "    <tr>\n",
       "      <th>1551</th>\n",
       "      <td>https://www.nhatot.com/mua-ban-dat-quan-nam-tu...</td>\n",
       "      <td>Đường Quang Tiến</td>\n",
       "      <td>5,1 tỷ</td>\n",
       "      <td>72,86 triệu/m²</td>\n",
       "      <td>Đã có sổ</td>\n",
       "      <td>Đất thổ cư</td>\n",
       "      <td>NaN</td>\n",
       "      <td>NaN</td>\n",
       "      <td>70 m²</td>\n",
       "      <td>NaN</td>\n",
       "      <td>Trống</td>\n",
       "      <td>Trống</td>\n",
       "    </tr>\n",
       "    <tr>\n",
       "      <th>1613</th>\n",
       "      <td>https://www.nhatot.com/mua-ban-dat-huyen-chuon...</td>\n",
       "      <td>Mã Sơn</td>\n",
       "      <td>3,85 tỷ</td>\n",
       "      <td>5,79 triệu/m²</td>\n",
       "      <td>Đã có sổ</td>\n",
       "      <td>Đất thổ cư</td>\n",
       "      <td>NaN</td>\n",
       "      <td>NaN</td>\n",
       "      <td>665 m²</td>\n",
       "      <td>NaN</td>\n",
       "      <td>Trống</td>\n",
       "      <td>Trống</td>\n",
       "    </tr>\n",
       "    <tr>\n",
       "      <th>1641</th>\n",
       "      <td>https://www.nhatot.com/mua-ban-dat-huyen-hoai-...</td>\n",
       "      <td>Gần quốc lộ 32</td>\n",
       "      <td>7,6 tỷ</td>\n",
       "      <td>76 triệu/m²</td>\n",
       "      <td>Đã có sổ</td>\n",
       "      <td>Đất nền dự án</td>\n",
       "      <td>NaN</td>\n",
       "      <td>NaN</td>\n",
       "      <td>100 m²</td>\n",
       "      <td>NaN</td>\n",
       "      <td>Trống</td>\n",
       "      <td>Trống</td>\n",
       "    </tr>\n",
       "  </tbody>\n",
       "</table>\n",
       "</div>"
      ],
      "text/plain": [
       "                                                   Link  \\\n",
       "19    https://www.nhatot.com/mua-ban-dat-quan-ba-din...   \n",
       "301   https://www.nhatot.com/mua-ban-dat-quan-nam-tu...   \n",
       "777   https://www.nhatot.com/mua-ban-dat-huyen-my-du...   \n",
       "1246  https://www.nhatot.com/mua-ban-dat-quan-ha-don...   \n",
       "1388  https://www.nhatot.com/mua-ban-dat-huyen-dong-...   \n",
       "1442  https://www.nhatot.com/mua-ban-dat-huyen-gia-l...   \n",
       "1551  https://www.nhatot.com/mua-ban-dat-quan-nam-tu...   \n",
       "1613  https://www.nhatot.com/mua-ban-dat-huyen-chuon...   \n",
       "1641  https://www.nhatot.com/mua-ban-dat-huyen-hoai-...   \n",
       "\n",
       "                    Địa chỉ Giá tổng           Giá/m² Giấy tờ pháp lý  \\\n",
       "19             Đường N7, N9   6,2 tỷ   17,71 triệu/m²        Đã có sổ   \n",
       "301       Đường Hồ Tùng Mậu   6,4 tỷ  172,97 triệu/m²        Đã có sổ   \n",
       "777   Đường Mòn Hồ Chí Minh  1,88 tỷ   11,33 triệu/m²        Đã có sổ   \n",
       "1246          Phố Quang Lãm   5,5 tỷ   70,06 triệu/m²        Đã có sổ   \n",
       "1388                    23B  2,75 tỷ   59,78 triệu/m²        Đã có sổ   \n",
       "1442   Đường Quốc lộ Sen Hồ  1,55 tỷ   34,44 triệu/m²        Đã có sổ   \n",
       "1551       Đường Quang Tiến   5,1 tỷ   72,86 triệu/m²        Đã có sổ   \n",
       "1613                 Mã Sơn  3,85 tỷ    5,79 triệu/m²        Đã có sổ   \n",
       "1641         Gần quốc lộ 32   7,6 tỷ      76 triệu/m²        Đã có sổ   \n",
       "\n",
       "      Loại hình đất Chiều ngang Chiều dài Diện tích đất Hướng cửa chính  \\\n",
       "19       Đất thổ cư         NaN       NaN        350 m²             NaN   \n",
       "301      Đất thổ cư         NaN       NaN         37 m²             NaN   \n",
       "777      Đất thổ cư         6 m      27 m        166 m²             NaN   \n",
       "1246     Đất thổ cư       4.5 m   17.45 m       78.5 m²             Nam   \n",
       "1388     Đất thổ cư       4.2 m       NaN         46 m²        Đông Nam   \n",
       "1442     Đất thổ cư       5.5 m     8.1 m         45 m²        Đông Bắc   \n",
       "1551     Đất thổ cư         NaN       NaN         70 m²             NaN   \n",
       "1613     Đất thổ cư         NaN       NaN        665 m²             NaN   \n",
       "1641  Đất nền dự án         NaN       NaN        100 m²             NaN   \n",
       "\n",
       "     Xã/Phường Quận/Huyện  \n",
       "19       Trống      Trống  \n",
       "301      Trống      Trống  \n",
       "777      Trống      Trống  \n",
       "1246     Trống      Trống  \n",
       "1388     Trống      Trống  \n",
       "1442     Trống      Trống  \n",
       "1551     Trống      Trống  \n",
       "1613     Trống      Trống  \n",
       "1641     Trống      Trống  "
      ]
     },
     "execution_count": 14,
     "metadata": {},
     "output_type": "execute_result"
    }
   ],
   "source": [
    "df1 = df[df[\"Quận/Huyện\"] == \"Trống\"]\n",
    "df1"
   ]
  }
 ],
 "metadata": {
  "kernelspec": {
   "display_name": "base",
   "language": "python",
   "name": "python3"
  },
  "language_info": {
   "codemirror_mode": {
    "name": "ipython",
    "version": 3
   },
   "file_extension": ".py",
   "mimetype": "text/x-python",
   "name": "python",
   "nbconvert_exporter": "python",
   "pygments_lexer": "ipython3",
   "version": "3.11.4"
  }
 },
 "nbformat": 4,
 "nbformat_minor": 2
}
