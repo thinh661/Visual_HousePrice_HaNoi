{
 "cells": [
  {
   "cell_type": "code",
   "execution_count": 106,
   "metadata": {},
   "outputs": [
    {
     "data": {
      "text/plain": [
       "Link                   3973\n",
       "Địa chỉ                3973\n",
       "Giá tổng               3973\n",
       "Giá/m²                 3973\n",
       "Số phòng ngủ           3973\n",
       "Số phòng vệ sinh       2364\n",
       "Tổng số tầng           2725\n",
       "Giấy tờ pháp lý        3973\n",
       "Loại hình nhà ở        3973\n",
       "Chiều ngang            1548\n",
       "Chiều dài               796\n",
       "Diện tích sử dụng      1873\n",
       "Diện tích đất          3973\n",
       "Hướng cửa chính         397\n",
       "Tình trạng nội thất    2145\n",
       "dtype: int64"
      ]
     },
     "execution_count": 106,
     "metadata": {},
     "output_type": "execute_result"
    }
   ],
   "source": [
    "import pandas as pd\n",
    "\n",
    "df = pd.read_csv('nhao_raw_0_200.csv')\n",
    "df.count()"
   ]
  },
  {
   "cell_type": "markdown",
   "metadata": {},
   "source": [
    "### 1. Xử lí cột giá tổng"
   ]
  },
  {
   "cell_type": "code",
   "execution_count": 107,
   "metadata": {},
   "outputs": [
    {
     "name": "stdout",
     "output_type": "stream",
     "text": [
      "3965\n",
      "8\n"
     ]
    }
   ],
   "source": [
    "# Lọc các giá trị có chữ cuối là 'tỷ'\n",
    "df_ty = df[df['Giá tổng'].str.contains('tỷ', na=False)]\n",
    "# Lọc ra các hàng có chứa 'triệu' trong cột 'Giá tổng'\n",
    "df_trieu = df[df['Giá tổng'].astype(str).str.contains('triệu', na=False)]\n",
    "\n",
    "print(df_ty['Giá/m²'].count())\n",
    "print(df_trieu['Giá tổng'].count())"
   ]
  },
  {
   "cell_type": "code",
   "execution_count": 108,
   "metadata": {},
   "outputs": [
    {
     "name": "stderr",
     "output_type": "stream",
     "text": [
      "C:\\Users\\pc\\AppData\\Local\\Temp\\ipykernel_18272\\259669801.py:2: SettingWithCopyWarning: \n",
      "A value is trying to be set on a copy of a slice from a DataFrame.\n",
      "Try using .loc[row_indexer,col_indexer] = value instead\n",
      "\n",
      "See the caveats in the documentation: https://pandas.pydata.org/pandas-docs/stable/user_guide/indexing.html#returning-a-view-versus-a-copy\n",
      "  df_ty['Giá tổng'] = df_ty['Giá tổng'].str.replace('tỷ', '', regex=True)  # Loại bỏ chữ\n",
      "C:\\Users\\pc\\AppData\\Local\\Temp\\ipykernel_18272\\259669801.py:3: SettingWithCopyWarning: \n",
      "A value is trying to be set on a copy of a slice from a DataFrame.\n",
      "Try using .loc[row_indexer,col_indexer] = value instead\n",
      "\n",
      "See the caveats in the documentation: https://pandas.pydata.org/pandas-docs/stable/user_guide/indexing.html#returning-a-view-versus-a-copy\n",
      "  df_ty['Giá tổng'] = df_ty['Giá tổng'].str.replace(',', '.', regex=False)  # Thay dấu ',' bằng '.'\n",
      "C:\\Users\\pc\\AppData\\Local\\Temp\\ipykernel_18272\\259669801.py:4: SettingWithCopyWarning: \n",
      "A value is trying to be set on a copy of a slice from a DataFrame.\n",
      "Try using .loc[row_indexer,col_indexer] = value instead\n",
      "\n",
      "See the caveats in the documentation: https://pandas.pydata.org/pandas-docs/stable/user_guide/indexing.html#returning-a-view-versus-a-copy\n",
      "  df_ty['Giá tổng'] = df_ty['Giá tổng'].astype(float)\n"
     ]
    },
    {
     "data": {
      "text/plain": [
       "0        2.92\n",
       "1       11.90\n",
       "2        8.00\n",
       "3        7.90\n",
       "4        2.10\n",
       "        ...  \n",
       "3968     6.60\n",
       "3969     6.00\n",
       "3970     5.10\n",
       "3971     5.20\n",
       "3972     4.30\n",
       "Name: Giá tổng, Length: 3965, dtype: float64"
      ]
     },
     "execution_count": 108,
     "metadata": {},
     "output_type": "execute_result"
    }
   ],
   "source": [
    "# Xử lí \"tỷ\" \n",
    "df_ty['Giá tổng'] = df_ty['Giá tổng'].str.replace('tỷ', '', regex=True)  # Loại bỏ chữ\n",
    "df_ty['Giá tổng'] = df_ty['Giá tổng'].str.replace(',', '.', regex=False)  # Thay dấu ',' bằng '.'\n",
    "df_ty['Giá tổng'] = df_ty['Giá tổng'].astype(float)\n",
    "df_ty['Giá tổng']"
   ]
  },
  {
   "cell_type": "code",
   "execution_count": 109,
   "metadata": {},
   "outputs": [
    {
     "name": "stderr",
     "output_type": "stream",
     "text": [
      "C:\\Users\\pc\\AppData\\Local\\Temp\\ipykernel_18272\\2549074996.py:2: SettingWithCopyWarning: \n",
      "A value is trying to be set on a copy of a slice from a DataFrame.\n",
      "Try using .loc[row_indexer,col_indexer] = value instead\n",
      "\n",
      "See the caveats in the documentation: https://pandas.pydata.org/pandas-docs/stable/user_guide/indexing.html#returning-a-view-versus-a-copy\n",
      "  df_trieu['Giá tổng'] = df_trieu['Giá tổng'].str.replace('triệu', '', regex=True)  # Loại bỏ chữ\n",
      "C:\\Users\\pc\\AppData\\Local\\Temp\\ipykernel_18272\\2549074996.py:3: SettingWithCopyWarning: \n",
      "A value is trying to be set on a copy of a slice from a DataFrame.\n",
      "Try using .loc[row_indexer,col_indexer] = value instead\n",
      "\n",
      "See the caveats in the documentation: https://pandas.pydata.org/pandas-docs/stable/user_guide/indexing.html#returning-a-view-versus-a-copy\n",
      "  df_trieu['Giá tổng'] = df_trieu['Giá tổng'].str.replace(',', '.', regex=False)  # Thay dấu ',' bằng '.'\n",
      "C:\\Users\\pc\\AppData\\Local\\Temp\\ipykernel_18272\\2549074996.py:4: SettingWithCopyWarning: \n",
      "A value is trying to be set on a copy of a slice from a DataFrame.\n",
      "Try using .loc[row_indexer,col_indexer] = value instead\n",
      "\n",
      "See the caveats in the documentation: https://pandas.pydata.org/pandas-docs/stable/user_guide/indexing.html#returning-a-view-versus-a-copy\n",
      "  df_trieu['Giá tổng'] = df_trieu['Giá tổng'].astype(float)\n",
      "C:\\Users\\pc\\AppData\\Local\\Temp\\ipykernel_18272\\2549074996.py:5: SettingWithCopyWarning: \n",
      "A value is trying to be set on a copy of a slice from a DataFrame.\n",
      "Try using .loc[row_indexer,col_indexer] = value instead\n",
      "\n",
      "See the caveats in the documentation: https://pandas.pydata.org/pandas-docs/stable/user_guide/indexing.html#returning-a-view-versus-a-copy\n",
      "  df_trieu['Giá tổng'] /= 1000 # Đổi về tỷ đồng\n"
     ]
    },
    {
     "data": {
      "text/plain": [
       "192     0.900\n",
       "351     0.800\n",
       "1607    0.103\n",
       "1896    0.900\n",
       "2705    0.950\n",
       "2745    0.980\n",
       "3221    0.205\n",
       "3858    0.575\n",
       "Name: Giá tổng, dtype: float64"
      ]
     },
     "execution_count": 109,
     "metadata": {},
     "output_type": "execute_result"
    }
   ],
   "source": [
    "# Xử lí triệu\n",
    "df_trieu['Giá tổng'] = df_trieu['Giá tổng'].str.replace('triệu', '', regex=True)  # Loại bỏ chữ\n",
    "df_trieu['Giá tổng'] = df_trieu['Giá tổng'].str.replace(',', '.', regex=False)  # Thay dấu ',' bằng '.'\n",
    "df_trieu['Giá tổng'] = df_trieu['Giá tổng'].astype(float)\n",
    "df_trieu['Giá tổng'] /= 1000 # Đổi về tỷ đồng\n",
    "df_trieu['Giá tổng']"
   ]
  },
  {
   "cell_type": "code",
   "execution_count": 110,
   "metadata": {},
   "outputs": [
    {
     "data": {
      "text/html": [
       "<div>\n",
       "<style scoped>\n",
       "    .dataframe tbody tr th:only-of-type {\n",
       "        vertical-align: middle;\n",
       "    }\n",
       "\n",
       "    .dataframe tbody tr th {\n",
       "        vertical-align: top;\n",
       "    }\n",
       "\n",
       "    .dataframe thead th {\n",
       "        text-align: right;\n",
       "    }\n",
       "</style>\n",
       "<table border=\"1\" class=\"dataframe\">\n",
       "  <thead>\n",
       "    <tr style=\"text-align: right;\">\n",
       "      <th></th>\n",
       "      <th>Link</th>\n",
       "      <th>Địa chỉ</th>\n",
       "      <th>Giá tổng</th>\n",
       "      <th>Giá/m²</th>\n",
       "      <th>Số phòng ngủ</th>\n",
       "      <th>Số phòng vệ sinh</th>\n",
       "      <th>Tổng số tầng</th>\n",
       "      <th>Giấy tờ pháp lý</th>\n",
       "      <th>Loại hình nhà ở</th>\n",
       "      <th>Chiều ngang</th>\n",
       "      <th>Chiều dài</th>\n",
       "      <th>Diện tích sử dụng</th>\n",
       "      <th>Diện tích đất</th>\n",
       "      <th>Hướng cửa chính</th>\n",
       "      <th>Tình trạng nội thất</th>\n",
       "    </tr>\n",
       "  </thead>\n",
       "  <tbody>\n",
       "    <tr>\n",
       "      <th>192</th>\n",
       "      <td>https://www.nhatot.com/mua-ban-nha-dat-huyen-t...</td>\n",
       "      <td>Đường Tả Thanh Oai, Xã Tả Thanh Oai, Huyện Tha...</td>\n",
       "      <td>0.900</td>\n",
       "      <td>21,43 triệu/m²</td>\n",
       "      <td>1 phòng</td>\n",
       "      <td>1 phòng</td>\n",
       "      <td>1.0</td>\n",
       "      <td>Sổ chung / công chứng vi bằng</td>\n",
       "      <td>Nhà mặt phố, mặt tiền</td>\n",
       "      <td>NaN</td>\n",
       "      <td>NaN</td>\n",
       "      <td>42 m²</td>\n",
       "      <td>42 m²</td>\n",
       "      <td>NaN</td>\n",
       "      <td>NaN</td>\n",
       "    </tr>\n",
       "    <tr>\n",
       "      <th>351</th>\n",
       "      <td>https://www.nhatot.com/mua-ban-nha-dat-quan-ha...</td>\n",
       "      <td>Đường Trương Định, Phường Trương Định, Quận Ha...</td>\n",
       "      <td>0.800</td>\n",
       "      <td>66,67 triệu/m²</td>\n",
       "      <td>2 phòng</td>\n",
       "      <td>2 phòng</td>\n",
       "      <td>3.0</td>\n",
       "      <td>Sổ chung / công chứng vi bằng</td>\n",
       "      <td>Nhà ngõ, hẻm</td>\n",
       "      <td>3 m</td>\n",
       "      <td>4 m</td>\n",
       "      <td>12 m²</td>\n",
       "      <td>12 m²</td>\n",
       "      <td>NaN</td>\n",
       "      <td>NaN</td>\n",
       "    </tr>\n",
       "    <tr>\n",
       "      <th>1607</th>\n",
       "      <td>https://www.nhatot.com/mua-ban-nha-dat-huyen-g...</td>\n",
       "      <td>Đường Trâu Quỳ, Thị trấn Trâu Quỳ, Huyện Gia L...</td>\n",
       "      <td>0.103</td>\n",
       "      <td>1,41 triệu/m²</td>\n",
       "      <td>2 phòng</td>\n",
       "      <td>2 phòng</td>\n",
       "      <td>NaN</td>\n",
       "      <td>Đã có sổ</td>\n",
       "      <td>Nhà ngõ, hẻm</td>\n",
       "      <td>NaN</td>\n",
       "      <td>NaN</td>\n",
       "      <td>NaN</td>\n",
       "      <td>73 m²</td>\n",
       "      <td>NaN</td>\n",
       "      <td>Hoàn thiện cơ bản</td>\n",
       "    </tr>\n",
       "    <tr>\n",
       "      <th>1896</th>\n",
       "      <td>https://www.nhatot.com/mua-ban-nha-dat-huyen-u...</td>\n",
       "      <td>Đường vào Đức Thánh Cả, Xã Hồng Quang, Huyện Ứ...</td>\n",
       "      <td>0.900</td>\n",
       "      <td>15 triệu/m²</td>\n",
       "      <td>1 phòng</td>\n",
       "      <td>1 phòng</td>\n",
       "      <td>1.0</td>\n",
       "      <td>Đã có sổ</td>\n",
       "      <td>Nhà ngõ, hẻm</td>\n",
       "      <td>4 m</td>\n",
       "      <td>15 m</td>\n",
       "      <td>60 m²</td>\n",
       "      <td>60 m²</td>\n",
       "      <td>Nam</td>\n",
       "      <td>Nội thất đầy đủ</td>\n",
       "    </tr>\n",
       "    <tr>\n",
       "      <th>2705</th>\n",
       "      <td>https://www.nhatot.com/mua-ban-nha-dat-quan-ha...</td>\n",
       "      <td>Phố Bùi Ngọc Dương, Phường Bạch Mai, Quận Hai ...</td>\n",
       "      <td>0.950</td>\n",
       "      <td>95 triệu/m²</td>\n",
       "      <td>1 phòng</td>\n",
       "      <td>1 phòng</td>\n",
       "      <td>NaN</td>\n",
       "      <td>Đang chờ sổ</td>\n",
       "      <td>Nhà ngõ, hẻm</td>\n",
       "      <td>3 m</td>\n",
       "      <td>4 m</td>\n",
       "      <td>10 m²</td>\n",
       "      <td>10 m²</td>\n",
       "      <td>NaN</td>\n",
       "      <td>NaN</td>\n",
       "    </tr>\n",
       "    <tr>\n",
       "      <th>2745</th>\n",
       "      <td>https://www.nhatot.com/mua-ban-nha-dat-quan-ho...</td>\n",
       "      <td>Nguyễn Chính , Phường Tương Mai, Quận Hoàng Ma...</td>\n",
       "      <td>0.980</td>\n",
       "      <td>46,67 triệu/m²</td>\n",
       "      <td>2 phòng</td>\n",
       "      <td>2 phòng</td>\n",
       "      <td>NaN</td>\n",
       "      <td>Không có sổ</td>\n",
       "      <td>Nhà ngõ, hẻm</td>\n",
       "      <td>NaN</td>\n",
       "      <td>NaN</td>\n",
       "      <td>NaN</td>\n",
       "      <td>21 m²</td>\n",
       "      <td>NaN</td>\n",
       "      <td>NaN</td>\n",
       "    </tr>\n",
       "    <tr>\n",
       "      <th>3221</th>\n",
       "      <td>https://www.nhatot.com/mua-ban-nha-dat-huyen-t...</td>\n",
       "      <td>Đường Cao Viên, Xã Cao Viên, Huyện Thanh Oai, ...</td>\n",
       "      <td>0.205</td>\n",
       "      <td>6,03 triệu/m²</td>\n",
       "      <td>3 phòng</td>\n",
       "      <td>3 phòng</td>\n",
       "      <td>4.0</td>\n",
       "      <td>Đã có sổ</td>\n",
       "      <td>Nhà ngõ, hẻm</td>\n",
       "      <td>NaN</td>\n",
       "      <td>NaN</td>\n",
       "      <td>NaN</td>\n",
       "      <td>34 m²</td>\n",
       "      <td>NaN</td>\n",
       "      <td>Nội thất đầy đủ</td>\n",
       "    </tr>\n",
       "    <tr>\n",
       "      <th>3858</th>\n",
       "      <td>https://www.nhatot.com/mua-ban-nha-dat-quan-lo...</td>\n",
       "      <td>Ô Cách, Phường Việt Hưng, Quận Long Biên, Hà Nội</td>\n",
       "      <td>0.575</td>\n",
       "      <td>17,97 triệu/m²</td>\n",
       "      <td>3 phòng</td>\n",
       "      <td>NaN</td>\n",
       "      <td>NaN</td>\n",
       "      <td>Đã có sổ</td>\n",
       "      <td>Nhà ngõ, hẻm</td>\n",
       "      <td>NaN</td>\n",
       "      <td>NaN</td>\n",
       "      <td>NaN</td>\n",
       "      <td>32 m²</td>\n",
       "      <td>NaN</td>\n",
       "      <td>NaN</td>\n",
       "    </tr>\n",
       "  </tbody>\n",
       "</table>\n",
       "</div>"
      ],
      "text/plain": [
       "                                                   Link  \\\n",
       "192   https://www.nhatot.com/mua-ban-nha-dat-huyen-t...   \n",
       "351   https://www.nhatot.com/mua-ban-nha-dat-quan-ha...   \n",
       "1607  https://www.nhatot.com/mua-ban-nha-dat-huyen-g...   \n",
       "1896  https://www.nhatot.com/mua-ban-nha-dat-huyen-u...   \n",
       "2705  https://www.nhatot.com/mua-ban-nha-dat-quan-ha...   \n",
       "2745  https://www.nhatot.com/mua-ban-nha-dat-quan-ho...   \n",
       "3221  https://www.nhatot.com/mua-ban-nha-dat-huyen-t...   \n",
       "3858  https://www.nhatot.com/mua-ban-nha-dat-quan-lo...   \n",
       "\n",
       "                                                Địa chỉ  Giá tổng  \\\n",
       "192   Đường Tả Thanh Oai, Xã Tả Thanh Oai, Huyện Tha...     0.900   \n",
       "351   Đường Trương Định, Phường Trương Định, Quận Ha...     0.800   \n",
       "1607  Đường Trâu Quỳ, Thị trấn Trâu Quỳ, Huyện Gia L...     0.103   \n",
       "1896  Đường vào Đức Thánh Cả, Xã Hồng Quang, Huyện Ứ...     0.900   \n",
       "2705  Phố Bùi Ngọc Dương, Phường Bạch Mai, Quận Hai ...     0.950   \n",
       "2745  Nguyễn Chính , Phường Tương Mai, Quận Hoàng Ma...     0.980   \n",
       "3221  Đường Cao Viên, Xã Cao Viên, Huyện Thanh Oai, ...     0.205   \n",
       "3858   Ô Cách, Phường Việt Hưng, Quận Long Biên, Hà Nội     0.575   \n",
       "\n",
       "              Giá/m² Số phòng ngủ Số phòng vệ sinh  Tổng số tầng  \\\n",
       "192   21,43 triệu/m²      1 phòng          1 phòng           1.0   \n",
       "351   66,67 triệu/m²      2 phòng          2 phòng           3.0   \n",
       "1607   1,41 triệu/m²      2 phòng          2 phòng           NaN   \n",
       "1896     15 triệu/m²      1 phòng          1 phòng           1.0   \n",
       "2705     95 triệu/m²      1 phòng          1 phòng           NaN   \n",
       "2745  46,67 triệu/m²      2 phòng          2 phòng           NaN   \n",
       "3221   6,03 triệu/m²      3 phòng          3 phòng           4.0   \n",
       "3858  17,97 triệu/m²      3 phòng              NaN           NaN   \n",
       "\n",
       "                    Giấy tờ pháp lý        Loại hình nhà ở Chiều ngang  \\\n",
       "192   Sổ chung / công chứng vi bằng  Nhà mặt phố, mặt tiền         NaN   \n",
       "351   Sổ chung / công chứng vi bằng           Nhà ngõ, hẻm         3 m   \n",
       "1607                       Đã có sổ           Nhà ngõ, hẻm         NaN   \n",
       "1896                       Đã có sổ           Nhà ngõ, hẻm         4 m   \n",
       "2705                    Đang chờ sổ           Nhà ngõ, hẻm         3 m   \n",
       "2745                    Không có sổ           Nhà ngõ, hẻm         NaN   \n",
       "3221                       Đã có sổ           Nhà ngõ, hẻm         NaN   \n",
       "3858                       Đã có sổ           Nhà ngõ, hẻm         NaN   \n",
       "\n",
       "     Chiều dài Diện tích sử dụng Diện tích đất Hướng cửa chính  \\\n",
       "192        NaN             42 m²         42 m²             NaN   \n",
       "351        4 m             12 m²         12 m²             NaN   \n",
       "1607       NaN               NaN         73 m²             NaN   \n",
       "1896      15 m             60 m²         60 m²             Nam   \n",
       "2705       4 m             10 m²         10 m²             NaN   \n",
       "2745       NaN               NaN         21 m²             NaN   \n",
       "3221       NaN               NaN         34 m²             NaN   \n",
       "3858       NaN               NaN         32 m²             NaN   \n",
       "\n",
       "     Tình trạng nội thất  \n",
       "192                  NaN  \n",
       "351                  NaN  \n",
       "1607   Hoàn thiện cơ bản  \n",
       "1896     Nội thất đầy đủ  \n",
       "2705                 NaN  \n",
       "2745                 NaN  \n",
       "3221     Nội thất đầy đủ  \n",
       "3858                 NaN  "
      ]
     },
     "execution_count": 110,
     "metadata": {},
     "output_type": "execute_result"
    }
   ],
   "source": [
    "df_trieu"
   ]
  },
  {
   "cell_type": "code",
   "execution_count": 111,
   "metadata": {},
   "outputs": [],
   "source": [
    "df.update(df_ty)\n",
    "df.update(df_trieu)"
   ]
  },
  {
   "cell_type": "code",
   "execution_count": 112,
   "metadata": {},
   "outputs": [
    {
     "name": "stdout",
     "output_type": "stream",
     "text": [
      "0.103\n",
      "500.0\n",
      "7.0\n"
     ]
    }
   ],
   "source": [
    "print(df['Giá tổng'].min())\n",
    "print(df['Giá tổng'].max())\n",
    "print(df['Giá tổng'].median())"
   ]
  },
  {
   "cell_type": "markdown",
   "metadata": {},
   "source": [
    "### 2. Xử lí cột Giá/m2"
   ]
  },
  {
   "cell_type": "code",
   "execution_count": 113,
   "metadata": {},
   "outputs": [
    {
     "name": "stdout",
     "output_type": "stream",
     "text": [
      "755     1,12 tỷ/m²\n",
      "1541    1,12 tỷ/m²\n",
      "1700    1,12 tỷ/m²\n",
      "2132       1 tỷ/m²\n",
      "2169       1 tỷ/m²\n",
      "2202    1,12 tỷ/m²\n",
      "2634    1,27 tỷ/m²\n",
      "3955       1 tỷ/m²\n",
      "Name: Giá/m², dtype: object\n"
     ]
    }
   ],
   "source": [
    "# Lọc các giá trị có chữ cuối là 'tỷ/m²'\n",
    "df_de_m2 = df[df['Giá/m²'].str.contains('tỷ/m²', na=False)]\n",
    "print(df_de_m2['Giá/m²'])"
   ]
  },
  {
   "cell_type": "code",
   "execution_count": 114,
   "metadata": {},
   "outputs": [
    {
     "name": "stdout",
     "output_type": "stream",
     "text": [
      "3965\n"
     ]
    }
   ],
   "source": [
    "# Lọc các giá trị có chữ cuối là 'triêu/m²'\n",
    "df_tr_m2 = df[df['Giá/m²'].str.contains('triệu/m²', na=False)]\n",
    "print(df_tr_m2['Giá/m²'].count())"
   ]
  },
  {
   "cell_type": "code",
   "execution_count": 115,
   "metadata": {},
   "outputs": [
    {
     "name": "stderr",
     "output_type": "stream",
     "text": [
      "C:\\Users\\pc\\AppData\\Local\\Temp\\ipykernel_18272\\526214038.py:3: SettingWithCopyWarning: \n",
      "A value is trying to be set on a copy of a slice from a DataFrame.\n",
      "Try using .loc[row_indexer,col_indexer] = value instead\n",
      "\n",
      "See the caveats in the documentation: https://pandas.pydata.org/pandas-docs/stable/user_guide/indexing.html#returning-a-view-versus-a-copy\n",
      "  df_de_m2['Giá/m²'] = df_de_m2['Giá/m²'].str.replace(' tỷ/m²', '', regex=False)\n",
      "C:\\Users\\pc\\AppData\\Local\\Temp\\ipykernel_18272\\526214038.py:4: SettingWithCopyWarning: \n",
      "A value is trying to be set on a copy of a slice from a DataFrame.\n",
      "Try using .loc[row_indexer,col_indexer] = value instead\n",
      "\n",
      "See the caveats in the documentation: https://pandas.pydata.org/pandas-docs/stable/user_guide/indexing.html#returning-a-view-versus-a-copy\n",
      "  df_de_m2['Giá/m²'] = df_de_m2['Giá/m²'].str.replace(',', '.', regex=False)  # Thay dấu ',' bằng '.\n",
      "C:\\Users\\pc\\AppData\\Local\\Temp\\ipykernel_18272\\526214038.py:5: SettingWithCopyWarning: \n",
      "A value is trying to be set on a copy of a slice from a DataFrame.\n",
      "Try using .loc[row_indexer,col_indexer] = value instead\n",
      "\n",
      "See the caveats in the documentation: https://pandas.pydata.org/pandas-docs/stable/user_guide/indexing.html#returning-a-view-versus-a-copy\n",
      "  df_de_m2['Giá/m²'] = df_de_m2['Giá/m²'].astype(float)\n",
      "C:\\Users\\pc\\AppData\\Local\\Temp\\ipykernel_18272\\526214038.py:6: SettingWithCopyWarning: \n",
      "A value is trying to be set on a copy of a slice from a DataFrame.\n",
      "Try using .loc[row_indexer,col_indexer] = value instead\n",
      "\n",
      "See the caveats in the documentation: https://pandas.pydata.org/pandas-docs/stable/user_guide/indexing.html#returning-a-view-versus-a-copy\n",
      "  df_de_m2['Giá/m²'] = df_de_m2['Giá/m²'] * 1000\n"
     ]
    },
    {
     "data": {
      "text/plain": [
       "755     1120.0\n",
       "1541    1120.0\n",
       "1700    1120.0\n",
       "2132    1000.0\n",
       "2169    1000.0\n",
       "2202    1120.0\n",
       "2634    1270.0\n",
       "3955    1000.0\n",
       "Name: Giá/m², dtype: float64"
      ]
     },
     "execution_count": 115,
     "metadata": {},
     "output_type": "execute_result"
    }
   ],
   "source": [
    "# Cột Giá/m2 : Bỏ tỷ/m2. VD : 1,2 tỷ/m2 = 1200\n",
    "df_de_m2 = df[df['Giá/m²'].str.contains('tỷ/m²', na=False)]\n",
    "df_de_m2['Giá/m²'] = df_de_m2['Giá/m²'].str.replace(' tỷ/m²', '', regex=False)\n",
    "df_de_m2['Giá/m²'] = df_de_m2['Giá/m²'].str.replace(',', '.', regex=False)  # Thay dấu ',' bằng '.\n",
    "df_de_m2['Giá/m²'] = df_de_m2['Giá/m²'].astype(float)\n",
    "df_de_m2['Giá/m²'] = df_de_m2['Giá/m²'] * 1000\n",
    "df_de_m2['Giá/m²']"
   ]
  },
  {
   "cell_type": "code",
   "execution_count": 116,
   "metadata": {},
   "outputs": [
    {
     "name": "stderr",
     "output_type": "stream",
     "text": [
      "C:\\Users\\pc\\AppData\\Local\\Temp\\ipykernel_18272\\383414962.py:2: SettingWithCopyWarning: \n",
      "A value is trying to be set on a copy of a slice from a DataFrame.\n",
      "Try using .loc[row_indexer,col_indexer] = value instead\n",
      "\n",
      "See the caveats in the documentation: https://pandas.pydata.org/pandas-docs/stable/user_guide/indexing.html#returning-a-view-versus-a-copy\n",
      "  df_tr_m2['Giá/m²'] = df_tr_m2['Giá/m²'].str.replace(',', '.', regex=False)  # Thay dấu ',' bằng '.'\n",
      "C:\\Users\\pc\\AppData\\Local\\Temp\\ipykernel_18272\\383414962.py:3: SettingWithCopyWarning: \n",
      "A value is trying to be set on a copy of a slice from a DataFrame.\n",
      "Try using .loc[row_indexer,col_indexer] = value instead\n",
      "\n",
      "See the caveats in the documentation: https://pandas.pydata.org/pandas-docs/stable/user_guide/indexing.html#returning-a-view-versus-a-copy\n",
      "  df_tr_m2['Giá/m²'] = df_tr_m2['Giá/m²'].str.replace('triệu/m²', '', regex=False)\n",
      "C:\\Users\\pc\\AppData\\Local\\Temp\\ipykernel_18272\\383414962.py:4: SettingWithCopyWarning: \n",
      "A value is trying to be set on a copy of a slice from a DataFrame.\n",
      "Try using .loc[row_indexer,col_indexer] = value instead\n",
      "\n",
      "See the caveats in the documentation: https://pandas.pydata.org/pandas-docs/stable/user_guide/indexing.html#returning-a-view-versus-a-copy\n",
      "  df_tr_m2['Giá/m²'] = df_tr_m2['Giá/m²'].astype(float)\n"
     ]
    },
    {
     "data": {
      "text/plain": [
       "0        73.00\n",
       "1       157.41\n",
       "2       200.00\n",
       "3       168.09\n",
       "4        70.00\n",
       "         ...  \n",
       "3968    200.00\n",
       "3969    166.67\n",
       "3970    159.38\n",
       "3971    157.58\n",
       "3972    143.33\n",
       "Name: Giá/m², Length: 3965, dtype: float64"
      ]
     },
     "execution_count": 116,
     "metadata": {},
     "output_type": "execute_result"
    }
   ],
   "source": [
    "# Cột Giá/m2 : Bỏ triệu/m2. VD : 660 triệu/m2 -> 660\n",
    "df_tr_m2['Giá/m²'] = df_tr_m2['Giá/m²'].str.replace(',', '.', regex=False)  # Thay dấu ',' bằng '.'\n",
    "df_tr_m2['Giá/m²'] = df_tr_m2['Giá/m²'].str.replace('triệu/m²', '', regex=False)\n",
    "df_tr_m2['Giá/m²'] = df_tr_m2['Giá/m²'].astype(float)\n",
    "df_tr_m2['Giá/m²']"
   ]
  },
  {
   "cell_type": "code",
   "execution_count": 117,
   "metadata": {},
   "outputs": [],
   "source": [
    "df.update(df_tr_m2)\n",
    "df.update(df_de_m2)"
   ]
  },
  {
   "cell_type": "code",
   "execution_count": 118,
   "metadata": {},
   "outputs": [
    {
     "name": "stdout",
     "output_type": "stream",
     "text": [
      "175.0\n",
      "1.41\n",
      "1270.0\n"
     ]
    }
   ],
   "source": [
    "print(df['Giá/m²'].median())\n",
    "print(df['Giá/m²'].min())\n",
    "print(df['Giá/m²'].max())"
   ]
  },
  {
   "cell_type": "markdown",
   "metadata": {},
   "source": [
    "### 3. Xử lí cột Số phòng ngủ"
   ]
  },
  {
   "cell_type": "code",
   "execution_count": 119,
   "metadata": {},
   "outputs": [
    {
     "data": {
      "text/plain": [
       "3 phòng               1440\n",
       "4 phòng               1274\n",
       "5 phòng                370\n",
       "6 phòng                281\n",
       "2 phòng                248\n",
       "nhiều hơn 10 phòng     131\n",
       "8 phòng                 60\n",
       "1 phòng                 58\n",
       "7 phòng                 44\n",
       "9 phòng                 44\n",
       "10 phòng                23\n",
       "Name: Số phòng ngủ, dtype: int64"
      ]
     },
     "execution_count": 119,
     "metadata": {},
     "output_type": "execute_result"
    }
   ],
   "source": [
    "count = df['Số phòng ngủ'].value_counts()\n",
    "count"
   ]
  },
  {
   "cell_type": "code",
   "execution_count": 120,
   "metadata": {},
   "outputs": [
    {
     "data": {
      "text/plain": [
       "3     1440\n",
       "4     1274\n",
       "5      370\n",
       "6      281\n",
       "2      248\n",
       "10     154\n",
       "8       60\n",
       "1       58\n",
       "7       44\n",
       "9       44\n",
       "Name: Số phòng ngủ, dtype: int64"
      ]
     },
     "execution_count": 120,
     "metadata": {},
     "output_type": "execute_result"
    }
   ],
   "source": [
    "df['Số phòng ngủ'] = df['Số phòng ngủ'].str.extract('(\\d+)')\n",
    "count = df['Số phòng ngủ'].value_counts()\n",
    "count"
   ]
  },
  {
   "cell_type": "markdown",
   "metadata": {},
   "source": [
    "### 4. Xư lí cột Số phòng vệ sinh"
   ]
  },
  {
   "cell_type": "code",
   "execution_count": 121,
   "metadata": {},
   "outputs": [
    {
     "data": {
      "text/plain": [
       "4    935\n",
       "3    643\n",
       "6    291\n",
       "5    274\n",
       "2    151\n",
       "1     70\n",
       "Name: Số phòng vệ sinh, dtype: int64"
      ]
     },
     "execution_count": 121,
     "metadata": {},
     "output_type": "execute_result"
    }
   ],
   "source": [
    "df['Số phòng vệ sinh'] = df['Số phòng vệ sinh'].str.extract('(\\d+)')\n",
    "count = df['Số phòng vệ sinh'].value_counts()\n",
    "count"
   ]
  },
  {
   "cell_type": "code",
   "execution_count": 122,
   "metadata": {},
   "outputs": [
    {
     "data": {
      "text/plain": [
       "Link                   1609\n",
       "Địa chỉ                1609\n",
       "Giá tổng               1609\n",
       "Giá/m²                 1609\n",
       "Số phòng ngủ           1609\n",
       "Số phòng vệ sinh          0\n",
       "Tổng số tầng            607\n",
       "Giấy tờ pháp lý        1609\n",
       "Loại hình nhà ở        1609\n",
       "Chiều ngang             227\n",
       "Chiều dài                70\n",
       "Diện tích sử dụng       358\n",
       "Diện tích đất          1609\n",
       "Hướng cửa chính          32\n",
       "Tình trạng nội thất     382\n",
       "dtype: int64"
      ]
     },
     "execution_count": 122,
     "metadata": {},
     "output_type": "execute_result"
    }
   ],
   "source": [
    "df_null_bathroom = df[df['Số phòng vệ sinh'].isnull()]\n",
    "df_null_bathroom.count()"
   ]
  },
  {
   "cell_type": "code",
   "execution_count": 123,
   "metadata": {},
   "outputs": [],
   "source": [
    "df['Số phòng vệ sinh'] = df['Số phòng vệ sinh'].fillna(df['Số phòng ngủ'])\n"
   ]
  },
  {
   "cell_type": "code",
   "execution_count": 124,
   "metadata": {},
   "outputs": [
    {
     "data": {
      "text/plain": [
       "4     1487\n",
       "3     1224\n",
       "5      424\n",
       "6      396\n",
       "2      238\n",
       "1       95\n",
       "10      57\n",
       "8       21\n",
       "7       18\n",
       "9       13\n",
       "Name: Số phòng vệ sinh, dtype: int64"
      ]
     },
     "execution_count": 124,
     "metadata": {},
     "output_type": "execute_result"
    }
   ],
   "source": [
    "count = df['Số phòng vệ sinh'].value_counts()\n",
    "count"
   ]
  },
  {
   "cell_type": "markdown",
   "metadata": {},
   "source": [
    "### 5.Xử lí cột Tổng số tầng"
   ]
  },
  {
   "cell_type": "code",
   "execution_count": 125,
   "metadata": {},
   "outputs": [
    {
     "data": {
      "text/plain": [
       "Link                   3973\n",
       "Địa chỉ                3973\n",
       "Giá tổng               3973\n",
       "Giá/m²                 3973\n",
       "Số phòng ngủ           3973\n",
       "Số phòng vệ sinh       3973\n",
       "Tổng số tầng           3973\n",
       "Giấy tờ pháp lý        3973\n",
       "Loại hình nhà ở        3973\n",
       "Chiều ngang            1548\n",
       "Chiều dài               796\n",
       "Diện tích sử dụng      1873\n",
       "Diện tích đất          3973\n",
       "Hướng cửa chính         397\n",
       "Tình trạng nội thất    2145\n",
       "dtype: int64"
      ]
     },
     "execution_count": 125,
     "metadata": {},
     "output_type": "execute_result"
    }
   ],
   "source": [
    "df['Số phòng ngủ'] = df['Số phòng ngủ'].astype(int)\n",
    "df['Số phòng vệ sinh'] = df['Số phòng vệ sinh'].astype(int)\n",
    "\n",
    "df['Tổng số tầng'] = df['Tổng số tầng'].fillna(df['Số phòng ngủ'] + 1)\n",
    "df['Tổng số tầng'] = df['Tổng số tầng'].astype(int)\n",
    "df.count()"
   ]
  },
  {
   "cell_type": "markdown",
   "metadata": {},
   "source": [
    "### 6. Xử lí cột Giấy tờ pháp lý"
   ]
  },
  {
   "cell_type": "code",
   "execution_count": 126,
   "metadata": {},
   "outputs": [
    {
     "data": {
      "text/plain": [
       "Đã có sổ                         3852\n",
       "Sổ chung / công chứng vi bằng      55\n",
       "Đang chờ sổ                        33\n",
       "Không có sổ                        20\n",
       "Giấy tờ viết tay                   13\n",
       "Name: Giấy tờ pháp lý, dtype: int64"
      ]
     },
     "execution_count": 126,
     "metadata": {},
     "output_type": "execute_result"
    }
   ],
   "source": [
    "count = df['Giấy tờ pháp lý'].value_counts()\n",
    "count"
   ]
  },
  {
   "cell_type": "markdown",
   "metadata": {},
   "source": [
    "### 7. Xử lý cột Loại hình nhà ở"
   ]
  },
  {
   "cell_type": "code",
   "execution_count": 127,
   "metadata": {},
   "outputs": [
    {
     "data": {
      "text/plain": [
       "Nhà ngõ, hẻm             3130\n",
       "Nhà mặt phố, mặt tiền     665\n",
       "Nhà phố liền kề           133\n",
       "Nhà biệt thự               45\n",
       "Name: Loại hình nhà ở, dtype: int64"
      ]
     },
     "execution_count": 127,
     "metadata": {},
     "output_type": "execute_result"
    }
   ],
   "source": [
    "count = df['Loại hình nhà ở'].value_counts()\n",
    "count"
   ]
  },
  {
   "cell_type": "markdown",
   "metadata": {},
   "source": [
    "### 8. Xử lí cột Diện tích đất"
   ]
  },
  {
   "cell_type": "code",
   "execution_count": 128,
   "metadata": {},
   "outputs": [
    {
     "data": {
      "text/plain": [
       "0       40.0\n",
       "1       75.6\n",
       "2       40.0\n",
       "3       47.0\n",
       "4       30.0\n",
       "        ... \n",
       "3968    33.0\n",
       "3969    36.0\n",
       "3970    32.0\n",
       "3971    33.0\n",
       "3972    30.0\n",
       "Name: Diện tích đất, Length: 3973, dtype: float64"
      ]
     },
     "execution_count": 128,
     "metadata": {},
     "output_type": "execute_result"
    }
   ],
   "source": [
    "df['Diện tích đất'] = df['Diện tích đất'].str.replace('m²', '', regex=False)\n",
    "df['Diện tích đất'] = df['Diện tích đất'].astype(float)\n",
    "df['Diện tích đất']"
   ]
  },
  {
   "cell_type": "markdown",
   "metadata": {},
   "source": [
    "### 9. Xử lí cột Tình trạng nội thất"
   ]
  },
  {
   "cell_type": "code",
   "execution_count": 129,
   "metadata": {},
   "outputs": [
    {
     "data": {
      "text/plain": [
       "Nội thất đầy đủ      1170\n",
       "Nội thất cao cấp      684\n",
       "Hoàn thiện cơ bản     276\n",
       "Bàn giao thô           15\n",
       "Name: Tình trạng nội thất, dtype: int64"
      ]
     },
     "execution_count": 129,
     "metadata": {},
     "output_type": "execute_result"
    }
   ],
   "source": [
    "count = df['Tình trạng nội thất'].value_counts()\n",
    "count"
   ]
  },
  {
   "cell_type": "code",
   "execution_count": 130,
   "metadata": {},
   "outputs": [
    {
     "name": "stderr",
     "output_type": "stream",
     "text": [
      "C:\\Users\\pc\\AppData\\Local\\Temp\\ipykernel_18272\\3726642066.py:5: SettingWithCopyWarning: \n",
      "A value is trying to be set on a copy of a slice from a DataFrame.\n",
      "Try using .loc[row_indexer,col_indexer] = value instead\n",
      "\n",
      "See the caveats in the documentation: https://pandas.pydata.org/pandas-docs/stable/user_guide/indexing.html#returning-a-view-versus-a-copy\n",
      "  df_ban_giao_tho['Giá/m²'] = df_ban_giao_tho['Giá/m²'].astype(float)\n",
      "C:\\Users\\pc\\AppData\\Local\\Temp\\ipykernel_18272\\3726642066.py:6: SettingWithCopyWarning: \n",
      "A value is trying to be set on a copy of a slice from a DataFrame.\n",
      "Try using .loc[row_indexer,col_indexer] = value instead\n",
      "\n",
      "See the caveats in the documentation: https://pandas.pydata.org/pandas-docs/stable/user_guide/indexing.html#returning-a-view-versus-a-copy\n",
      "  df_hoan_thien_co_ban['Giá/m²'] = df_hoan_thien_co_ban['Giá/m²'].astype(float)\n",
      "C:\\Users\\pc\\AppData\\Local\\Temp\\ipykernel_18272\\3726642066.py:7: SettingWithCopyWarning: \n",
      "A value is trying to be set on a copy of a slice from a DataFrame.\n",
      "Try using .loc[row_indexer,col_indexer] = value instead\n",
      "\n",
      "See the caveats in the documentation: https://pandas.pydata.org/pandas-docs/stable/user_guide/indexing.html#returning-a-view-versus-a-copy\n",
      "  df_noi_that_cao_cap['Giá/m²'] = df_noi_that_cao_cap['Giá/m²'].astype(float)\n",
      "C:\\Users\\pc\\AppData\\Local\\Temp\\ipykernel_18272\\3726642066.py:8: SettingWithCopyWarning: \n",
      "A value is trying to be set on a copy of a slice from a DataFrame.\n",
      "Try using .loc[row_indexer,col_indexer] = value instead\n",
      "\n",
      "See the caveats in the documentation: https://pandas.pydata.org/pandas-docs/stable/user_guide/indexing.html#returning-a-view-versus-a-copy\n",
      "  df_noi_that_day_du['Giá/m²'] = df_noi_that_day_du['Giá/m²'].astype(float)\n"
     ]
    }
   ],
   "source": [
    "df_noi_that_day_du = df[df['Tình trạng nội thất'] == 'Nội thất đầy đủ']\n",
    "df_noi_that_cao_cap = df[df['Tình trạng nội thất'] == 'Nội thất cao cấp']\n",
    "df_hoan_thien_co_ban = df[df['Tình trạng nội thất'] == 'Hoàn thiện cơ bản']\n",
    "df_ban_giao_tho = df[df['Tình trạng nội thất'] == 'Bàn giao thô']\n",
    "df_ban_giao_tho['Giá/m²'] = df_ban_giao_tho['Giá/m²'].astype(float)\n",
    "df_hoan_thien_co_ban['Giá/m²'] = df_hoan_thien_co_ban['Giá/m²'].astype(float)\n",
    "df_noi_that_cao_cap['Giá/m²'] = df_noi_that_cao_cap['Giá/m²'].astype(float)\n",
    "df_noi_that_day_du['Giá/m²'] = df_noi_that_day_du['Giá/m²'].astype(float)"
   ]
  },
  {
   "cell_type": "code",
   "execution_count": 131,
   "metadata": {},
   "outputs": [
    {
     "name": "stdout",
     "output_type": "stream",
     "text": [
      "Khoảng chạy Giá/m2 cho 'Nội thất đầy đủ': 6.03 - 990.0\n",
      "Khoảng chạy Giá/m2 cho 'Nội thất cao cấp': 30.3 - 1120.0\n",
      "Khoảng chạy Giá/m2 cho 'Hoàn thiện cơ bản': 1.41 - 1270.0\n",
      "Khoảng chạy Giá/m2 cho 'Bàn giao thô': 137.88 - 493.33\n"
     ]
    }
   ],
   "source": [
    "min_day_du = df_noi_that_day_du['Giá/m²'].min()\n",
    "max_day_du = df_noi_that_day_du['Giá/m²'].max()\n",
    "print(f\"Khoảng chạy Giá/m2 cho 'Nội thất đầy đủ': {min_day_du} - {max_day_du}\")\n",
    "\n",
    "min_cao_cap = df_noi_that_cao_cap['Giá/m²'].min()\n",
    "max_cao_cap = df_noi_that_cao_cap['Giá/m²'].max()\n",
    "print(f\"Khoảng chạy Giá/m2 cho 'Nội thất cao cấp': {min_cao_cap} - {max_cao_cap}\")\n",
    "\n",
    "min_hoan_thien = df_hoan_thien_co_ban['Giá/m²'].min()\n",
    "max_hoan_thien = df_hoan_thien_co_ban['Giá/m²'].max()\n",
    "print(f\"Khoảng chạy Giá/m2 cho 'Hoàn thiện cơ bản': {min_hoan_thien} - {max_hoan_thien}\")\n",
    "\n",
    "min_ban_giao_tho = df_ban_giao_tho['Giá/m²'].min()\n",
    "max_ban_giao_tho = df_ban_giao_tho['Giá/m²'].max()\n",
    "print(f\"Khoảng chạy Giá/m2 cho 'Bàn giao thô': {min_ban_giao_tho} - {max_ban_giao_tho}\")\n"
   ]
  },
  {
   "cell_type": "code",
   "execution_count": 132,
   "metadata": {},
   "outputs": [
    {
     "data": {
      "text/plain": [
       "count    1170.000000\n",
       "mean      190.532342\n",
       "std        93.704101\n",
       "min         6.030000\n",
       "25%       143.155000\n",
       "50%       173.745000\n",
       "75%       213.420000\n",
       "max       990.000000\n",
       "Name: Giá/m², dtype: float64"
      ]
     },
     "execution_count": 132,
     "metadata": {},
     "output_type": "execute_result"
    }
   ],
   "source": [
    "df_noi_that_day_du['Giá/m²'].describe()"
   ]
  },
  {
   "cell_type": "code",
   "execution_count": 133,
   "metadata": {},
   "outputs": [],
   "source": [
    "# Hàm gán giá trị Tình trạng nội thất dựa trên khoảng Giá/m2\n",
    "def fill_noi_that(row):\n",
    "    if pd.isnull(row['Tình trạng nội thất']):\n",
    "        if 90 <= row['Giá/m²'] <= 200:\n",
    "            return 'Nội thất đầy đủ'\n",
    "        elif 200 < row['Giá/m²'] <= 1300:\n",
    "            return 'Nội thất cao cấp'\n",
    "        elif 40 < row['Giá/m²'] < 90:\n",
    "            return 'Hoàn thiện cơ bản'\n",
    "        elif 0 <= row['Giá/m²'] < 40:\n",
    "            return 'Bàn giao thô'\n",
    "    else:\n",
    "        return row['Tình trạng nội thất']\n",
    "\n",
    "# Áp dụng hàm để điền giá trị\n",
    "df['Tình trạng nội thất'] = df.apply(fill_noi_that, axis=1)\n"
   ]
  },
  {
   "cell_type": "code",
   "execution_count": 134,
   "metadata": {},
   "outputs": [
    {
     "data": {
      "text/plain": [
       "Nội thất đầy đủ      2324\n",
       "Nội thất cao cấp     1239\n",
       "Hoàn thiện cơ bản     387\n",
       "Bàn giao thô           23\n",
       "Name: Tình trạng nội thất, dtype: int64"
      ]
     },
     "execution_count": 134,
     "metadata": {},
     "output_type": "execute_result"
    }
   ],
   "source": [
    "count = df['Tình trạng nội thất'].value_counts()\n",
    "count"
   ]
  },
  {
   "cell_type": "markdown",
   "metadata": {},
   "source": [
    "### 10. Xử lí cột Chiều dài, Chiều ngang"
   ]
  },
  {
   "cell_type": "code",
   "execution_count": 135,
   "metadata": {},
   "outputs": [
    {
     "data": {
      "text/plain": [
       "Link                   3973\n",
       "Địa chỉ                3973\n",
       "Giá tổng               3973\n",
       "Giá/m²                 3973\n",
       "Số phòng ngủ           3973\n",
       "Số phòng vệ sinh       3973\n",
       "Tổng số tầng           3973\n",
       "Giấy tờ pháp lý        3973\n",
       "Loại hình nhà ở        3973\n",
       "Chiều ngang            1548\n",
       "Chiều dài               796\n",
       "Diện tích sử dụng      1873\n",
       "Diện tích đất          3973\n",
       "Hướng cửa chính         397\n",
       "Tình trạng nội thất    3973\n",
       "dtype: int64"
      ]
     },
     "execution_count": 135,
     "metadata": {},
     "output_type": "execute_result"
    }
   ],
   "source": [
    "df['Chiều ngang'] = df['Chiều ngang'].str.replace('m', '', regex=False)\n",
    "df['Chiều ngang'] = df['Chiều ngang'].astype(float)\n",
    "df['Chiều dài'] = df['Chiều dài'].str.replace('m', '', regex=False)\n",
    "df['Chiều dài'] = df['Chiều dài'].astype(float)\n",
    "df.count()"
   ]
  },
  {
   "cell_type": "markdown",
   "metadata": {},
   "source": [
    "### 11. Xử lí cột Địa chỉ"
   ]
  },
  {
   "cell_type": "code",
   "execution_count": 136,
   "metadata": {},
   "outputs": [
    {
     "name": "stdout",
     "output_type": "stream",
     "text": [
      "             Xã/Phường    Quận/Huyện\n",
      "0            Yên Nghĩa       Hà Đông\n",
      "1            Ngọc Thụy     Long Biên\n",
      "2     Thanh Xuân Trung    Thanh Xuân\n",
      "3          Thịnh Quang       Đống Đa\n",
      "4            Thanh Trì     Hoàng Mai\n",
      "...                ...           ...\n",
      "3968          Vĩnh Tuy  Hai Bà Trưng\n",
      "3969           Đại Kim     Hoàng Mai\n",
      "3970        Hoàng Liệt     Hoàng Mai\n",
      "3971        Hoàng Liệt     Hoàng Mai\n",
      "3972          Tam Hiệp     Thanh Trì\n",
      "\n",
      "[3973 rows x 2 columns]\n"
     ]
    }
   ],
   "source": [
    "def extract_commune_district(text):\n",
    "    commune, district = None, None\n",
    "    if \"Xã\" in text:\n",
    "        start = text.find(\"Xã\") + len(\"Xã \")\n",
    "        end = text.find(\",\", start)\n",
    "        commune = text[start:end].strip()\n",
    "    elif \"Phường\" in text:\n",
    "        start = text.find(\"Phường\") + len(\"Phường \")\n",
    "        end = text.find(\",\", start)\n",
    "        commune = text[start:end].strip()\n",
    "    elif \"Thị trấn\" in text:\n",
    "        start = text.find(\"Thị trấn\") + len(\"Thị trấn \")\n",
    "        end = text.find(\",\", start)\n",
    "        commune = text[start:end].strip()\n",
    "    \n",
    "    if \"Huyện\" in text:\n",
    "        start = text.find(\"Huyện\") + len(\"Huyện \")\n",
    "        end = text.find(\",\", start)\n",
    "        district = text[start:end].strip()\n",
    "    elif \"Quận\" in text:\n",
    "        start = text.find(\"Quận\") + len(\"Quận \")\n",
    "        end = text.find(\",\", start)\n",
    "        district = text[start:end].strip()\n",
    "    elif \"Thị xã\" in text:\n",
    "        start = text.find(\"Thị xã\") + len(\"Thị xã \")\n",
    "        end = text.find(\",\", start)\n",
    "        district = text[start:end].strip()\n",
    "    \n",
    "    return commune, district\n",
    "\n",
    "# Áp dụng hàm để tạo hai cột 'commune' và 'district'\n",
    "df[['Xã/Phường', 'Quận/Huyện']] = df['Địa chỉ'].apply(lambda x: pd.Series(extract_commune_district(x)))\n",
    "\n",
    "# Hiển thị kết quả\n",
    "print(df[['Xã/Phường', 'Quận/Huyện']])"
   ]
  },
  {
   "cell_type": "code",
   "execution_count": 137,
   "metadata": {},
   "outputs": [
    {
     "data": {
      "text/plain": [
       "Link                   26\n",
       "Địa chỉ                26\n",
       "Giá tổng               26\n",
       "Giá/m²                 26\n",
       "Số phòng ngủ           26\n",
       "Số phòng vệ sinh       26\n",
       "Tổng số tầng           26\n",
       "Giấy tờ pháp lý        26\n",
       "Loại hình nhà ở        26\n",
       "Chiều ngang            15\n",
       "Chiều dài              13\n",
       "Diện tích sử dụng      19\n",
       "Diện tích đất          26\n",
       "Hướng cửa chính         4\n",
       "Tình trạng nội thất    26\n",
       "Xã/Phường               0\n",
       "Quận/Huyện              0\n",
       "dtype: int64"
      ]
     },
     "execution_count": 137,
     "metadata": {},
     "output_type": "execute_result"
    }
   ],
   "source": [
    "missing_df = df[df['Xã/Phường'].isnull()]\n",
    "missing_df.count()\n"
   ]
  },
  {
   "cell_type": "code",
   "execution_count": 138,
   "metadata": {},
   "outputs": [
    {
     "data": {
      "text/plain": [
       "Link                   26\n",
       "Địa chỉ                26\n",
       "Giá tổng               26\n",
       "Giá/m²                 26\n",
       "Số phòng ngủ           26\n",
       "Số phòng vệ sinh       26\n",
       "Tổng số tầng           26\n",
       "Giấy tờ pháp lý        26\n",
       "Loại hình nhà ở        26\n",
       "Chiều ngang            15\n",
       "Chiều dài              13\n",
       "Diện tích sử dụng      19\n",
       "Diện tích đất          26\n",
       "Hướng cửa chính         4\n",
       "Tình trạng nội thất    26\n",
       "Xã/Phường               0\n",
       "Quận/Huyện              0\n",
       "dtype: int64"
      ]
     },
     "execution_count": 138,
     "metadata": {},
     "output_type": "execute_result"
    }
   ],
   "source": [
    "missing_df = df[df['Quận/Huyện'].isnull()]\n",
    "missing_df.count()"
   ]
  },
  {
   "cell_type": "code",
   "execution_count": 139,
   "metadata": {},
   "outputs": [
    {
     "data": {
      "text/plain": [
       "3973"
      ]
     },
     "execution_count": 139,
     "metadata": {},
     "output_type": "execute_result"
    }
   ],
   "source": [
    "df['Xã/Phường'].fillna(\"Trống\", inplace=True)\n",
    "df['Quận/Huyện'].fillna(\"Trống\", inplace=True)\n",
    "df.drop(columns=['Địa chỉ'], inplace=True)\n",
    "df.drop(columns=['Diện tích sử dụng'], inplace=True)\n",
    "df['Quận/Huyện'].count()\n",
    "df['Xã/Phường'].count()"
   ]
  },
  {
   "cell_type": "code",
   "execution_count": 140,
   "metadata": {},
   "outputs": [
    {
     "name": "stdout",
     "output_type": "stream",
     "text": [
      "Link                   0\n",
      "Giá tổng               0\n",
      "Giá/m²                 0\n",
      "Số phòng ngủ           0\n",
      "Số phòng vệ sinh       0\n",
      "Tổng số tầng           0\n",
      "Giấy tờ pháp lý        0\n",
      "Loại hình nhà ở        0\n",
      "Chiều ngang            0\n",
      "Chiều dài              0\n",
      "Diện tích đất          0\n",
      "Hướng cửa chính        0\n",
      "Tình trạng nội thất    0\n",
      "Xã/Phường              0\n",
      "Quận/Huyện             0\n",
      "dtype: int64\n"
     ]
    }
   ],
   "source": [
    "missing_commune_df = df[df['Quận/Huyện'].isnull()]\n",
    "print(missing_commune_df.count())"
   ]
  },
  {
   "cell_type": "markdown",
   "metadata": {},
   "source": [
    "### 12. Kết quả"
   ]
  },
  {
   "cell_type": "code",
   "execution_count": 141,
   "metadata": {},
   "outputs": [
    {
     "data": {
      "text/plain": [
       "Link                   3973\n",
       "Giá tổng               3973\n",
       "Giá/m²                 3973\n",
       "Số phòng ngủ           3973\n",
       "Số phòng vệ sinh       3973\n",
       "Tổng số tầng           3973\n",
       "Giấy tờ pháp lý        3973\n",
       "Loại hình nhà ở        3973\n",
       "Chiều ngang            1548\n",
       "Chiều dài               796\n",
       "Diện tích đất          3973\n",
       "Hướng cửa chính         397\n",
       "Tình trạng nội thất    3973\n",
       "Xã/Phường              3973\n",
       "Quận/Huyện             3973\n",
       "dtype: int64"
      ]
     },
     "execution_count": 141,
     "metadata": {},
     "output_type": "execute_result"
    }
   ],
   "source": [
    "df.count()"
   ]
  },
  {
   "cell_type": "code",
   "execution_count": 143,
   "metadata": {},
   "outputs": [],
   "source": [
    "df['Giá tổng'] = df['Giá tổng'].astype(float)\n",
    "df['Giá/m²'] = df['Giá/m²'].astype(float)"
   ]
  },
  {
   "cell_type": "code",
   "execution_count": 144,
   "metadata": {},
   "outputs": [
    {
     "name": "stdout",
     "output_type": "stream",
     "text": [
      "<class 'pandas.core.frame.DataFrame'>\n",
      "RangeIndex: 3973 entries, 0 to 3972\n",
      "Data columns (total 15 columns):\n",
      " #   Column               Non-Null Count  Dtype  \n",
      "---  ------               --------------  -----  \n",
      " 0   Link                 3973 non-null   object \n",
      " 1   Giá tổng             3973 non-null   float64\n",
      " 2   Giá/m²               3973 non-null   float64\n",
      " 3   Số phòng ngủ         3973 non-null   int32  \n",
      " 4   Số phòng vệ sinh     3973 non-null   int32  \n",
      " 5   Tổng số tầng         3973 non-null   int32  \n",
      " 6   Giấy tờ pháp lý      3973 non-null   object \n",
      " 7   Loại hình nhà ở      3973 non-null   object \n",
      " 8   Chiều ngang          1548 non-null   float64\n",
      " 9   Chiều dài            796 non-null    float64\n",
      " 10  Diện tích đất        3973 non-null   float64\n",
      " 11  Hướng cửa chính      397 non-null    object \n",
      " 12  Tình trạng nội thất  3973 non-null   object \n",
      " 13  Xã/Phường            3973 non-null   object \n",
      " 14  Quận/Huyện           3973 non-null   object \n",
      "dtypes: float64(5), int32(3), object(7)\n",
      "memory usage: 419.2+ KB\n"
     ]
    }
   ],
   "source": [
    "df.info()"
   ]
  },
  {
   "cell_type": "code",
   "execution_count": 145,
   "metadata": {},
   "outputs": [
    {
     "data": {
      "text/html": [
       "<div>\n",
       "<style scoped>\n",
       "    .dataframe tbody tr th:only-of-type {\n",
       "        vertical-align: middle;\n",
       "    }\n",
       "\n",
       "    .dataframe tbody tr th {\n",
       "        vertical-align: top;\n",
       "    }\n",
       "\n",
       "    .dataframe thead th {\n",
       "        text-align: right;\n",
       "    }\n",
       "</style>\n",
       "<table border=\"1\" class=\"dataframe\">\n",
       "  <thead>\n",
       "    <tr style=\"text-align: right;\">\n",
       "      <th></th>\n",
       "      <th>Link</th>\n",
       "      <th>Giá tổng</th>\n",
       "      <th>Giá/m²</th>\n",
       "      <th>Số phòng ngủ</th>\n",
       "      <th>Số phòng vệ sinh</th>\n",
       "      <th>Tổng số tầng</th>\n",
       "      <th>Giấy tờ pháp lý</th>\n",
       "      <th>Loại hình nhà ở</th>\n",
       "      <th>Chiều ngang</th>\n",
       "      <th>Chiều dài</th>\n",
       "      <th>Diện tích đất</th>\n",
       "      <th>Hướng cửa chính</th>\n",
       "      <th>Tình trạng nội thất</th>\n",
       "      <th>Xã/Phường</th>\n",
       "      <th>Quận/Huyện</th>\n",
       "    </tr>\n",
       "  </thead>\n",
       "  <tbody>\n",
       "    <tr>\n",
       "      <th>0</th>\n",
       "      <td>https://www.nhatot.com/mua-ban-nha-dat-quan-ha...</td>\n",
       "      <td>2.92</td>\n",
       "      <td>73.00</td>\n",
       "      <td>4</td>\n",
       "      <td>4</td>\n",
       "      <td>3</td>\n",
       "      <td>Đã có sổ</td>\n",
       "      <td>Nhà mặt phố, mặt tiền</td>\n",
       "      <td>NaN</td>\n",
       "      <td>NaN</td>\n",
       "      <td>40.0</td>\n",
       "      <td>NaN</td>\n",
       "      <td>Hoàn thiện cơ bản</td>\n",
       "      <td>Yên Nghĩa</td>\n",
       "      <td>Hà Đông</td>\n",
       "    </tr>\n",
       "    <tr>\n",
       "      <th>1</th>\n",
       "      <td>https://www.nhatot.com/mua-ban-nha-dat-quan-lo...</td>\n",
       "      <td>11.90</td>\n",
       "      <td>157.41</td>\n",
       "      <td>3</td>\n",
       "      <td>3</td>\n",
       "      <td>4</td>\n",
       "      <td>Đã có sổ</td>\n",
       "      <td>Nhà mặt phố, mặt tiền</td>\n",
       "      <td>NaN</td>\n",
       "      <td>NaN</td>\n",
       "      <td>75.6</td>\n",
       "      <td>NaN</td>\n",
       "      <td>Nội thất đầy đủ</td>\n",
       "      <td>Ngọc Thụy</td>\n",
       "      <td>Long Biên</td>\n",
       "    </tr>\n",
       "    <tr>\n",
       "      <th>2</th>\n",
       "      <td>https://www.nhatot.com/mua-ban-nha-dat-quan-th...</td>\n",
       "      <td>8.00</td>\n",
       "      <td>200.00</td>\n",
       "      <td>8</td>\n",
       "      <td>8</td>\n",
       "      <td>5</td>\n",
       "      <td>Đã có sổ</td>\n",
       "      <td>Nhà ngõ, hẻm</td>\n",
       "      <td>4.0</td>\n",
       "      <td>10.0</td>\n",
       "      <td>40.0</td>\n",
       "      <td>NaN</td>\n",
       "      <td>Nội thất đầy đủ</td>\n",
       "      <td>Thanh Xuân Trung</td>\n",
       "      <td>Thanh Xuân</td>\n",
       "    </tr>\n",
       "    <tr>\n",
       "      <th>3</th>\n",
       "      <td>https://www.nhatot.com/mua-ban-nha-dat-quan-do...</td>\n",
       "      <td>7.90</td>\n",
       "      <td>168.09</td>\n",
       "      <td>5</td>\n",
       "      <td>4</td>\n",
       "      <td>4</td>\n",
       "      <td>Đã có sổ</td>\n",
       "      <td>Nhà ngõ, hẻm</td>\n",
       "      <td>4.0</td>\n",
       "      <td>11.8</td>\n",
       "      <td>47.0</td>\n",
       "      <td>NaN</td>\n",
       "      <td>Nội thất đầy đủ</td>\n",
       "      <td>Thịnh Quang</td>\n",
       "      <td>Đống Đa</td>\n",
       "    </tr>\n",
       "    <tr>\n",
       "      <th>4</th>\n",
       "      <td>https://www.nhatot.com/mua-ban-nha-dat-quan-ho...</td>\n",
       "      <td>2.10</td>\n",
       "      <td>70.00</td>\n",
       "      <td>3</td>\n",
       "      <td>3</td>\n",
       "      <td>4</td>\n",
       "      <td>Sổ chung / công chứng vi bằng</td>\n",
       "      <td>Nhà ngõ, hẻm</td>\n",
       "      <td>NaN</td>\n",
       "      <td>NaN</td>\n",
       "      <td>30.0</td>\n",
       "      <td>NaN</td>\n",
       "      <td>Hoàn thiện cơ bản</td>\n",
       "      <td>Thanh Trì</td>\n",
       "      <td>Hoàng Mai</td>\n",
       "    </tr>\n",
       "    <tr>\n",
       "      <th>...</th>\n",
       "      <td>...</td>\n",
       "      <td>...</td>\n",
       "      <td>...</td>\n",
       "      <td>...</td>\n",
       "      <td>...</td>\n",
       "      <td>...</td>\n",
       "      <td>...</td>\n",
       "      <td>...</td>\n",
       "      <td>...</td>\n",
       "      <td>...</td>\n",
       "      <td>...</td>\n",
       "      <td>...</td>\n",
       "      <td>...</td>\n",
       "      <td>...</td>\n",
       "      <td>...</td>\n",
       "    </tr>\n",
       "    <tr>\n",
       "      <th>3968</th>\n",
       "      <td>https://www.nhatot.com/mua-ban-nha-dat-quan-ha...</td>\n",
       "      <td>6.60</td>\n",
       "      <td>200.00</td>\n",
       "      <td>3</td>\n",
       "      <td>3</td>\n",
       "      <td>5</td>\n",
       "      <td>Đã có sổ</td>\n",
       "      <td>Nhà ngõ, hẻm</td>\n",
       "      <td>4.2</td>\n",
       "      <td>NaN</td>\n",
       "      <td>33.0</td>\n",
       "      <td>NaN</td>\n",
       "      <td>Nội thất đầy đủ</td>\n",
       "      <td>Vĩnh Tuy</td>\n",
       "      <td>Hai Bà Trưng</td>\n",
       "    </tr>\n",
       "    <tr>\n",
       "      <th>3969</th>\n",
       "      <td>https://www.nhatot.com/mua-ban-nha-dat-quan-ho...</td>\n",
       "      <td>6.00</td>\n",
       "      <td>166.67</td>\n",
       "      <td>3</td>\n",
       "      <td>4</td>\n",
       "      <td>4</td>\n",
       "      <td>Đã có sổ</td>\n",
       "      <td>Nhà ngõ, hẻm</td>\n",
       "      <td>NaN</td>\n",
       "      <td>NaN</td>\n",
       "      <td>36.0</td>\n",
       "      <td>NaN</td>\n",
       "      <td>Nội thất đầy đủ</td>\n",
       "      <td>Đại Kim</td>\n",
       "      <td>Hoàng Mai</td>\n",
       "    </tr>\n",
       "    <tr>\n",
       "      <th>3970</th>\n",
       "      <td>https://www.nhatot.com/mua-ban-nha-dat-quan-ho...</td>\n",
       "      <td>5.10</td>\n",
       "      <td>159.38</td>\n",
       "      <td>3</td>\n",
       "      <td>4</td>\n",
       "      <td>4</td>\n",
       "      <td>Đã có sổ</td>\n",
       "      <td>Nhà ngõ, hẻm</td>\n",
       "      <td>4.0</td>\n",
       "      <td>8.0</td>\n",
       "      <td>32.0</td>\n",
       "      <td>NaN</td>\n",
       "      <td>Nội thất đầy đủ</td>\n",
       "      <td>Hoàng Liệt</td>\n",
       "      <td>Hoàng Mai</td>\n",
       "    </tr>\n",
       "    <tr>\n",
       "      <th>3971</th>\n",
       "      <td>https://www.nhatot.com/mua-ban-nha-dat-quan-ho...</td>\n",
       "      <td>5.20</td>\n",
       "      <td>157.58</td>\n",
       "      <td>3</td>\n",
       "      <td>4</td>\n",
       "      <td>4</td>\n",
       "      <td>Đã có sổ</td>\n",
       "      <td>Nhà ngõ, hẻm</td>\n",
       "      <td>NaN</td>\n",
       "      <td>NaN</td>\n",
       "      <td>33.0</td>\n",
       "      <td>NaN</td>\n",
       "      <td>Nội thất cao cấp</td>\n",
       "      <td>Hoàng Liệt</td>\n",
       "      <td>Hoàng Mai</td>\n",
       "    </tr>\n",
       "    <tr>\n",
       "      <th>3972</th>\n",
       "      <td>https://www.nhatot.com/mua-ban-nha-dat-huyen-t...</td>\n",
       "      <td>4.30</td>\n",
       "      <td>143.33</td>\n",
       "      <td>3</td>\n",
       "      <td>3</td>\n",
       "      <td>4</td>\n",
       "      <td>Đã có sổ</td>\n",
       "      <td>Nhà ngõ, hẻm</td>\n",
       "      <td>NaN</td>\n",
       "      <td>NaN</td>\n",
       "      <td>30.0</td>\n",
       "      <td>NaN</td>\n",
       "      <td>Nội thất đầy đủ</td>\n",
       "      <td>Tam Hiệp</td>\n",
       "      <td>Thanh Trì</td>\n",
       "    </tr>\n",
       "  </tbody>\n",
       "</table>\n",
       "<p>3973 rows × 15 columns</p>\n",
       "</div>"
      ],
      "text/plain": [
       "                                                   Link  Giá tổng  Giá/m²  \\\n",
       "0     https://www.nhatot.com/mua-ban-nha-dat-quan-ha...      2.92   73.00   \n",
       "1     https://www.nhatot.com/mua-ban-nha-dat-quan-lo...     11.90  157.41   \n",
       "2     https://www.nhatot.com/mua-ban-nha-dat-quan-th...      8.00  200.00   \n",
       "3     https://www.nhatot.com/mua-ban-nha-dat-quan-do...      7.90  168.09   \n",
       "4     https://www.nhatot.com/mua-ban-nha-dat-quan-ho...      2.10   70.00   \n",
       "...                                                 ...       ...     ...   \n",
       "3968  https://www.nhatot.com/mua-ban-nha-dat-quan-ha...      6.60  200.00   \n",
       "3969  https://www.nhatot.com/mua-ban-nha-dat-quan-ho...      6.00  166.67   \n",
       "3970  https://www.nhatot.com/mua-ban-nha-dat-quan-ho...      5.10  159.38   \n",
       "3971  https://www.nhatot.com/mua-ban-nha-dat-quan-ho...      5.20  157.58   \n",
       "3972  https://www.nhatot.com/mua-ban-nha-dat-huyen-t...      4.30  143.33   \n",
       "\n",
       "      Số phòng ngủ  Số phòng vệ sinh  Tổng số tầng  \\\n",
       "0                4                 4             3   \n",
       "1                3                 3             4   \n",
       "2                8                 8             5   \n",
       "3                5                 4             4   \n",
       "4                3                 3             4   \n",
       "...            ...               ...           ...   \n",
       "3968             3                 3             5   \n",
       "3969             3                 4             4   \n",
       "3970             3                 4             4   \n",
       "3971             3                 4             4   \n",
       "3972             3                 3             4   \n",
       "\n",
       "                    Giấy tờ pháp lý        Loại hình nhà ở  Chiều ngang  \\\n",
       "0                          Đã có sổ  Nhà mặt phố, mặt tiền          NaN   \n",
       "1                          Đã có sổ  Nhà mặt phố, mặt tiền          NaN   \n",
       "2                          Đã có sổ           Nhà ngõ, hẻm          4.0   \n",
       "3                          Đã có sổ           Nhà ngõ, hẻm          4.0   \n",
       "4     Sổ chung / công chứng vi bằng           Nhà ngõ, hẻm          NaN   \n",
       "...                             ...                    ...          ...   \n",
       "3968                       Đã có sổ           Nhà ngõ, hẻm          4.2   \n",
       "3969                       Đã có sổ           Nhà ngõ, hẻm          NaN   \n",
       "3970                       Đã có sổ           Nhà ngõ, hẻm          4.0   \n",
       "3971                       Đã có sổ           Nhà ngõ, hẻm          NaN   \n",
       "3972                       Đã có sổ           Nhà ngõ, hẻm          NaN   \n",
       "\n",
       "      Chiều dài  Diện tích đất Hướng cửa chính Tình trạng nội thất  \\\n",
       "0           NaN           40.0             NaN   Hoàn thiện cơ bản   \n",
       "1           NaN           75.6             NaN     Nội thất đầy đủ   \n",
       "2          10.0           40.0             NaN     Nội thất đầy đủ   \n",
       "3          11.8           47.0             NaN     Nội thất đầy đủ   \n",
       "4           NaN           30.0             NaN   Hoàn thiện cơ bản   \n",
       "...         ...            ...             ...                 ...   \n",
       "3968        NaN           33.0             NaN     Nội thất đầy đủ   \n",
       "3969        NaN           36.0             NaN     Nội thất đầy đủ   \n",
       "3970        8.0           32.0             NaN     Nội thất đầy đủ   \n",
       "3971        NaN           33.0             NaN    Nội thất cao cấp   \n",
       "3972        NaN           30.0             NaN     Nội thất đầy đủ   \n",
       "\n",
       "             Xã/Phường    Quận/Huyện  \n",
       "0            Yên Nghĩa       Hà Đông  \n",
       "1            Ngọc Thụy     Long Biên  \n",
       "2     Thanh Xuân Trung    Thanh Xuân  \n",
       "3          Thịnh Quang       Đống Đa  \n",
       "4            Thanh Trì     Hoàng Mai  \n",
       "...                ...           ...  \n",
       "3968          Vĩnh Tuy  Hai Bà Trưng  \n",
       "3969           Đại Kim     Hoàng Mai  \n",
       "3970        Hoàng Liệt     Hoàng Mai  \n",
       "3971        Hoàng Liệt     Hoàng Mai  \n",
       "3972          Tam Hiệp     Thanh Trì  \n",
       "\n",
       "[3973 rows x 15 columns]"
      ]
     },
     "execution_count": 145,
     "metadata": {},
     "output_type": "execute_result"
    }
   ],
   "source": [
    "df"
   ]
  },
  {
   "cell_type": "code",
   "execution_count": 146,
   "metadata": {},
   "outputs": [
    {
     "data": {
      "text/html": [
       "<div>\n",
       "<style scoped>\n",
       "    .dataframe tbody tr th:only-of-type {\n",
       "        vertical-align: middle;\n",
       "    }\n",
       "\n",
       "    .dataframe tbody tr th {\n",
       "        vertical-align: top;\n",
       "    }\n",
       "\n",
       "    .dataframe thead th {\n",
       "        text-align: right;\n",
       "    }\n",
       "</style>\n",
       "<table border=\"1\" class=\"dataframe\">\n",
       "  <thead>\n",
       "    <tr style=\"text-align: right;\">\n",
       "      <th></th>\n",
       "      <th>Link</th>\n",
       "      <th>Giá tổng</th>\n",
       "      <th>Giá/m²</th>\n",
       "      <th>Số phòng ngủ</th>\n",
       "      <th>Số phòng vệ sinh</th>\n",
       "      <th>Tổng số tầng</th>\n",
       "      <th>Giấy tờ pháp lý</th>\n",
       "      <th>Loại hình nhà ở</th>\n",
       "      <th>Chiều ngang</th>\n",
       "      <th>Chiều dài</th>\n",
       "      <th>Diện tích đất</th>\n",
       "      <th>Hướng cửa chính</th>\n",
       "      <th>Tình trạng nội thất</th>\n",
       "      <th>Xã/Phường</th>\n",
       "      <th>Quận/Huyện</th>\n",
       "    </tr>\n",
       "  </thead>\n",
       "  <tbody>\n",
       "    <tr>\n",
       "      <th>count</th>\n",
       "      <td>3973</td>\n",
       "      <td>3973.000000</td>\n",
       "      <td>3973.000000</td>\n",
       "      <td>3973.000000</td>\n",
       "      <td>3973.000000</td>\n",
       "      <td>3973.000000</td>\n",
       "      <td>3973</td>\n",
       "      <td>3973</td>\n",
       "      <td>1548.000000</td>\n",
       "      <td>796.000000</td>\n",
       "      <td>3973.000000</td>\n",
       "      <td>397</td>\n",
       "      <td>3973</td>\n",
       "      <td>3973</td>\n",
       "      <td>3973</td>\n",
       "    </tr>\n",
       "    <tr>\n",
       "      <th>unique</th>\n",
       "      <td>3973</td>\n",
       "      <td>NaN</td>\n",
       "      <td>NaN</td>\n",
       "      <td>NaN</td>\n",
       "      <td>NaN</td>\n",
       "      <td>NaN</td>\n",
       "      <td>5</td>\n",
       "      <td>4</td>\n",
       "      <td>NaN</td>\n",
       "      <td>NaN</td>\n",
       "      <td>NaN</td>\n",
       "      <td>8</td>\n",
       "      <td>4</td>\n",
       "      <td>226</td>\n",
       "      <td>25</td>\n",
       "    </tr>\n",
       "    <tr>\n",
       "      <th>top</th>\n",
       "      <td>https://www.nhatot.com/mua-ban-nha-dat-quan-ha...</td>\n",
       "      <td>NaN</td>\n",
       "      <td>NaN</td>\n",
       "      <td>NaN</td>\n",
       "      <td>NaN</td>\n",
       "      <td>NaN</td>\n",
       "      <td>Đã có sổ</td>\n",
       "      <td>Nhà ngõ, hẻm</td>\n",
       "      <td>NaN</td>\n",
       "      <td>NaN</td>\n",
       "      <td>NaN</td>\n",
       "      <td>Đông Nam</td>\n",
       "      <td>Nội thất đầy đủ</td>\n",
       "      <td>Khương Đình</td>\n",
       "      <td>Hoàng Mai</td>\n",
       "    </tr>\n",
       "    <tr>\n",
       "      <th>freq</th>\n",
       "      <td>1</td>\n",
       "      <td>NaN</td>\n",
       "      <td>NaN</td>\n",
       "      <td>NaN</td>\n",
       "      <td>NaN</td>\n",
       "      <td>NaN</td>\n",
       "      <td>3852</td>\n",
       "      <td>3130</td>\n",
       "      <td>NaN</td>\n",
       "      <td>NaN</td>\n",
       "      <td>NaN</td>\n",
       "      <td>119</td>\n",
       "      <td>2324</td>\n",
       "      <td>105</td>\n",
       "      <td>566</td>\n",
       "    </tr>\n",
       "    <tr>\n",
       "      <th>mean</th>\n",
       "      <td>NaN</td>\n",
       "      <td>11.049641</td>\n",
       "      <td>197.491973</td>\n",
       "      <td>4.085074</td>\n",
       "      <td>3.943619</td>\n",
       "      <td>5.028190</td>\n",
       "      <td>NaN</td>\n",
       "      <td>NaN</td>\n",
       "      <td>9.474412</td>\n",
       "      <td>17.527902</td>\n",
       "      <td>49.868865</td>\n",
       "      <td>NaN</td>\n",
       "      <td>NaN</td>\n",
       "      <td>NaN</td>\n",
       "      <td>NaN</td>\n",
       "    </tr>\n",
       "    <tr>\n",
       "      <th>std</th>\n",
       "      <td>NaN</td>\n",
       "      <td>21.736675</td>\n",
       "      <td>113.227263</td>\n",
       "      <td>1.768247</td>\n",
       "      <td>1.410414</td>\n",
       "      <td>3.736703</td>\n",
       "      <td>NaN</td>\n",
       "      <td>NaN</td>\n",
       "      <td>106.493388</td>\n",
       "      <td>95.442980</td>\n",
       "      <td>42.521743</td>\n",
       "      <td>NaN</td>\n",
       "      <td>NaN</td>\n",
       "      <td>NaN</td>\n",
       "      <td>NaN</td>\n",
       "    </tr>\n",
       "    <tr>\n",
       "      <th>min</th>\n",
       "      <td>NaN</td>\n",
       "      <td>0.103000</td>\n",
       "      <td>1.410000</td>\n",
       "      <td>1.000000</td>\n",
       "      <td>1.000000</td>\n",
       "      <td>1.000000</td>\n",
       "      <td>NaN</td>\n",
       "      <td>NaN</td>\n",
       "      <td>1.500000</td>\n",
       "      <td>2.000000</td>\n",
       "      <td>10.000000</td>\n",
       "      <td>NaN</td>\n",
       "      <td>NaN</td>\n",
       "      <td>NaN</td>\n",
       "      <td>NaN</td>\n",
       "    </tr>\n",
       "    <tr>\n",
       "      <th>25%</th>\n",
       "      <td>NaN</td>\n",
       "      <td>5.380000</td>\n",
       "      <td>142.140000</td>\n",
       "      <td>3.000000</td>\n",
       "      <td>3.000000</td>\n",
       "      <td>4.000000</td>\n",
       "      <td>NaN</td>\n",
       "      <td>NaN</td>\n",
       "      <td>4.000000</td>\n",
       "      <td>8.000000</td>\n",
       "      <td>35.000000</td>\n",
       "      <td>NaN</td>\n",
       "      <td>NaN</td>\n",
       "      <td>NaN</td>\n",
       "      <td>NaN</td>\n",
       "    </tr>\n",
       "    <tr>\n",
       "      <th>50%</th>\n",
       "      <td>NaN</td>\n",
       "      <td>7.000000</td>\n",
       "      <td>175.000000</td>\n",
       "      <td>4.000000</td>\n",
       "      <td>4.000000</td>\n",
       "      <td>5.000000</td>\n",
       "      <td>NaN</td>\n",
       "      <td>NaN</td>\n",
       "      <td>4.100000</td>\n",
       "      <td>10.000000</td>\n",
       "      <td>40.000000</td>\n",
       "      <td>NaN</td>\n",
       "      <td>NaN</td>\n",
       "      <td>NaN</td>\n",
       "      <td>NaN</td>\n",
       "    </tr>\n",
       "    <tr>\n",
       "      <th>75%</th>\n",
       "      <td>NaN</td>\n",
       "      <td>10.300000</td>\n",
       "      <td>217.190000</td>\n",
       "      <td>4.000000</td>\n",
       "      <td>4.000000</td>\n",
       "      <td>5.000000</td>\n",
       "      <td>NaN</td>\n",
       "      <td>NaN</td>\n",
       "      <td>5.000000</td>\n",
       "      <td>12.525000</td>\n",
       "      <td>52.000000</td>\n",
       "      <td>NaN</td>\n",
       "      <td>NaN</td>\n",
       "      <td>NaN</td>\n",
       "      <td>NaN</td>\n",
       "    </tr>\n",
       "    <tr>\n",
       "      <th>max</th>\n",
       "      <td>NaN</td>\n",
       "      <td>500.000000</td>\n",
       "      <td>1270.000000</td>\n",
       "      <td>10.000000</td>\n",
       "      <td>10.000000</td>\n",
       "      <td>66.000000</td>\n",
       "      <td>NaN</td>\n",
       "      <td>NaN</td>\n",
       "      <td>4000.000000</td>\n",
       "      <td>1900.000000</td>\n",
       "      <td>1298.000000</td>\n",
       "      <td>NaN</td>\n",
       "      <td>NaN</td>\n",
       "      <td>NaN</td>\n",
       "      <td>NaN</td>\n",
       "    </tr>\n",
       "  </tbody>\n",
       "</table>\n",
       "</div>"
      ],
      "text/plain": [
       "                                                     Link     Giá tổng  \\\n",
       "count                                                3973  3973.000000   \n",
       "unique                                               3973          NaN   \n",
       "top     https://www.nhatot.com/mua-ban-nha-dat-quan-ha...          NaN   \n",
       "freq                                                    1          NaN   \n",
       "mean                                                  NaN    11.049641   \n",
       "std                                                   NaN    21.736675   \n",
       "min                                                   NaN     0.103000   \n",
       "25%                                                   NaN     5.380000   \n",
       "50%                                                   NaN     7.000000   \n",
       "75%                                                   NaN    10.300000   \n",
       "max                                                   NaN   500.000000   \n",
       "\n",
       "             Giá/m²  Số phòng ngủ  Số phòng vệ sinh  Tổng số tầng  \\\n",
       "count   3973.000000   3973.000000       3973.000000   3973.000000   \n",
       "unique          NaN           NaN               NaN           NaN   \n",
       "top             NaN           NaN               NaN           NaN   \n",
       "freq            NaN           NaN               NaN           NaN   \n",
       "mean     197.491973      4.085074          3.943619      5.028190   \n",
       "std      113.227263      1.768247          1.410414      3.736703   \n",
       "min        1.410000      1.000000          1.000000      1.000000   \n",
       "25%      142.140000      3.000000          3.000000      4.000000   \n",
       "50%      175.000000      4.000000          4.000000      5.000000   \n",
       "75%      217.190000      4.000000          4.000000      5.000000   \n",
       "max     1270.000000     10.000000         10.000000     66.000000   \n",
       "\n",
       "       Giấy tờ pháp lý Loại hình nhà ở  Chiều ngang    Chiều dài  \\\n",
       "count             3973            3973  1548.000000   796.000000   \n",
       "unique               5               4          NaN          NaN   \n",
       "top           Đã có sổ    Nhà ngõ, hẻm          NaN          NaN   \n",
       "freq              3852            3130          NaN          NaN   \n",
       "mean               NaN             NaN     9.474412    17.527902   \n",
       "std                NaN             NaN   106.493388    95.442980   \n",
       "min                NaN             NaN     1.500000     2.000000   \n",
       "25%                NaN             NaN     4.000000     8.000000   \n",
       "50%                NaN             NaN     4.100000    10.000000   \n",
       "75%                NaN             NaN     5.000000    12.525000   \n",
       "max                NaN             NaN  4000.000000  1900.000000   \n",
       "\n",
       "        Diện tích đất Hướng cửa chính Tình trạng nội thất    Xã/Phường  \\\n",
       "count     3973.000000             397                3973         3973   \n",
       "unique            NaN               8                   4          226   \n",
       "top               NaN        Đông Nam     Nội thất đầy đủ  Khương Đình   \n",
       "freq              NaN             119                2324          105   \n",
       "mean        49.868865             NaN                 NaN          NaN   \n",
       "std         42.521743             NaN                 NaN          NaN   \n",
       "min         10.000000             NaN                 NaN          NaN   \n",
       "25%         35.000000             NaN                 NaN          NaN   \n",
       "50%         40.000000             NaN                 NaN          NaN   \n",
       "75%         52.000000             NaN                 NaN          NaN   \n",
       "max       1298.000000             NaN                 NaN          NaN   \n",
       "\n",
       "       Quận/Huyện  \n",
       "count        3973  \n",
       "unique         25  \n",
       "top     Hoàng Mai  \n",
       "freq          566  \n",
       "mean          NaN  \n",
       "std           NaN  \n",
       "min           NaN  \n",
       "25%           NaN  \n",
       "50%           NaN  \n",
       "75%           NaN  \n",
       "max           NaN  "
      ]
     },
     "execution_count": 146,
     "metadata": {},
     "output_type": "execute_result"
    }
   ],
   "source": [
    "df.describe(include='all')"
   ]
  },
  {
   "cell_type": "code",
   "execution_count": 147,
   "metadata": {},
   "outputs": [],
   "source": [
    "df.to_csv('nhao_preprocess.csv', index=False)"
   ]
  }
 ],
 "metadata": {
  "kernelspec": {
   "display_name": "base",
   "language": "python",
   "name": "python3"
  },
  "language_info": {
   "codemirror_mode": {
    "name": "ipython",
    "version": 3
   },
   "file_extension": ".py",
   "mimetype": "text/x-python",
   "name": "python",
   "nbconvert_exporter": "python",
   "pygments_lexer": "ipython3",
   "version": "3.11.4"
  }
 },
 "nbformat": 4,
 "nbformat_minor": 2
}
