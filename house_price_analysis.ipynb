{
 "cells": [
  {
   "cell_type": "markdown",
   "metadata": {},
   "source": [
    "## 1. Phân tích nhà ở"
   ]
  },
  {
   "cell_type": "code",
   "execution_count": 2,
   "metadata": {},
   "outputs": [
    {
     "name": "stdout",
     "output_type": "stream",
     "text": [
      "<class 'pandas.core.frame.DataFrame'>\n",
      "RangeIndex: 3973 entries, 0 to 3972\n",
      "Data columns (total 15 columns):\n",
      " #   Column               Non-Null Count  Dtype  \n",
      "---  ------               --------------  -----  \n",
      " 0   Link                 3973 non-null   object \n",
      " 1   Giá tổng             3973 non-null   float64\n",
      " 2   Giá/m²               3973 non-null   float64\n",
      " 3   Số phòng ngủ         3973 non-null   int64  \n",
      " 4   Số phòng vệ sinh     3973 non-null   int64  \n",
      " 5   Tổng số tầng         3973 non-null   int64  \n",
      " 6   Giấy tờ pháp lý      3973 non-null   object \n",
      " 7   Loại hình nhà ở      3973 non-null   object \n",
      " 8   Chiều ngang          1548 non-null   float64\n",
      " 9   Chiều dài            796 non-null    float64\n",
      " 10  Diện tích đất        3973 non-null   float64\n",
      " 11  Hướng cửa chính      397 non-null    object \n",
      " 12  Tình trạng nội thất  3973 non-null   object \n",
      " 13  Xã/Phường            3973 non-null   object \n",
      " 14  Quận/Huyện           3973 non-null   object \n",
      "dtypes: float64(5), int64(3), object(7)\n",
      "memory usage: 465.7+ KB\n"
     ]
    }
   ],
   "source": [
    "import pandas as pd\n",
    "\n",
    "df = pd.read_csv(r'D:\\WorkSpace_Thinh1\\crawl_visual\\data_proccessed\\nhao_preprocess.csv')\n",
    "df.info()"
   ]
  },
  {
   "cell_type": "markdown",
   "metadata": {},
   "source": [
    "## 2. Phân tích Chung cư"
   ]
  },
  {
   "cell_type": "code",
   "execution_count": 4,
   "metadata": {},
   "outputs": [
    {
     "name": "stdout",
     "output_type": "stream",
     "text": [
      "<class 'pandas.core.frame.DataFrame'>\n",
      "RangeIndex: 2263 entries, 0 to 2262\n",
      "Data columns (total 13 columns):\n",
      " #   Column               Non-Null Count  Dtype  \n",
      "---  ------               --------------  -----  \n",
      " 0   Link                 2263 non-null   object \n",
      " 1   Giá tổng             2263 non-null   float64\n",
      " 2   Giá/m²               2263 non-null   float64\n",
      " 3   Số phòng ngủ         2263 non-null   int64  \n",
      " 4   Số phòng vệ sinh     2263 non-null   int64  \n",
      " 5   Giấy tờ pháp lý      2263 non-null   object \n",
      " 6   Loại hình căn hộ     2263 non-null   object \n",
      " 7   Diện tích            2263 non-null   float64\n",
      " 8   Hướng cửa chính      526 non-null    object \n",
      " 9   Hướng ban công       596 non-null    object \n",
      " 10  Tình trạng nội thất  2263 non-null   object \n",
      " 11  Xã/Phường            2263 non-null   object \n",
      " 12  Quận/Huyện           2263 non-null   object \n",
      "dtypes: float64(3), int64(2), object(8)\n",
      "memory usage: 230.0+ KB\n"
     ]
    }
   ],
   "source": [
    "import pandas as pd\n",
    "\n",
    "df = pd.read_csv(r'D:\\WorkSpace_Thinh1\\crawl_visual\\data_proccessed\\chungcu_preprocess.csv')\n",
    "df.info()"
   ]
  },
  {
   "cell_type": "markdown",
   "metadata": {},
   "source": [
    "## 3. Phân tích đất thổ cư"
   ]
  },
  {
   "cell_type": "code",
   "execution_count": 3,
   "metadata": {},
   "outputs": [
    {
     "name": "stdout",
     "output_type": "stream",
     "text": [
      "<class 'pandas.core.frame.DataFrame'>\n",
      "RangeIndex: 1692 entries, 0 to 1691\n",
      "Data columns (total 11 columns):\n",
      " #   Column           Non-Null Count  Dtype  \n",
      "---  ------           --------------  -----  \n",
      " 0   Link             1692 non-null   object \n",
      " 1   Giá tổng         1692 non-null   float64\n",
      " 2   Giá/m²           1692 non-null   float64\n",
      " 3   Giấy tờ pháp lý  1692 non-null   object \n",
      " 4   Loại hình đất    1692 non-null   object \n",
      " 5   Chiều ngang      1092 non-null   float64\n",
      " 6   Chiều dài        827 non-null    float64\n",
      " 7   Diện tích đất    1692 non-null   float64\n",
      " 8   Hướng cửa chính  462 non-null    object \n",
      " 9   Xã/Phường        1690 non-null   object \n",
      " 10  Quận/Huyện       1692 non-null   object \n",
      "dtypes: float64(5), object(6)\n",
      "memory usage: 145.5+ KB\n"
     ]
    }
   ],
   "source": [
    "import pandas as pd\n",
    "\n",
    "df = pd.read_csv(r'D:\\WorkSpace_Thinh1\\crawl_visual\\data_proccessed\\datthocu_preprocess.csv')\n",
    "df.info()"
   ]
  }
 ],
 "metadata": {
  "kernelspec": {
   "display_name": "base",
   "language": "python",
   "name": "python3"
  },
  "language_info": {
   "codemirror_mode": {
    "name": "ipython",
    "version": 3
   },
   "file_extension": ".py",
   "mimetype": "text/x-python",
   "name": "python",
   "nbconvert_exporter": "python",
   "pygments_lexer": "ipython3",
   "version": "3.11.4"
  }
 },
 "nbformat": 4,
 "nbformat_minor": 2
}
